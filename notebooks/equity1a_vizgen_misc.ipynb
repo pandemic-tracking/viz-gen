{
  "nbformat": 4,
  "nbformat_minor": 0,
  "metadata": {
    "colab": {
      "name": "equity1a-vizgen-misc.ipynb",
      "provenance": [],
      "collapsed_sections": [],
      "mount_file_id": "1Ic46AwkBaeRtM6CdbPWNkM6qEAGX03Tq",
      "authorship_tag": "ABX9TyPvZdIZHQiUDWzjl5Pe5Vu+",
      "include_colab_link": true
    },
    "kernelspec": {
      "name": "python3",
      "display_name": "Python 3"
    },
    "language_info": {
      "name": "python"
    }
  },
  "cells": [
    {
      "cell_type": "markdown",
      "metadata": {
        "id": "view-in-github",
        "colab_type": "text"
      },
      "source": [
        "<a href=\"https://colab.research.google.com/github/pandemic-tracking/viz-gen/blob/main/notebooks/equity1a_vizgen_misc.ipynb\" target=\"_parent\"><img src=\"https://colab.research.google.com/assets/colab-badge.svg\" alt=\"Open In Colab\"/></a>"
      ]
    },
    {
      "cell_type": "markdown",
      "metadata": {
        "id": "yQkquoq-_HxT"
      },
      "source": [
        "# Import and set themes"
      ]
    },
    {
      "cell_type": "code",
      "metadata": {
        "id": "Gwdi4KBYGxje"
      },
      "source": [
        "import pandas as pd\n",
        "import numpy as np\n",
        "\n",
        "from datetime import datetime, timedelta\n",
        "import pytz\n",
        "\n",
        "import altair as alt\n",
        "from altair import datum\n",
        "alt.data_transformers.disable_max_rows()\n",
        "\n",
        "from pathlib import Path\n",
        "\n",
        "pd.set_option(\"display.precision\", 4)\n",
        "\n",
        "now_est = datetime.now().astimezone(pytz.timezone(\"US/Eastern\"))\n",
        "\n",
        "now_est_time = now_est.strftime(\"%Y-%m-%d, %H:%M:%S ET\")\n",
        "now_est_date = now_est.strftime(\"%Y-%m-%d\")\n",
        "now_est_timestamp = now_est.strftime(\"%Y%m%d_%H%M%S\")\n",
        "now_utc_timestamp = datetime.utcnow().strftime(\"%Y%m%d_%H%M%S\")\n",
        "print(now_est_time, now_est_date, now_est_timestamp, now_utc_timestamp)"
      ],
      "execution_count": null,
      "outputs": []
    },
    {
      "cell_type": "code",
      "metadata": {
        "id": "zLJ2rhtDGxjf"
      },
      "source": [
        "# adapting from https://towardsdatascience.com/consistently-beautiful-visualizations-with-altair-themes-c7f9f889602\n",
        "\n",
        "def ptc_theme():\n",
        "    axisColor = \"#808080\"\n",
        "    gridColor = \"#DEDDDD\"\n",
        "    markColor = \"#000000\"\n",
        "    font = 'Arial'\n",
        "    labelFont = 'Arial'\n",
        "    # Colors\n",
        "    # main_palette = [\"#1696d2\", \n",
        "    #                 \"#d2d2d2\",\n",
        "    #                 \"#000000\", \n",
        "    #                 \"#fdbf11\", \n",
        "    #                 \"#ec008b\", \n",
        "    #                 \"#55b748\", \n",
        "    #                 \"#5c5859\", \n",
        "    #                 \"#db2b27\", \n",
        "    #                ]\n",
        "    # sequential_palette = [\"#cfe8f3\", \n",
        "    #                       \"#a2d4ec\", \n",
        "    #                       \"#73bfe2\", \n",
        "    #                       \"#46abdb\", \n",
        "    #                       \"#1696d2\", \n",
        "    #                       \"#12719e\", \n",
        "    #                      ]\n",
        "    return {\n",
        "          \"config\": {\n",
        "              \"title\": {\n",
        "                  \"fontSize\": 16,\n",
        "                  \"font\": font,\n",
        "                  \"anchor\": \"start\", # equivalent of left-aligned.\n",
        "                  \"fontColor\": \"#000000\"\n",
        "              },\n",
        "              \"text\": {\n",
        "                  \"font\": font,\n",
        "                  \"labelFont\": labelFont,\n",
        "              },\n",
        "              \"header\": {\n",
        "                  \"font\": font,\n",
        "                  \"labelFont\": labelFont,\n",
        "                  \"titleFont\": font,\n",
        "              },\n",
        "              \"axisX\": {\n",
        "                  \"domain\": False,\n",
        "                  \"domainColor\": axisColor,\n",
        "                  \"labelColor\": axisColor,\n",
        "                  \"domainWidth\": 1,\n",
        "                  \"grid\": False,\n",
        "                  \"labelFont\": labelFont,\n",
        "                  \"labelFontSize\": 12,\n",
        "                  \"labelAngle\": 0, \n",
        "                  \"tickColor\": axisColor,\n",
        "                  \"tickSize\": 5, # default, including it just to show you can change it\n",
        "                  \"titleFont\": font,\n",
        "                  \"titleFontSize\": 12,\n",
        "                  \"titlePadding\": 10, # guessing, not specified in styleguide\n",
        "                  \"title\": \"X Axis Title (units)\", \n",
        "              },\n",
        "              \"axisY\": {\n",
        "                  \"domain\": False,\n",
        "                  \"grid\": True,\n",
        "                  \"gridColor\": gridColor,\n",
        "                  \"gridWidth\": 1,\n",
        "                  \"labelFont\": labelFont,\n",
        "                  \"labelColor\": axisColor,\n",
        "                  \"labelFontSize\": 12,\n",
        "                  \"labelAngle\": 0,\n",
        "                  \"labelAnchor\": \"end\",\n",
        "                  \"labelAlign\": \"right\",  \n",
        "                  \"ticks\": False, # even if you don't have a \"domain\" you need to turn these off.\n",
        "                  \"titleFont\": font,\n",
        "                  \"titleFontSize\": 12,\n",
        "                  \"titlePadding\": 10, # guessing, not specified in styleguide\n",
        "                  \"title\": \"Y Axis Title (units)\", \n",
        "                  # titles are by default vertical left of axis so we need to hack this \n",
        "                  \"titleAngle\": 0, # horizontal\n",
        "                  \"titleY\": -10, # move it up\n",
        "                  \"titleX\": 18, # move it to the right so it aligns with the labels \n",
        "              },\n",
        "            #   \"range\": {\n",
        "            #       \"category\": main_palette,\n",
        "            #       \"diverging\": sequential_palette,\n",
        "            #   },\n",
        "              \"legend\": {\n",
        "                  \"labelFont\": labelFont,\n",
        "                  \"labelFontSize\": 12,\n",
        "                  \"symbolType\": \"circle\", # just 'cause\n",
        "                  \"symbolSize\": 100, # default\n",
        "                  \"titleFont\": font,\n",
        "                  \"titleFontSize\": 12,\n",
        "                  \"title\": \"\", # set it to no-title by default\n",
        "                  \"orient\": \"right\", # so it's right next to the y-axis\n",
        "                  \"offset\": 0, # literally right next to the y-axis.\n",
        "              },\n",
        "              \"view\": {\n",
        "                  \"stroke\": \"transparent\", # altair uses gridlines to box the area where the data is visualized. This takes that off.\n",
        "              },\n",
        "        }\n",
        "    }\n",
        "\n",
        "alt.themes.register(\"my_custom_theme\", ptc_theme)\n",
        "alt.themes.enable(\"my_custom_theme\")"
      ],
      "execution_count": null,
      "outputs": []
    },
    {
      "cell_type": "markdown",
      "metadata": {
        "id": "yX7Wb9Uu_EHM"
      },
      "source": [
        "# Get input data"
      ]
    },
    {
      "cell_type": "code",
      "metadata": {
        "id": "g8N80ukQ9u0e"
      },
      "source": [
        "from bs4 import BeautifulSoup\n",
        "import requests\n",
        "import re\n",
        "import pandas as pd\n",
        "import datetime\n",
        "import sys\n",
        "import pytz\n",
        "\n",
        "\"\"\"Federal data combiner tool. Downloads federal testing, hospitalization, and case/death data and combines it\n",
        "into unified state-level output. \n",
        "\n",
        "This script outputs a csv file named federal-covid-data-DATE.csv and is intended to be run in the Google Colab \n",
        "environment, but passing the 'STDOUT' argument will output to STDOUT instead for command-line use.\n",
        "\n",
        "Note: We at The COVID Tracking Project will not be maintaining this script in the event that the federal data pages \n",
        "change in impactful ways. This is simply a set of instructions for interested data users.\n",
        "\n",
        "Changelog: \n",
        "2021-04-28: Added new age-disaggregated hospital admission data columns\n",
        "2021-03-15: Initial release\n",
        "\"\"\"\n",
        "\n",
        "HHS_TESTING_URL = \"https://www.healthdata.gov/api/views/j8mb-icvb/rows.csv?accessType=DOWNLOAD\"\n",
        "HHS_HOSPITALIZATION_URL = \"https://www.healthdata.gov/api/views/g62h-syeh/rows.csv?accessType=DOWNLOAD\"\n",
        "HHS_HOSPITALIZATION_REVISIONS_URL = \"https://www.healthdata.gov/api/views/4cnb-m4rz/rows.csv?accessType=DOWNLOAD\"\n",
        "CDC_CASE_DEATH_URL = \"https://data.cdc.gov/api/views/9mfq-cb36/rows.csv?accessType=DOWNLOAD\"\n",
        "\n",
        "COMBINE_NY_NYC = True\n",
        "\n",
        "\n",
        "def get_hospitalization_csv_urls():\n",
        "    \"\"\"get a set of recent revisions for the HHS hospitalizations-by-state dataset\"\"\"\n",
        "    revisions = pd.read_csv(HHS_HOSPITALIZATION_REVISIONS_URL)\n",
        "\n",
        "    revisions['Update Date'] = pd.to_datetime(revisions['Update Date'], format='%m/%d/%Y %H:%M:%S %p')\n",
        "    return revisions.sort_values(by=['Update Date']).tail(n=8)['Archive Link'].tolist()\n",
        "\n",
        "\n",
        "def get_hospitalization_dailies():\n",
        "    \"\"\"build a dataframe containing the combination of several days of recent HHS hospitalization daily data\"\"\"\n",
        "    csv_urls = get_hospitalization_csv_urls()\n",
        "    data_frames = []\n",
        "\n",
        "    for url in csv_urls:\n",
        "        data = pd.read_csv(url, parse_dates=['reporting_cutoff_start'])\n",
        "        # set each daily file's date to the reporting_cutoff_start date + 4 days\n",
        "        data['date'] = data['reporting_cutoff_start'] + pd.DateOffset(days=4)\n",
        "        data['date'] = data['date'].dt.date\n",
        "        data_frames.append(data)\n",
        "    hospitalization_dailies = pd.concat(data_frames)\n",
        "    return hospitalization_dailies\n",
        "\n",
        "\n",
        "def parse_dates(date_col):\n",
        "  if date_col.str.contains(\":\").any():\n",
        "    return pd.to_datetime(date_col, format='%m/%d/%Y %H:%M:%S %p').dt.date\n",
        "  else: \n",
        "    return pd.to_datetime(date_col, format='%Y-%m-%d').dt.date\n",
        "  \n",
        "\n",
        "# download and parse all three data files\n",
        "[testing, hospitalization, case_death] = [pd.read_csv(url) for url in\n",
        "                                          [HHS_TESTING_URL, HHS_HOSPITALIZATION_URL, CDC_CASE_DEATH_URL]]\n",
        "\n",
        "# testing data comes out with one row per state/date/outcome combination.\n",
        "# unpack that and squash it into one row per state/date only\n",
        "testing = testing.set_index(['state', 'date', 'overall_outcome']).unstack(level=-1)\n",
        "testing = testing[['new_results_reported', 'total_results_reported']]\n",
        "testing.columns = ['_'.join(tup).rstrip('_') for tup in testing.columns.values]\n",
        "testing = testing.reset_index()\n",
        "# allow for a choice of inconsistent datetime formats\n",
        "testing['date'] = parse_dates(testing['date'])\n",
        "\n",
        "# the HHS hospitalization time series is only updated weekly. To compensate, we download the latest daily data\n",
        "# and merge it on top of the weekly data, taking only the most recent values for a given state/date\n",
        "hospitalization['date'] = parse_dates(hospitalization['date'])\n",
        "hospitalization_dailies = get_hospitalization_dailies()\n",
        "# we want to use the HHS weekly time series up until its last day, then fill in the rest of the data from the daily\n",
        "# files. we overwrite the last day of the time series with the dailies because the dailies come out after the weekly\n",
        "hospitalization_dailies = hospitalization_dailies[hospitalization_dailies['date'] >= hospitalization['date'].max()]\n",
        "hospitalization.set_index(['state', 'date'])\n",
        "# don't break everything with missing values in geocoded_state\n",
        "hospitalization_dailies['geocoded_state'] = hospitalization_dailies['geocoded_state'].fillna(\"\")\n",
        "hospitalization['geocoded_state'] = hospitalization['geocoded_state'].fillna(\"\")\n",
        "# and merge the weekly and dailies\n",
        "hospitalization = hospitalization.merge(hospitalization_dailies, how='outer')\n",
        "# the keep='last' here keeps just the daily data when both duplicate weekly and daily data exist\n",
        "hospitalization = hospitalization.drop_duplicates(subset=['date', 'state'], keep='last', ignore_index=True)\n",
        "# select a subset of columns to include in the output\n",
        "hospitalization = hospitalization[[\n",
        "    'state',\n",
        "    'date', \n",
        "    'inpatient_beds_used_covid', \n",
        "    'total_adult_patients_hospitalized_confirmed_and_suspected_covid',\n",
        "    'total_adult_patients_hospitalized_confirmed_covid',\n",
        "    'total_pediatric_patients_hospitalized_confirmed_and_suspected_covid',\n",
        "    'total_pediatric_patients_hospitalized_confirmed_covid',\n",
        "    'staffed_icu_adult_patients_confirmed_and_suspected_covid',\n",
        "    'staffed_icu_adult_patients_confirmed_covid',\n",
        "    'previous_day_admission_adult_covid_confirmed', \n",
        "    'previous_day_admission_adult_covid_suspected',\n",
        "    'previous_day_admission_pediatric_covid_confirmed',\n",
        "    'previous_day_admission_pediatric_covid_suspected',\n",
        "    'inpatient_beds_used_covid_coverage',\n",
        "    'total_adult_patients_hospitalized_confirmed_and_suspected_covid_coverage',\n",
        "    'staffed_icu_adult_patients_confirmed_and_suspected_covid_coverage',\n",
        "    'previous_day_admission_adult_covid_confirmed_coverage',\n",
        "    'previous_day_admission_adult_covid_confirmed_18-19',\n",
        "    'previous_day_admission_adult_covid_confirmed_20-29',\n",
        "    'previous_day_admission_adult_covid_confirmed_30-39',\n",
        "    'previous_day_admission_adult_covid_confirmed_40-49',\n",
        "    'previous_day_admission_adult_covid_confirmed_50-59',\n",
        "    'previous_day_admission_adult_covid_confirmed_60-69',\n",
        "    'previous_day_admission_adult_covid_confirmed_70-79',\n",
        "    'previous_day_admission_adult_covid_confirmed_80+',\n",
        "    'previous_day_admission_adult_covid_confirmed_unknown',\n",
        "    'staffed_adult_icu_bed_occupancy',\n",
        "    'total_staffed_adult_icu_beds',\n",
        "    'deaths_covid',\n",
        "    ]]\n",
        "# HHS hospitalization data gets better on and after 7/15/20\n",
        "hospitalization = hospitalization[hospitalization['date'] >= datetime.date(year=2020,month=7,day=15)]\n",
        "\n",
        "# case/death data: pick a subset of columns and prepare to merge\n",
        "case_death = case_death[\n",
        "    ['submission_date', 'state', 'tot_cases', 'conf_cases', 'prob_cases', 'new_case', 'pnew_case', 'tot_death',\n",
        "     'conf_death', 'prob_death', 'new_death', 'pnew_death']]\n",
        "case_death = case_death.rename(columns={'submission_date': 'date'})\n",
        "# sum NY and NYC case/death data into one row\n",
        "if COMBINE_NY_NYC:\n",
        "  # set all NYC rows to NY, group and sum the NY rows, and combine with the rest of the rows\n",
        "  case_death.loc[case_death['state'] == 'NYC', ['state']] = 'NY'\n",
        "  NY_combined = case_death[case_death['state'] == 'NY'].groupby([\"date\", \"state\"]).sum()\n",
        "  case_death = NY_combined.reset_index().append(case_death[case_death['state'] != 'NY'])\n",
        "\n",
        "# merge all the dataframes together into one big combination\n",
        "combined = pd.merge(left=testing, right=hospitalization, on=['state', 'date'], how='outer')\n",
        "\n",
        "case_death['date'] = pd.to_datetime(case_death['date'], format='%m/%d/%Y')\n",
        "combined['date'] = pd.to_datetime(combined['date'], format='%Y-%m-%d')\n",
        "\n",
        "combined = combined.merge(case_death, on=['state', 'date'], how='outer')\n",
        "\n",
        "combined.sort_values(by=['date', 'state'], inplace=True, ignore_index=True)"
      ],
      "execution_count": null,
      "outputs": []
    },
    {
      "cell_type": "code",
      "metadata": {
        "id": "V3qG0U0UCY89"
      },
      "source": [
        "vax_df = pd.read_csv('https://data.cdc.gov/api/views/unsk-b7fc/rows.csv?accessType=DOWNLOAD', parse_dates=['Date'])\n",
        "vax_df"
      ],
      "execution_count": null,
      "outputs": []
    },
    {
      "cell_type": "code",
      "metadata": {
        "id": "A1GyY21WCmkS"
      },
      "source": [
        "combined_vax_df = pd.merge(combined[['state','date','previous_day_admission_adult_covid_confirmed','previous_day_admission_pediatric_covid_confirmed','new_case','new_death']],\n",
        "         vax_df[['Location','Date','Administered_Dose1_Recip_18PlusPop_Pct','Series_Complete_18PlusPop_Pct',\n",
        "                 'Administered_Dose1_Pop_Pct','Series_Complete_Pop_Pct',\n",
        "                 'Administered_Dose1_Recip','Series_Complete_Yes',\n",
        "                 'Administered',\n",
        "         ]],\n",
        "         how='left',\n",
        "         left_on=['state','date'],\n",
        "         right_on=['Location','Date']\n",
        "         )\n",
        "\n",
        "combined_vax_df.drop(['Location','Date'], axis=1, inplace=True)\n",
        "combined_vax_df['date_str'] = combined_vax_df['date'].astype('str')\n",
        "combined_vax_df"
      ],
      "execution_count": null,
      "outputs": []
    },
    {
      "cell_type": "code",
      "metadata": {
        "id": "9CojMhg3DXEo"
      },
      "source": [
        "cpr_url = 'https://beta.healthdata.gov/api/views/gqxm-d9w9/files/6723effd-0325-4f98-bed5-1218c25a5ab6?download=true&filename=Community%20Profile%20Report%2020210708.xlsx'\n",
        "cpr_df = pd.read_excel(cpr_url, sheet_name='States', header=1)\n",
        "cpr_df"
      ],
      "execution_count": null,
      "outputs": []
    },
    {
      "cell_type": "code",
      "metadata": {
        "id": "hA1SwGVyDZgd"
      },
      "source": [
        "combined_vax_df = pd.merge(combined_vax_df, cpr_df[['State Abbreviation','Population']], how='left', left_on='state', right_on='State Abbreviation')\n",
        "combined_vax_df"
      ],
      "execution_count": null,
      "outputs": []
    },
    {
      "cell_type": "code",
      "metadata": {
        "id": "96tU1XUfDdiy"
      },
      "source": [
        "def calc_rollingavg(df, col, days=7):\n",
        "  df = df.sort_values(['state','date'], ascending=True)\n",
        "  for state in df['state'].unique():\n",
        "    df.loc[df['state']==state,f'{col}_{days}davg'] = \\\n",
        "    df.loc[df['state']==state,f'{col}'].rolling(window=days, min_periods=6).mean()\n",
        "  \n",
        "  return df"
      ],
      "execution_count": null,
      "outputs": []
    },
    {
      "cell_type": "code",
      "metadata": {
        "id": "MK3U5V5UFDbK"
      },
      "source": [
        ""
      ],
      "execution_count": null,
      "outputs": []
    },
    {
      "cell_type": "markdown",
      "metadata": {
        "id": "9tmihIcR_MgC"
      },
      "source": [
        "# National overview of cases, vax administered, % of pop vaxxed"
      ]
    },
    {
      "cell_type": "code",
      "metadata": {
        "id": "cu0fiRU3HU7i"
      },
      "source": [
        "combined_vax_df"
      ],
      "execution_count": null,
      "outputs": []
    },
    {
      "cell_type": "code",
      "metadata": {
        "id": "DPB2lPxGGQEq"
      },
      "source": [
        "national_df = combined_vax_df.groupby(['date']).sum()[['new_case','previous_day_admission_adult_covid_confirmed','previous_day_admission_pediatric_covid_confirmed','Administered_Dose1_Recip','Series_Complete_Yes','Administered','Population']]\n",
        "national_df['new_admissions_confirmed'] = national_df[['previous_day_admission_adult_covid_confirmed','previous_day_admission_pediatric_covid_confirmed']].sum(axis=1)\n",
        "national_df['series_complete_percent'] = national_df['Series_Complete_Yes']/national_df['Population']\n",
        "national_df['firstdose_percent'] = national_df['Administered_Dose1_Recip']/national_df['Population']\n",
        "national_df.reset_index(inplace=True)"
      ],
      "execution_count": null,
      "outputs": []
    },
    {
      "cell_type": "code",
      "metadata": {
        "id": "BRZyE9EXHy7P"
      },
      "source": [
        "national_df['new_doses'] = national_df['Administered'].diff()"
      ],
      "execution_count": null,
      "outputs": []
    },
    {
      "cell_type": "code",
      "metadata": {
        "id": "dgxfrrXIFPZi"
      },
      "source": [
        "days=7\n",
        "for col in ['new_case','new_admissions_confirmed','new_doses']:\n",
        "    national_df.loc[:,f'{col}_{days}davg'] = national_df.loc[:,f'{col}'].rolling(window=days, min_periods=7).mean()"
      ],
      "execution_count": null,
      "outputs": []
    },
    {
      "cell_type": "code",
      "metadata": {
        "id": "PDL3gkNQD8La"
      },
      "source": [
        "national_df"
      ],
      "execution_count": null,
      "outputs": []
    },
    {
      "cell_type": "code",
      "metadata": {
        "id": "N091OlqzFNY5"
      },
      "source": [
        "source = national_df[(national_df['date']>='2021-01-01')&(national_df['date']<now_est_date)]\n",
        "\n",
        "base_national = alt.Chart(source).encode(\n",
        "    x=alt.X('date:T', title=None, axis=alt.Axis(grid=False, tickCount=10)),\n",
        ").properties(width=1100, height=150)\n",
        "\n",
        "case_bars = base_national.mark_bar(opacity=0.8, width=1, color='#D67300').encode(\n",
        "    y='new_case'\n",
        ")\n",
        "\n",
        "case_lines = base_national.mark_line(color='#D67300').encode(\n",
        "    y='new_case_7davg'\n",
        ").properties(title='New Cases by Day')\n",
        "\n",
        "admits_bars = base_national.mark_bar(opacity=0.8, width=1, color='#D67300').encode(\n",
        "    y='new_admissions_confirmed'\n",
        ")\n",
        "\n",
        "admits_lines = base_national.mark_line(color='orange').encode(\n",
        "    y='new_admissions_confirmed_7davg'\n",
        ").properties(title='New Hospital Admissions by Day')\n",
        "\n",
        "\n",
        "vaxcomplete_bars = base_national.mark_bar(opacity=0.5, width=5, color='green').encode(\n",
        "    y='series_complete_percent'\n",
        ")\n",
        "\n",
        "vaxstarted_bars = base_national.mark_bar(opacity=0.5, width=5, color='green').encode(\n",
        "    y=alt.Y('firstdose_percent', axis=alt.Axis(format='.0%'), scale=alt.Scale(domain=[0,.6])),\n",
        ").properties(title='% of USA Total Population Vaccinated')\n",
        "\n",
        "vaxadmin_bars = base_national.mark_bar(opacity=0.5, width=1, color='teal').encode(\n",
        "    y='new_doses:Q'\n",
        ")\n",
        "\n",
        "vaxadmin_lines = base_national.mark_line(color='teal').encode(\n",
        "    y='new_doses_7davg:Q'\n",
        ").properties(title='New Vaccine Doses Administered by Day')\n",
        "\n",
        "viz_1 = ((case_bars+case_lines) & (vaxadmin_bars+vaxadmin_lines) & (vaxcomplete_bars+vaxstarted_bars)).configure_title(\n",
        "    # titleAngle=0, \n",
        "    dx=-55,\n",
        "    dy=-35,\n",
        "    orient='none',\n",
        "    align='left'\n",
        ")\n",
        "\n",
        "viz_1"
      ],
      "execution_count": null,
      "outputs": []
    },
    {
      "cell_type": "markdown",
      "metadata": {
        "id": "6JMnF4sy_OrJ"
      },
      "source": [
        "# Cases, Admits, Deaths per 100k by State timeseries line plots\n",
        "\n"
      ]
    },
    {
      "cell_type": "code",
      "metadata": {
        "id": "u6oiAe1g4Rvg"
      },
      "source": [
        "combined_vax_df['confirmed_admits'] = combined_vax_df['previous_day_admission_adult_covid_confirmed']+combined_vax_df['previous_day_admission_pediatric_covid_confirmed']"
      ],
      "execution_count": null,
      "outputs": []
    },
    {
      "cell_type": "code",
      "metadata": {
        "id": "EK5cblHTFK-J"
      },
      "source": [
        "source_2 = combined_vax_df[['date','state','new_case','new_death','confirmed_admits','Population']]"
      ],
      "execution_count": null,
      "outputs": []
    },
    {
      "cell_type": "code",
      "metadata": {
        "id": "3u41f6mBFJZ6"
      },
      "source": [
        "source_2 = calc_rollingavg(source_2, 'new_case')\n",
        "source_2 = calc_rollingavg(source_2, 'new_death')\n",
        "source_2 = calc_rollingavg(source_2, 'confirmed_admits')"
      ],
      "execution_count": null,
      "outputs": []
    },
    {
      "cell_type": "code",
      "metadata": {
        "id": "4WGeRlCqwe8f"
      },
      "source": [
        "for col in ['confirmed_admits_7davg','new_case_7davg','new_death_7davg']:\n",
        "  source_2[f'{col}_per100k'] = source_2[f'{col}']/(source_2['Population']/1e5)"
      ],
      "execution_count": null,
      "outputs": []
    },
    {
      "cell_type": "code",
      "metadata": {
        "id": "3Y9SUR2rwyUc"
      },
      "source": [
        "source_2"
      ],
      "execution_count": null,
      "outputs": []
    },
    {
      "cell_type": "code",
      "metadata": {
        "id": "ED75i7j2-q6q"
      },
      "source": [
        "col_suffix = '_7davg_per100k'\n",
        "axis_format = '.1f'\n",
        "title_modifier = 'per 100k Population'\n",
        "\n",
        "color_range = ['#FF6B00','#34840F','#4C78A8','#00AFA7','#C3359B']\n",
        "color_domain = ['LA','TN','AK','FL','KY']\n",
        "state_init = [{'state':s} for s in color_domain]\n",
        "\n",
        "new_source = source_2[(source_2['date']>='2021-01-01')&(source_2['date']<now_est_date)\n",
        "                                &(~source_2['state'].isin(['VI','GU','MP','AS','FSM','RMI',]))][['state','date',f'confirmed_admits{col_suffix}',f'new_case{col_suffix}', f'new_death{col_suffix}']]\n",
        "new_source.replace(np.inf,np.nan, inplace=True)\n",
        "\n",
        "select_states = alt.selection_multi(fields=['state'], bind='legend', init=state_init)\n",
        "\n",
        "new_base = alt.Chart(new_source).encode(\n",
        "    x='date:T',\n",
        "    stroke=alt.condition(select_states, alt.Stroke('state:O',  legend=None,#alt.Legend(columns=2, symbolLimit=0, title='State'),  \n",
        "                                                   scale=alt.Scale(range=color_range, domain=color_domain)), alt.value('lightgrey')),\n",
        "    strokeWidth=alt.condition(select_states, alt.value(3), alt.value(0.3)),    \n",
        "    tooltip=['state']\n",
        ").properties(height=550, width=320)\n",
        "\n",
        "# plot 1\n",
        "new_cases = new_base.mark_line(opacity=0.8,).encode(\n",
        "    y=alt.Y(f'new_case{col_suffix}', axis=alt.Axis(format=axis_format, tickCount=7, ), scale=alt.Scale(domain=[0,np.nanmax(new_source[f'new_case{col_suffix}'].values)])),\n",
        ").interactive(bind_x=False).properties(title=f'New Cases, {title_modifier}')\n",
        "\n",
        "# plot 2\n",
        "new_admits = new_base.mark_line(opacity=0.8).encode(\n",
        "    y=alt.Y(f'confirmed_admits{col_suffix}', axis=alt.Axis(format=axis_format, tickCount=7, ), scale=alt.Scale(domain=[0,new_source[f'confirmed_admits{col_suffix}'].max()]))\n",
        ").interactive(bind_x=False).properties(title=f'New Hospitalizations, {title_modifier}')\n",
        "\n",
        "# plot 3\n",
        "new_deaths = new_base.mark_line(opacity=0.8,clip=True).encode(\n",
        "    y=alt.Y(f'new_death{col_suffix}', axis=alt.Axis(format=axis_format, tickCount=7, ), scale=alt.Scale(domain=[0,new_source[f'new_death{col_suffix}'].max()])),\n",
        ").interactive(bind_x=False).properties(title=f'New Deaths, {title_modifier}')\n",
        "\n",
        "viz_2 = (new_cases | new_admits | new_deaths).add_selection(select_states).configure_title(\n",
        "    # titleAngle=0, \n",
        "    dx=-35,\n",
        "    dy=-35,\n",
        "    orient='none',\n",
        "    align='left'\n",
        ")\n",
        "\n",
        "viz_2"
      ],
      "execution_count": null,
      "outputs": []
    },
    {
      "cell_type": "markdown",
      "metadata": {
        "id": "2KZoXJrP_Rtr"
      },
      "source": [
        "# Save all to drive"
      ]
    },
    {
      "cell_type": "code",
      "metadata": {
        "id": "6M1jlKxUG4my"
      },
      "source": [
        "# this is for saving altair charts to png and svg, based on https://colab.research.google.com/github/altair-viz/altair_saver/blob/master/AltairSaver.ipynb#scrollTo=ZiTDBCAM_Ni8\n",
        "!pip install -q altair_saver\n",
        "!npm install --silent vega-lite vega-cli canvas"
      ],
      "execution_count": null,
      "outputs": []
    },
    {
      "cell_type": "code",
      "metadata": {
        "id": "sWncwE8rG4my"
      },
      "source": [
        "from pathlib import Path\n",
        "from altair_saver import save\n",
        "\n",
        "SAVE_PATH = Path('assets')\n",
        "SAVE_PATH.mkdir(exist_ok=True)\n",
        "\n",
        "# Import PyDrive and associated libraries.\n",
        "# This only needs to be done once per notebook.\n",
        "from pydrive.auth import GoogleAuth\n",
        "from pydrive.drive import GoogleDrive\n",
        "from google.colab import auth\n",
        "from oauth2client.client import GoogleCredentials\n",
        "\n",
        "# Authenticate and create the PyDrive client.\n",
        "# This only needs to be done once per notebook.\n",
        "auth.authenticate_user()\n",
        "gauth = GoogleAuth()\n",
        "gauth.credentials = GoogleCredentials.get_application_default()\n",
        "gdrive = GoogleDrive(gauth)"
      ],
      "execution_count": null,
      "outputs": []
    },
    {
      "cell_type": "code",
      "metadata": {
        "id": "-Yx8Hpm0G4my"
      },
      "source": [
        "def assets_to_gdrive(folder_name, localdir_path = SAVE_PATH, parentdir_id='17Kx2uZbQv1r5U1M9x_OXS4lpMU5c6Ym8'):\n",
        "  # search gdrive for snapshot folder and save assets there if it already exists. \n",
        "  folder_id = ''\n",
        "  file_list = gdrive.ListFile({'q': f\"'{parentdir_id}' in parents and mimeType = 'application/vnd.google-apps.folder' and trashed=false\"}).GetList()\n",
        "  for file1 in file_list:\n",
        "      if file1['title'] == folder_name: \n",
        "        folder_id = file1['id']\n",
        "        print(f'Found pre-existing gdrive folder named \"{folder_name}\" at',folder_id)\n",
        "  # if not, create new folder\n",
        "  if folder_id == '':\n",
        "    folder = gdrive.CreateFile(metadata={'title': folder_name,\n",
        "                                      'parents':[{'id': parentdir_id}],\n",
        "                                      \"mimeType\": \"application/vnd.google-apps.folder\"\n",
        "                                      })\n",
        "    folder.Upload()\n",
        "    folder_id = folder.get('id')\n",
        "    print(f'Created new gdrive folder named \"{folder_name}\" at',folder_id)\n",
        "  \n",
        "  # upload all files within SAVE_PATH to snapshot folder\n",
        "  for asset_file in localdir_path.iterdir():\n",
        "    file_path = localdir_path/asset_file.name\n",
        "    file1 = gdrive.CreateFile(metadata={'title':asset_file.name,\n",
        "                                        'parents':[{'id': folder_id}],\n",
        "                                        })\n",
        "    file1.SetContentFile(file_path)\n",
        "    file1.Upload()\n",
        "    print('Saved file: ',asset_file.name)\n"
      ],
      "execution_count": null,
      "outputs": []
    },
    {
      "cell_type": "code",
      "metadata": {
        "id": "srriSO0YG4mz"
      },
      "source": [
        "def save_vizassets(chart, save_path, filename, fmts=['html','json','png','svg','pdf']):\n",
        "  for fmt in fmts:\n",
        "    save(chart, f'{save_path}/{filename}.{fmt}')"
      ],
      "execution_count": null,
      "outputs": []
    },
    {
      "cell_type": "code",
      "metadata": {
        "id": "pDjPd6rRG4mz"
      },
      "source": [
        "# put your stuff (i.e. dataframes, altair charts, input data files) to save here"
      ],
      "execution_count": null,
      "outputs": []
    },
    {
      "cell_type": "code",
      "metadata": {
        "id": "HpkimlPqG4mz"
      },
      "source": [
        "# examples:\n",
        "\n",
        "# cpr_df.to_csv(SAVE_PATH/'cpr_df.csv')\n",
        "# source_concat.to_csv(SAVE_PATH/'source_concat.csv')\n",
        "# save_vizassets(state_vax_scatter, SAVE_PATH, f'state_vax_scatter_{now_utc_timestamp}')\n",
        "\n",
        "combined_vax_df.to_csv(SAVE_PATH/'combined_vax_df.csv')\n",
        "save_vizassets(viz_1, SAVE_PATH, f'viz_1_{now_utc_timestamp}')\n",
        "save_vizassets(viz_2, SAVE_PATH, f'viz_2_{now_utc_timestamp}')"
      ],
      "execution_count": null,
      "outputs": []
    },
    {
      "cell_type": "code",
      "metadata": {
        "id": "CmeK9WtcG4mz"
      },
      "source": [
        "# get the colab filename\n",
        "from requests import get\n",
        "nb_name = get('http://172.28.0.2:9000/api/sessions').json()[0]['name'].replace('.ipynb','')\n",
        "nb_id = get('http://172.28.0.2:9000/api/sessions').json()[0]['notebook']['path'].replace('fileId=','')\n",
        "\n",
        "print(SAVE_PATH, nb_name, now_utc_timestamp, nb_id)\n",
        "\n",
        "# create a snapshot of this currently running notebook and save to SAVE_PATH\n",
        "downloaded_nb = gdrive.CreateFile({'id':nb_id})   # replace the id with id of file you want to access\n",
        "downloaded_nb.GetContentFile(SAVE_PATH/f'{nb_name}_{now_utc_timestamp}.ipynb')"
      ],
      "execution_count": null,
      "outputs": []
    },
    {
      "cell_type": "code",
      "metadata": {
        "id": "fT0Uj9fsG4mz"
      },
      "source": [
        "# upload everything to gdrive\n",
        "assets_to_gdrive(folder_name=f'{nb_name}_{now_utc_timestamp}')"
      ],
      "execution_count": null,
      "outputs": []
    }
  ]
}