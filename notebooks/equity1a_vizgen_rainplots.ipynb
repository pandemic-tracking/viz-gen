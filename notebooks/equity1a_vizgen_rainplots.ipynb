{
  "nbformat": 4,
  "nbformat_minor": 0,
  "metadata": {
    "colab": {
      "name": "equity1a-vizgen-rainplots.ipynb",
      "provenance": [],
      "collapsed_sections": []
    },
    "kernelspec": {
      "name": "python3",
      "display_name": "Python 3"
    },
    "language_info": {
      "name": "python"
    }
  },
  "cells": [
    {
      "cell_type": "code",
      "metadata": {
        "id": "kRTT8q8GZr3t"
      },
      "source": [
        "import pandas as pd\n",
        "import numpy as np\n",
        "\n",
        "from datetime import datetime, timedelta\n",
        "import pytz\n",
        "\n",
        "import altair as alt\n",
        "from altair import datum\n",
        "alt.data_transformers.disable_max_rows()\n",
        "\n",
        "from pathlib import Path\n",
        "\n",
        "pd.set_option(\"display.precision\", 4)\n",
        "\n",
        "now_est = datetime.now().astimezone(pytz.timezone(\"US/Eastern\"))\n",
        "\n",
        "now_est_time = now_est.strftime(\"%Y-%m-%d, %H:%M:%S ET\")\n",
        "now_est_date = now_est.strftime(\"%Y-%m-%d\")\n",
        "now_est_timestamp = now_est.strftime(\"%Y%m%d_%H%M%S\")\n",
        "now_utc_timestamp = datetime.utcnow().strftime(\"%Y%m%d_%H%M%S\")\n",
        "print(now_est_time, now_est_date, now_est_timestamp, now_utc_timestamp)"
      ],
      "execution_count": null,
      "outputs": []
    },
    {
      "cell_type": "code",
      "metadata": {
        "id": "Cdplm6PUZr3u"
      },
      "source": [
        "# adapting from https://towardsdatascience.com/consistently-beautiful-visualizations-with-altair-themes-c7f9f889602\n",
        "\n",
        "def ptc_theme():\n",
        "    axisColor = \"#808080\"\n",
        "    gridColor = \"#DEDDDD\"\n",
        "    markColor = \"#000000\"\n",
        "    font = 'Arial'\n",
        "    labelFont = 'Arial'\n",
        "    # Colors\n",
        "    # main_palette = [\"#1696d2\", \n",
        "    #                 \"#d2d2d2\",\n",
        "    #                 \"#000000\", \n",
        "    #                 \"#fdbf11\", \n",
        "    #                 \"#ec008b\", \n",
        "    #                 \"#55b748\", \n",
        "    #                 \"#5c5859\", \n",
        "    #                 \"#db2b27\", \n",
        "    #                ]\n",
        "    # sequential_palette = [\"#cfe8f3\", \n",
        "    #                       \"#a2d4ec\", \n",
        "    #                       \"#73bfe2\", \n",
        "    #                       \"#46abdb\", \n",
        "    #                       \"#1696d2\", \n",
        "    #                       \"#12719e\", \n",
        "    #                      ]\n",
        "    return {\n",
        "          \"config\": {\n",
        "              \"title\": {\n",
        "                  \"fontSize\": 16,\n",
        "                  \"font\": font,\n",
        "                  \"anchor\": \"start\", # equivalent of left-aligned.\n",
        "                  \"fontColor\": \"#000000\"\n",
        "              },\n",
        "              \"text\": {\n",
        "                  \"font\": font,\n",
        "                  \"labelFont\": labelFont,\n",
        "              },\n",
        "              \"header\": {\n",
        "                  \"font\": font,\n",
        "                  \"labelFont\": labelFont,\n",
        "                  \"titleFont\": font,\n",
        "              },\n",
        "              \"axisX\": {\n",
        "                  \"domain\": False,\n",
        "                  \"domainColor\": axisColor,\n",
        "                  \"labelColor\": axisColor,\n",
        "                  \"domainWidth\": 1,\n",
        "                  \"grid\": False,\n",
        "                  \"labelFont\": labelFont,\n",
        "                  \"labelFontSize\": 12,\n",
        "                  \"labelAngle\": 0, \n",
        "                  \"tickColor\": axisColor,\n",
        "                  \"tickSize\": 5, # default, including it just to show you can change it\n",
        "                  \"titleFont\": font,\n",
        "                  \"titleFontSize\": 12,\n",
        "                  \"titlePadding\": 10, # guessing, not specified in styleguide\n",
        "                  \"title\": \"X Axis Title (units)\", \n",
        "              },\n",
        "              \"axisY\": {\n",
        "                  \"domain\": False,\n",
        "                  \"grid\": True,\n",
        "                  \"gridColor\": gridColor,\n",
        "                  \"gridWidth\": 1,\n",
        "                  \"labelFont\": labelFont,\n",
        "                  \"labelColor\": axisColor,\n",
        "                  \"labelFontSize\": 12,\n",
        "                  \"labelAngle\": 0,\n",
        "                  \"labelAnchor\": \"end\",\n",
        "                  \"labelAlign\": \"right\",  \n",
        "                  \"ticks\": False, # even if you don't have a \"domain\" you need to turn these off.\n",
        "                  \"titleFont\": font,\n",
        "                  \"titleFontSize\": 12,\n",
        "                  \"titlePadding\": 10, # guessing, not specified in styleguide\n",
        "                  \"title\": \"Y Axis Title (units)\", \n",
        "                  # titles are by default vertical left of axis so we need to hack this \n",
        "                  \"titleAngle\": 0, # horizontal\n",
        "                  \"titleY\": -10, # move it up\n",
        "                  \"titleX\": 18, # move it to the right so it aligns with the labels \n",
        "              },\n",
        "            #   \"range\": {\n",
        "            #       \"category\": main_palette,\n",
        "            #       \"diverging\": sequential_palette,\n",
        "            #   },\n",
        "              \"legend\": {\n",
        "                  \"labelFont\": labelFont,\n",
        "                  \"labelFontSize\": 12,\n",
        "                  \"symbolType\": \"circle\", # just 'cause\n",
        "                  \"symbolSize\": 100, # default\n",
        "                  \"titleFont\": font,\n",
        "                  \"titleFontSize\": 12,\n",
        "                  \"title\": \"\", # set it to no-title by default\n",
        "                  \"orient\": \"right\", # so it's right next to the y-axis\n",
        "                  \"offset\": 0, # literally right next to the y-axis.\n",
        "              },\n",
        "              \"view\": {\n",
        "                  \"stroke\": \"transparent\", # altair uses gridlines to box the area where the data is visualized. This takes that off.\n",
        "              },\n",
        "        }\n",
        "    }\n",
        "\n",
        "alt.themes.register(\"my_custom_theme\", ptc_theme)\n",
        "alt.themes.enable(\"my_custom_theme\")"
      ],
      "execution_count": null,
      "outputs": []
    },
    {
      "cell_type": "markdown",
      "metadata": {
        "id": "-lWTNzhFZojk"
      },
      "source": [
        "# Get Data"
      ]
    },
    {
      "cell_type": "code",
      "metadata": {
        "id": "9m6_2gJTZnS1"
      },
      "source": [
        "from bs4 import BeautifulSoup\n",
        "import requests\n",
        "import re\n",
        "import pandas as pd\n",
        "\n",
        "req = requests.get('https://www.healthdata.gov/Health/COVID-19-Community-Profile-Report/gqxm-d9w9')\n",
        "soup = BeautifulSoup(req.content, 'html.parser')\n",
        "script = soup.find_all('script', type='text/javascript')[6]"
      ],
      "execution_count": null,
      "outputs": []
    },
    {
      "cell_type": "code",
      "metadata": {
        "id": "-4J_MSPVZnS3"
      },
      "source": [
        "re_results = re.findall(r'\"name\":\"Community_Profile_Report_\\d*_Public.xlsx\",\"href\":\"\\/api\\/views\\/gqxm-d9w9\\/files\\/\\w*-\\w*-\\w*-\\w*-\\w*.*?download=true', str(script))"
      ],
      "execution_count": null,
      "outputs": []
    },
    {
      "cell_type": "code",
      "metadata": {
        "id": "gJkLQjxmZnS3"
      },
      "source": [
        "cpr_url_list = ['https://www.healthdata.gov'+s.split('\"href\":\"')[-1]\\\n",
        "                +'&filename=CPR_'+s.split('Community_Profile_Report_')[-1][:8]\\\n",
        "                +'.xlsx' for s in sorted(re_results, reverse=True)]\n",
        "cpr_url_list[:10]"
      ],
      "execution_count": null,
      "outputs": []
    },
    {
      "cell_type": "code",
      "metadata": {
        "id": "Prjnoni7ZnS4"
      },
      "source": [
        "cpr_url = cpr_url_list[0]\n",
        "cpr_df = pd.read_excel(cpr_url, sheet_name='Counties', header=1)\n",
        "cpr_df['fips_code'] = cpr_county_df['FIPS code'].astype(str).apply(lambda x: x.zfill(5))"
      ],
      "execution_count": null,
      "outputs": []
    },
    {
      "cell_type": "code",
      "metadata": {
        "id": "X9Qas4Vtgscw"
      },
      "source": [
        "cpr_df"
      ],
      "execution_count": null,
      "outputs": []
    },
    {
      "cell_type": "code",
      "metadata": {
        "id": "BCbipN3HkTf2"
      },
      "source": [
        "cpr_state_df = pd.read_excel(cpr_url, sheet_name='States', header=1)\n",
        "cpr_state_df"
      ],
      "execution_count": null,
      "outputs": []
    },
    {
      "cell_type": "code",
      "metadata": {
        "id": "i7hFak8BwDDi"
      },
      "source": [
        "tx_url = 'https://dshs.texas.gov/immunize/covid19/COVID-19-Vaccine-Data-by-County.xls'\n",
        "tx_df = pd.read_excel(tx_url, sheet_name='By County', header=0)\n",
        "tx_df"
      ],
      "execution_count": null,
      "outputs": []
    },
    {
      "cell_type": "code",
      "metadata": {
        "id": "vPDovlqiwyxr"
      },
      "source": [
        "tx_df['County'] = tx_df['County Name'].apply(lambda x: str(x)+' County, TX')"
      ],
      "execution_count": null,
      "outputs": []
    },
    {
      "cell_type": "code",
      "metadata": {
        "id": "2RSGvUNyxEDY"
      },
      "source": [
        "tx_df.columns"
      ],
      "execution_count": null,
      "outputs": []
    },
    {
      "cell_type": "code",
      "metadata": {
        "id": "vqwXINNzypkX"
      },
      "source": [
        "cpr_state_df[cpr_state_df['State Abbreviation']=='TX']"
      ],
      "execution_count": null,
      "outputs": []
    },
    {
      "cell_type": "code",
      "metadata": {
        "id": "FBTCZu0Zxj4I"
      },
      "source": [
        "cpr_df = pd.merge(cpr_df, tx_df[['County','People Fully Vaccinated']], how='left')\n",
        "cpr_df.loc[cpr_df['State Abbreviation']=='TX', 'People who are fully vaccinated as % of total population'] = cpr_df[cpr_df['State Abbreviation']=='TX']['People Fully Vaccinated']/cpr_df[cpr_df['State Abbreviation']=='TX']['Population']"
      ],
      "execution_count": null,
      "outputs": []
    },
    {
      "cell_type": "code",
      "metadata": {
        "id": "KkM3O4fxwC9r"
      },
      "source": [
        "cpr_df[cpr_df['State Abbreviation']=='TX'][['County','People who are fully vaccinated as % of population - ages 12+']]"
      ],
      "execution_count": null,
      "outputs": []
    },
    {
      "cell_type": "code",
      "metadata": {
        "id": "qwu8i2vFg51W"
      },
      "source": [
        "source = cpr_df[['County','fips_code','CBSA','State Abbreviation','Population',\n",
        "                 'People who are fully vaccinated as % of population - ages 12+',\n",
        "                 'People who are fully vaccinated as % of total population',\n",
        "                 'People who are fully vaccinated as % of population - ages 65+',\n",
        "                 'County type'\n",
        "                 ]]"
      ],
      "execution_count": null,
      "outputs": []
    },
    {
      "cell_type": "code",
      "metadata": {
        "id": "i9ZBSmUNiJWx"
      },
      "source": [
        "def calc_jitter(seed):\n",
        "  np.random.seed(seed)\n",
        "  return np.random.normal(scale=0.25)"
      ],
      "execution_count": null,
      "outputs": []
    },
    {
      "cell_type": "code",
      "metadata": {
        "id": "T5INW_aNj7v3"
      },
      "source": [
        "jitter_dict = {k:calc_jitter(i) for i,k in enumerate(source['fips_code'].unique())}\n",
        "jitter_dict"
      ],
      "execution_count": null,
      "outputs": []
    },
    {
      "cell_type": "code",
      "metadata": {
        "id": "uK7N4K7Yk7LE"
      },
      "source": [
        "source['jitter'] = source['fips_code'].apply(lambda x: jitter_dict[x])"
      ],
      "execution_count": null,
      "outputs": []
    },
    {
      "cell_type": "code",
      "metadata": {
        "id": "POJaj3vrnfzF"
      },
      "source": [
        "source = source[~source['State Abbreviation'].isin(['GA','VA','WV','HI','VT'])]"
      ],
      "execution_count": null,
      "outputs": []
    },
    {
      "cell_type": "code",
      "metadata": {
        "id": "bF3Gbl2BosVB"
      },
      "source": [
        "census_divisions_dict = {\n",
        "'Northeast (New England)' : ['CT','ME','MA','NH','RI','VT'],\n",
        "'Northeast (Mid-Atlantic)' : ['NJ','NY','PA'],\n",
        "'Midwest (East North Central)' : ['IN','IL','MI','OH','WI'],\n",
        "'Midwest (West North Central)' : ['IA','KS','MN','MO','NE','ND','SD'],\n",
        "'South (South Atlantic)' : ['DE','MD','DC','VA','WV','NC','SC','GA','FL'],\n",
        "'South (East South Central)' : ['AL','KY','MS','TN'],\n",
        "'South (West South Central)' : ['AR','LA','OK','TX'],\n",
        "'West (Mountain)' : ['AZ','CO','ID','NM','MT','UT','NV','WY'],\n",
        "'West (Pacific)' : ['AK','CA','HI','OR','WA']\n",
        "}"
      ],
      "execution_count": null,
      "outputs": []
    },
    {
      "cell_type": "code",
      "metadata": {
        "id": "Hd_oLO3AURuO"
      },
      "source": [
        "region_northeast = census_divisions_dict['Northeast (New England)'] + census_divisions_dict['Northeast (Mid-Atlantic)']\n",
        "region_midwest = census_divisions_dict['Midwest (East North Central)'] + census_divisions_dict['Midwest (West North Central)']\n",
        "region_south = census_divisions_dict['South (South Atlantic)'] + census_divisions_dict['South (East South Central)'] + census_divisions_dict['South (West South Central)']\n",
        "region_west = census_divisions_dict['West (Mountain)'] + census_divisions_dict['West (Pacific)']"
      ],
      "execution_count": null,
      "outputs": []
    },
    {
      "cell_type": "code",
      "metadata": {
        "id": "Uwr7wUX6UwwA"
      },
      "source": [
        "def assign_region(row, state_col='state'):\n",
        "    if row[state_col] in region_northeast:\n",
        "        return '1-Northeast'\n",
        "    elif row[state_col] in region_midwest: return '3-Midwest'\n",
        "    elif row[state_col] in region_south: return '2-South'\n",
        "    elif row[state_col] in region_west: return '4-West'\n",
        "    else: return '5-Other'\n",
        "    "
      ],
      "execution_count": null,
      "outputs": []
    },
    {
      "cell_type": "code",
      "metadata": {
        "id": "OP7abVxcvgAm"
      },
      "source": [
        "states_sorted = region_northeast+region_midwest+region_south+region_west\n",
        "states_sorted"
      ],
      "execution_count": null,
      "outputs": []
    },
    {
      "cell_type": "code",
      "metadata": {
        "id": "_gwJ0HggowG7"
      },
      "source": [
        "source['state'] = source['State Abbreviation']"
      ],
      "execution_count": null,
      "outputs": []
    },
    {
      "cell_type": "code",
      "metadata": {
        "id": "8sCBCgCgo1nS"
      },
      "source": [
        "source['region'] = source.apply(assign_region, axis=1)"
      ],
      "execution_count": null,
      "outputs": []
    },
    {
      "cell_type": "code",
      "metadata": {
        "id": "gUMpVf7Psf3s"
      },
      "source": [
        "source['Population'].hist(range=[1e5,1e6])"
      ],
      "execution_count": null,
      "outputs": []
    },
    {
      "cell_type": "code",
      "metadata": {
        "id": "hCyqi3JlsqSg"
      },
      "source": [
        "def define_popgroups(x):\n",
        "  if x<2.5e5: \n",
        "    if x<1e4: return '<10K'\n",
        "    else: return '10K-250K'\n",
        "  elif x>1e6: return '>1M'\n",
        "  else: return '250K-1M'\n",
        "\n",
        "source['pop_group'] = source['Population'].apply(define_popgroups)"
      ],
      "execution_count": null,
      "outputs": []
    },
    {
      "cell_type": "code",
      "metadata": {
        "id": "ISgbsBu3kzgg"
      },
      "source": [
        "cpr_state_df"
      ],
      "execution_count": null,
      "outputs": []
    },
    {
      "cell_type": "code",
      "metadata": {
        "id": "EYI1pJPVkxQn"
      },
      "source": [
        "source_state = cpr_state_df[['State Abbreviation','People who are fully vaccinated as % of population - ages 12+',\n",
        "                              'People who are fully vaccinated as % of total population',\n",
        "                              'People who are fully vaccinated as % of population - ages 65+',\n",
        "\n",
        "\n",
        "                             \n",
        "                             ]]"
      ],
      "execution_count": null,
      "outputs": []
    },
    {
      "cell_type": "code",
      "metadata": {
        "id": "km87LJY6n0IU"
      },
      "source": [
        "source_state['CBSA'] = 'state-level'\n",
        "source_state['state'] = source_state['State Abbreviation']\n"
      ],
      "execution_count": null,
      "outputs": []
    },
    {
      "cell_type": "code",
      "metadata": {
        "id": "agZfw7IQnXMB"
      },
      "source": [
        "source_concat = pd.concat([source,source_state])\n",
        "source_concat = source_concat[~source_concat['State Abbreviation'].isin(['PR','GU','MP','AS','VI'])]\n",
        "source_concat['region'] = source_concat.apply(assign_region, axis=1)\n",
        "source_concat"
      ],
      "execution_count": null,
      "outputs": []
    },
    {
      "cell_type": "code",
      "metadata": {
        "id": "PqduahlNDLLA"
      },
      "source": [
        ""
      ],
      "execution_count": null,
      "outputs": []
    },
    {
      "cell_type": "code",
      "metadata": {
        "id": "acDdl4ilqaTi"
      },
      "source": [
        "source_state['region'] = source_state.apply(assign_region, axis=1)\n",
        "states_sorted = source_state.sort_values(['region','People who are fully vaccinated as % of total population'], ascending=[True,False])['state'].to_list()"
      ],
      "execution_count": null,
      "outputs": []
    },
    {
      "cell_type": "code",
      "metadata": {
        "id": "SlJhj9uWqtm2"
      },
      "source": [
        "source_state"
      ],
      "execution_count": null,
      "outputs": []
    },
    {
      "cell_type": "code",
      "metadata": {
        "id": "ERE7N9IitNL0"
      },
      "source": [
        "# override DC county with DC state-level data\n",
        "source_concat.loc[source_concat['fips_code']=='11001','People who are fully vaccinated as % of total population'] = source_state[(source_state['state'] == 'DC')]['People who are fully vaccinated as % of total population'].values[0]"
      ],
      "execution_count": null,
      "outputs": []
    },
    {
      "cell_type": "code",
      "metadata": {
        "id": "96T4zzl7guYv"
      },
      "source": [
        "select_states = alt.selection_multi(fields=['region'], bind='legend')\n",
        "select_county = alt.selection_multi(fields=['County'])\n",
        "\n",
        "color_range = ['#FF6B00','#34840F','#36ADA4','#7155D1','#333333']\n",
        "color_domain = ['1-Northeast','2-South','3-Midwest','4-West','5-Other']\n",
        "\n",
        "rain_viz = alt.layer(\n",
        "    alt.Chart(height=550, width=20).mark_point(filled=True, opacity=0.6, stroke='black', clip=True).encode(\n",
        "      y=alt.Y('People who are fully vaccinated as % of total population:Q', axis=alt.Axis(format='.0%', tickCount=7, ticks=False, domain=False, title=None), scale=alt.Scale(domain=[0.2,0.8], clamp=False)),\n",
        "      x=alt.X('jitter:Q',\n",
        "              title=None,\n",
        "              axis=alt.Axis(values=[0], ticks=False, grid=False, domain=False, labels=False),\n",
        "              scale=alt.Scale(domain=[-1,1], clamp=True)),\n",
        "      color=alt.Color('region:O', scale=alt.Scale(range=color_range, domain=color_domain), legend=None),#alt.Legend(columns=1, symbolLimit=0, title=None)),\n",
        "      # stroke=alt.Stroke('region', scale=alt.Scale(scheme='set1'), legend=None),#alt.Legend(columns=1, symbolLimit=0, title=None)),\n",
        "      opacity=alt.condition(select_states, alt.value(0.5), alt.value(0.15)),\n",
        "      \n",
        "      strokeWidth=alt.condition(select_county, alt.value(0.3), alt.value(0.1)),\n",
        "      strokeOpacity=alt.value(1),\n",
        "      tooltip=['County','People who are fully vaccinated as % of total population','People who are fully vaccinated as % of population - ages 12+','People who are fully vaccinated as % of population - ages 65+'],\n",
        "      size=alt.Size('Population', legend=alt.Legend(orient='none', direction='vertical', legendX=30, legendY=400, fillColor='white', title='County Population'), scale=alt.Scale(domain=[1e4,2.5e6], range=[15,100])),\n",
        "    ),\n",
        "    alt.Chart().mark_tick(orient='horizontal', size=20, thickness=2, opacity=0.7, color='black').encode(\n",
        "        y=alt.Y('People who are fully vaccinated as % of total population:Q'),\n",
        "        # stroke=alt.Stroke('region', scale=alt.Scale(scheme='tableau10'), legend=None),\n",
        "    ).transform_filter(alt.datum.CBSA=='state-level'),\n",
        "    # alt.Chart().mark_text(dy=-300, size=14, align='center').encode(\n",
        "    #     #y=alt.value(0.70),\n",
        "    #     color=alt.Color('region', scale=alt.Scale(scheme='tableau10'), legend=alt.Legend(columns=1, symbolLimit=0, title=None)),\n",
        "    #     text='state',\n",
        "    # ).transform_filter(alt.datum.CBSA=='state-level')\n",
        ").facet(data=source_concat,\n",
        "    column=alt.Column('State Abbreviation:O', title=None, sort=states_sorted,\n",
        "                        header=alt.Header(labelAngle=0, labelAnchor='middle', labelAlign='center', labelFontSize=12, labelPadding=0)),\n",
        ").configure_facet(spacing=2).configure_view(strokeWidth=0).interactive(bind_y=False).add_selection(select_states).add_selection(select_county).transform_filter(select_states\n",
        ").properties(\n",
        "    title=alt.TitleParams(\"Fully Vaccinated % of Total Population by Region, State, and County as of Sept 29, 2021\", subtitle=[\"Sources: CDC and Texas DSHS. County-level data excludes VT, VA, GA, WV, HI and some counties\",'',''])\n",
        ").configure_axis(\n",
        "  labelFontSize=12,\n",
        "  titleFontSize=16,\n",
        "  labelColor='grey',\n",
        "  # gridColor='#ccc',\n",
        "  gridWidth=1,\n",
        "  offset=0,\n",
        ").configure_header(\n",
        "  titleFontSize=16,\n",
        "  labelFontSize=16,\n",
        "  \n",
        ").configure_title(\n",
        "  fontSize=16,\n",
        ").configure_legend(\n",
        "  titleFontSize=12,\n",
        "  labelFontSize=12\n",
        ")\n",
        "\n",
        "rain_viz"
      ],
      "execution_count": null,
      "outputs": []
    },
    {
      "cell_type": "markdown",
      "metadata": {
        "id": "rDVD7vdbZ_51"
      },
      "source": [
        "# Save to Gdrive"
      ]
    },
    {
      "cell_type": "code",
      "metadata": {
        "id": "KEr0yaEhaBRG"
      },
      "source": [
        "# this is for saving altair charts to png and svg, based on https://colab.research.google.com/github/altair-viz/altair_saver/blob/master/AltairSaver.ipynb#scrollTo=ZiTDBCAM_Ni8\n",
        "!pip install -q altair_saver\n",
        "!npm install --silent vega-lite vega-cli canvas"
      ],
      "execution_count": null,
      "outputs": []
    },
    {
      "cell_type": "code",
      "metadata": {
        "id": "G4uyqAKCaBRG"
      },
      "source": [
        "from pathlib import Path\n",
        "from altair_saver import save\n",
        "\n",
        "SAVE_PATH = Path('assets')\n",
        "SAVE_PATH.mkdir(exist_ok=True)\n",
        "\n",
        "# Import PyDrive and associated libraries.\n",
        "# This only needs to be done once per notebook.\n",
        "from pydrive.auth import GoogleAuth\n",
        "from pydrive.drive import GoogleDrive\n",
        "from google.colab import auth\n",
        "from oauth2client.client import GoogleCredentials\n",
        "\n",
        "# Authenticate and create the PyDrive client.\n",
        "# This only needs to be done once per notebook.\n",
        "auth.authenticate_user()\n",
        "gauth = GoogleAuth()\n",
        "gauth.credentials = GoogleCredentials.get_application_default()\n",
        "gdrive = GoogleDrive(gauth)"
      ],
      "execution_count": null,
      "outputs": []
    },
    {
      "cell_type": "code",
      "metadata": {
        "id": "DN7a0gJLaBRI"
      },
      "source": [
        "def assets_to_gdrive(folder_name, localdir_path = SAVE_PATH, parentdir_id='17Kx2uZbQv1r5U1M9x_OXS4lpMU5c6Ym8'):\n",
        "  # search gdrive for snapshot folder and save assets there if it already exists. \n",
        "  folder_id = ''\n",
        "  file_list = gdrive.ListFile({'q': f\"'{parentdir_id}' in parents and mimeType = 'application/vnd.google-apps.folder' and trashed=false\"}).GetList()\n",
        "  for file1 in file_list:\n",
        "      if file1['title'] == folder_name: \n",
        "        folder_id = file1['id']\n",
        "        print(f'Found pre-existing gdrive folder named \"{folder_name}\" at',folder_id)\n",
        "  # if not, create new folder\n",
        "  if folder_id == '':\n",
        "    folder = gdrive.CreateFile(metadata={'title': folder_name,\n",
        "                                      'parents':[{'id': parentdir_id}],\n",
        "                                      \"mimeType\": \"application/vnd.google-apps.folder\"\n",
        "                                      })\n",
        "    folder.Upload()\n",
        "    folder_id = folder.get('id')\n",
        "    print(f'Created new gdrive folder named \"{folder_name}\" at',folder_id)\n",
        "  \n",
        "  # upload all files within SAVE_PATH to snapshot folder\n",
        "  for asset_file in localdir_path.iterdir():\n",
        "    file_path = localdir_path/asset_file.name\n",
        "    file1 = gdrive.CreateFile(metadata={'title':asset_file.name,\n",
        "                                        'parents':[{'id': folder_id}],\n",
        "                                        })\n",
        "    file1.SetContentFile(file_path)\n",
        "    file1.Upload()\n",
        "    print('Saved file: ',asset_file.name)\n"
      ],
      "execution_count": null,
      "outputs": []
    },
    {
      "cell_type": "code",
      "metadata": {
        "id": "d7FABeyTaBRJ"
      },
      "source": [
        "def save_vizassets(chart, save_path, filename, fmts=['html','json','png','svg','pdf']):\n",
        "  for fmt in fmts:\n",
        "    save(chart, f'{save_path}/{filename}.{fmt}')"
      ],
      "execution_count": null,
      "outputs": []
    },
    {
      "cell_type": "code",
      "metadata": {
        "id": "VDDfip_eaBRJ"
      },
      "source": [
        "# put your stuff (i.e. dataframes, altair charts, input data files) to save here"
      ],
      "execution_count": null,
      "outputs": []
    },
    {
      "cell_type": "code",
      "metadata": {
        "id": "xq_GSYaGaBRJ"
      },
      "source": [
        "# examples:\n",
        "\n",
        "cpr_df.to_csv(SAVE_PATH/'cpr_df.csv')\n",
        "source_concat.to_csv(SAVE_PATH/'source_concat.csv')\n",
        "save_vizassets(rain_viz, SAVE_PATH, f'rainviz_{now_utc_timestamp}')"
      ],
      "execution_count": null,
      "outputs": []
    },
    {
      "cell_type": "code",
      "metadata": {
        "id": "ArMGZzV9aBRJ"
      },
      "source": [
        "# get the colab filename\n",
        "from requests import get\n",
        "nb_name = get('http://172.28.0.2:9000/api/sessions').json()[0]['name'].replace('.ipynb','')\n",
        "nb_id = get('http://172.28.0.2:9000/api/sessions').json()[0]['notebook']['path'].replace('fileId=','')\n",
        "\n",
        "print(SAVE_PATH, nb_name, now_utc_timestamp, nb_id)\n",
        "\n",
        "# create a snapshot of this currently running notebook and save to SAVE_PATH\n",
        "downloaded_nb = gdrive.CreateFile({'id':nb_id})   # replace the id with id of file you want to access\n",
        "downloaded_nb.GetContentFile(SAVE_PATH/f'{nb_name}_{now_utc_timestamp}.ipynb')"
      ],
      "execution_count": null,
      "outputs": []
    },
    {
      "cell_type": "code",
      "metadata": {
        "id": "7UEQWnAgaBRK"
      },
      "source": [
        "# upload everything to gdrive\n",
        "assets_to_gdrive(folder_name=f'{nb_name}_{now_utc_timestamp}')"
      ],
      "execution_count": null,
      "outputs": []
    }
  ]
}