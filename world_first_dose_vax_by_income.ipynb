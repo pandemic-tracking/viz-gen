{
  "nbformat": 4,
  "nbformat_minor": 0,
  "metadata": {
    "colab": {
      "name": "owid-vaccinations-income-level-JAG.ipynb",
      "provenance": [],
      "collapsed_sections": [
        "zSWOgBrEevqN",
        "nut2kmbcZe7m",
        "mHIGBejhalmE",
        "aQkgljrEVnY0",
        "hGqSZ7Vba5VT",
        "lZZIj1pebBqs"
      ],
      "authorship_tag": "ABX9TyO8jgZUHhxHCYVYdk2tOWor",
      "include_colab_link": true
    },
    "kernelspec": {
      "name": "python3",
      "display_name": "Python 3"
    },
    "language_info": {
      "name": "python"
    }
  },
  "cells": [
    {
      "cell_type": "markdown",
      "metadata": {
        "id": "view-in-github",
        "colab_type": "text"
      },
      "source": [
        "<a href=\"https://colab.research.google.com/github/pandemic-tracking/viz-gen/blob/main/world_first_dose_vax_by_income.ipynb\" target=\"_parent\"><img src=\"https://colab.research.google.com/assets/colab-badge.svg\" alt=\"Open In Colab\"/></a>"
      ]
    },
    {
      "cell_type": "code",
      "metadata": {
        "id": "k-pkX629xf9l"
      },
      "source": [
        "import pandas as pd\n",
        "import numpy as np\n",
        "\n",
        "from datetime import datetime, timedelta\n",
        "import pytz\n",
        "\n",
        "import altair as alt\n",
        "from altair import datum\n",
        "alt.data_transformers.disable_max_rows()\n",
        "\n",
        "from pathlib import Path\n",
        "\n",
        "pd.set_option(\"display.precision\", 4)\n",
        "\n",
        "now_est = datetime.now().astimezone(pytz.timezone(\"US/Eastern\"))\n",
        "\n",
        "now_est_time = now_est.strftime(\"%Y-%m-%d, %H:%M:%S ET\")\n",
        "now_est_date = now_est.strftime(\"%Y-%m-%d\")\n",
        "now_est_timestamp = now_est.strftime(\"%Y%m%d_%H%M%S\")\n",
        "now_utc_timestamp = datetime.utcnow().strftime(\"%Y%m%d_%H%M%S\")\n",
        "print(now_est_time, now_est_date, now_est_timestamp, now_utc_timestamp)"
      ],
      "execution_count": null,
      "outputs": []
    },
    {
      "cell_type": "code",
      "metadata": {
        "id": "tzpycK6So8Ry"
      },
      "source": [
        "# adapting from https://towardsdatascience.com/consistently-beautiful-visualizations-with-altair-themes-c7f9f889602\n",
        "\n",
        "def ptc_theme():\n",
        "    axisColor = \"#808080\"\n",
        "    gridColor = \"#DEDDDD\"\n",
        "    markColor = \"#000000\"\n",
        "    font = 'Arial'\n",
        "    labelFont = 'Arial'\n",
        "    # Colors\n",
        "    # main_palette = [\"#1696d2\", \n",
        "    #                 \"#d2d2d2\",\n",
        "    #                 \"#000000\", \n",
        "    #                 \"#fdbf11\", \n",
        "    #                 \"#ec008b\", \n",
        "    #                 \"#55b748\", \n",
        "    #                 \"#5c5859\", \n",
        "    #                 \"#db2b27\", \n",
        "    #                ]\n",
        "    # sequential_palette = [\"#cfe8f3\", \n",
        "    #                       \"#a2d4ec\", \n",
        "    #                       \"#73bfe2\", \n",
        "    #                       \"#46abdb\", \n",
        "    #                       \"#1696d2\", \n",
        "    #                       \"#12719e\", \n",
        "    #                      ]\n",
        "    return {\n",
        "          \"config\": {\n",
        "              \"title\": {\n",
        "                  \"fontSize\": 16,\n",
        "                  \"font\": font,\n",
        "                  \"anchor\": \"start\", # equivalent of left-aligned.\n",
        "                  \"fontColor\": \"#000000\"\n",
        "              },\n",
        "              \"text\": {\n",
        "                  \"font\": font,\n",
        "                  \"labelFont\": labelFont,\n",
        "              },\n",
        "              \"header\": {\n",
        "                  \"font\": font,\n",
        "                  \"labelFont\": labelFont,\n",
        "                  \"titleFont\": font,\n",
        "              },\n",
        "              \"axisX\": {\n",
        "                  \"domain\": False,\n",
        "                  \"domainColor\": axisColor,\n",
        "                  \"labelColor\": axisColor,\n",
        "                  \"domainWidth\": 1,\n",
        "                  \"grid\": False,\n",
        "                  \"labelFont\": labelFont,\n",
        "                  \"labelFontSize\": 12,\n",
        "                  \"labelAngle\": 0, \n",
        "                  \"tickColor\": axisColor,\n",
        "                  \"tickSize\": 5, # default, including it just to show you can change it\n",
        "                  \"titleFont\": font,\n",
        "                  \"titleFontSize\": 12,\n",
        "                  \"titlePadding\": 10, # guessing, not specified in styleguide\n",
        "                  \"title\": \"X Axis Title (units)\", \n",
        "              },\n",
        "              \"axisY\": {\n",
        "                  \"domain\": False,\n",
        "                  \"grid\": True,\n",
        "                  \"gridColor\": gridColor,\n",
        "                  \"gridWidth\": 1,\n",
        "                  \"labelFont\": labelFont,\n",
        "                  \"labelColor\": axisColor,\n",
        "                  \"labelFontSize\": 12,\n",
        "                  \"labelAngle\": 0,\n",
        "                  \"labelAnchor\": \"end\",\n",
        "                  \"labelAlign\": \"right\",  \n",
        "                  \"ticks\": False, # even if you don't have a \"domain\" you need to turn these off.\n",
        "                  \"titleFont\": font,\n",
        "                  \"titleFontSize\": 12,\n",
        "                  \"titlePadding\": 10, # guessing, not specified in styleguide\n",
        "                  \"title\": \"Y Axis Title (units)\", \n",
        "                  # titles are by default vertical left of axis so we need to hack this \n",
        "                  \"titleAngle\": 0, # horizontal\n",
        "                  \"titleY\": -10, # move it up\n",
        "                  \"titleX\": 18, # move it to the right so it aligns with the labels \n",
        "              },\n",
        "            #   \"range\": {\n",
        "            #       \"category\": main_palette,\n",
        "            #       \"diverging\": sequential_palette,\n",
        "            #   },\n",
        "              \"legend\": {\n",
        "                  \"labelFont\": labelFont,\n",
        "                  \"labelFontSize\": 12,\n",
        "                  \"symbolType\": \"circle\", # just 'cause\n",
        "                  \"symbolSize\": 100, # default\n",
        "                  \"titleFont\": font,\n",
        "                  \"titleFontSize\": 12,\n",
        "                  \"title\": \"\", # set it to no-title by default\n",
        "                  \"orient\": \"right\", # so it's right next to the y-axis\n",
        "                  \"offset\": 0, # literally right next to the y-axis.\n",
        "              },\n",
        "              \"view\": {\n",
        "                  \"stroke\": \"transparent\", # altair uses gridlines to box the area where the data is visualized. This takes that off.\n",
        "              },\n",
        "        }\n",
        "    }\n",
        "\n",
        "alt.themes.register(\"my_custom_theme\", ptc_theme)\n",
        "alt.themes.enable(\"my_custom_theme\")"
      ],
      "execution_count": null,
      "outputs": []
    },
    {
      "cell_type": "markdown",
      "metadata": {
        "id": "p1Gr6PF3pogL"
      },
      "source": [
        "## OWID Vaccination and World Bank Income Classification Data"
      ]
    },
    {
      "cell_type": "code",
      "metadata": {
        "id": "B3yoyrrbllV5"
      },
      "source": [
        "# 'https://raw.githubusercontent.com/owid/covid-19-data/master/public/data/vaccinations/vaccinations.csv'\n",
        "owid_vax_df = pd.read_csv('/content/owid_vax_df_20211216-12EST.csv') \n",
        "owid_vax_df"
      ],
      "execution_count": null,
      "outputs": []
    },
    {
      "cell_type": "code",
      "metadata": {
        "id": "Gb0agv66yT5I"
      },
      "source": [
        "# Population data by country, region, and for the world, was constructed by Our World in Data based on three key sources:\n",
        "# — HYDE Version 3.2 from the year -10,000 to 1799;\n",
        "# — Gapminder Version 6 from 1800 to 1949;\n",
        "# — UN World Population Prospects (2019) estimates from 1950 to 2021;\n",
        "# — UN World Population Prospects (2019) projections (medium variant scenario) from 2022 to 2100.\n",
        "\n",
        "# https://ourworldindata.org/grapher/covid-people-vaccinated-marimekko\n",
        "owid_df = pd.read_csv('/content/covid-people-vaccinated-marimekko-20211216-12EST.csv')\n",
        "owid_df.columns"
      ],
      "execution_count": null,
      "outputs": []
    },
    {
      "cell_type": "code",
      "metadata": {
        "id": "orXwkDTcphuJ"
      },
      "source": [
        "pop_data = owid_df[['Entity','Share of world population']].drop_duplicates()"
      ],
      "execution_count": null,
      "outputs": []
    },
    {
      "cell_type": "code",
      "metadata": {
        "id": "jyg1kI_UBaOO"
      },
      "source": [
        "owid_pop_df = owid_vax_df.merge(pop_data, how='left',left_on='location',right_on='Entity')"
      ],
      "execution_count": null,
      "outputs": []
    },
    {
      "cell_type": "code",
      "metadata": {
        "id": "nybRiL8NCPUO"
      },
      "source": [
        "owid_pop_df[owid_pop_df['Share of world population'].isna()]['location'].unique()"
      ],
      "execution_count": null,
      "outputs": []
    },
    {
      "cell_type": "code",
      "metadata": {
        "id": "Ptw7FbrH6BBg"
      },
      "source": [
        "# https://datahelpdesk.worldbank.org/knowledgebase/articles/906519-world-bank-country-and-lending-groups\n",
        "wb_df = pd.read_excel('/content/CLASS.xlsx')"
      ],
      "execution_count": null,
      "outputs": []
    },
    {
      "cell_type": "code",
      "metadata": {
        "id": "4Mv5dJ4_P-hS"
      },
      "source": [
        "owid_wb_mismatches = {'Bahamas, The': 'Bahamas',\n",
        " 'Brunei Darussalam': 'Brunei',\n",
        " 'Cabo Verde': 'Cape Verde',\n",
        " 'Congo, Dem. Rep.': 'Democratic Republic of Congo',\n",
        " 'Congo, Rep.': 'Congo',\n",
        " 'Curaçao': 'Curacao',\n",
        " 'Czech Republic': 'Czechia',\n",
        " \"Côte d'Ivoire\": \"Cote d'Ivoire\",\n",
        " 'Egypt, Arab Rep.': 'Egypt',\n",
        " 'Faroe Islands': 'Faeroe Islands',\n",
        " 'Gambia, The': 'Gambia',\n",
        " 'Hong Kong SAR, China': 'Hong Kong',\n",
        " 'Iran, Islamic Rep.': 'Iran',\n",
        " 'Korea, Rep.': 'South Korea',\n",
        " 'Kyrgyz Republic': 'Kyrgyzstan',\n",
        " 'Lao PDR': 'Laos',\n",
        " 'Macao SAR, China': 'Macao',\n",
        " 'Russian Federation': 'Russia',\n",
        " 'Slovak Republic': 'Slovakia',\n",
        " 'St. Kitts and Nevis': 'Saint Kitts and Nevis',\n",
        " 'St. Lucia': 'Saint Lucia',\n",
        " 'St. Vincent and the Grenadines': 'Saint Vincent and the Grenadines',\n",
        " 'Syrian Arab Republic': 'Syria',\n",
        " 'São Tomé and Principe': 'Sao Tome and Principe',\n",
        " 'Taiwan, China': 'Taiwan',\n",
        " 'Timor-Leste': 'Timor',\n",
        " 'Venezuela, RB': 'Venezuela',\n",
        " 'West Bank and Gaza': 'Palestine',\n",
        " 'Yemen, Rep.': 'Yemen'}\n",
        "wb_owid_df = wb_df.replace(owid_wb_mismatches)"
      ],
      "execution_count": null,
      "outputs": []
    },
    {
      "cell_type": "code",
      "source": [
        "owid_income_df = owid_pop_df.merge(wb_owid_df,how='left',left_on='location',right_on='Economy')\n",
        "# these fell out - may be things to tackle in the renaming\n",
        "# venezuela has no income group\n",
        "owid_income_df[owid_income_df['Economy'].isna()]['location'].unique()"
      ],
      "metadata": {
        "id": "fC-bkFuumhMV"
      },
      "execution_count": null,
      "outputs": []
    },
    {
      "cell_type": "code",
      "metadata": {
        "id": "Z-PeWqPcHXN9"
      },
      "source": [
        "len(owid_income_df), pd.to_datetime(owid_income_df['date']).min(), pd.to_datetime(owid_income_df['date']).max()"
      ],
      "execution_count": null,
      "outputs": []
    },
    {
      "cell_type": "code",
      "metadata": {
        "id": "JOOaZ1e19hWi"
      },
      "source": [
        "df = owid_income_df.sort_values(by=['location','date'])\n",
        "# make sure the vax data is there\n",
        "df = df[~(df['people_vaccinated_per_hundred'].isna()) & ~(df['people_fully_vaccinated_per_hundred'].isna())]\n",
        "# keep only most recent vax data for each country\n",
        "df = df.drop_duplicates(subset='location',keep='last')\n",
        "df"
      ],
      "execution_count": null,
      "outputs": []
    },
    {
      "cell_type": "code",
      "metadata": {
        "id": "WnzTluACBchq"
      },
      "source": [
        "# remove continent data rows\n",
        "continents = ['Africa','Antarctica','Asia','Europe','North America', 'Oceania', 'South America', 'World']\n",
        "df = df[~df['location'].isin(continents)]"
      ],
      "execution_count": null,
      "outputs": []
    },
    {
      "cell_type": "code",
      "metadata": {
        "id": "0teL0TxZLkbX"
      },
      "source": [
        "pd.to_datetime(df.date).describe(datetime_is_numeric=True)"
      ],
      "execution_count": null,
      "outputs": []
    },
    {
      "cell_type": "code",
      "metadata": {
        "id": "cQV82xUoLWFB"
      },
      "source": [
        "# keep only countries with vax and pop data\n",
        "df = df[~(df['Share of world population'].isna()) & ~(df['people_vaccinated_per_hundred'].isna())]"
      ],
      "execution_count": null,
      "outputs": []
    },
    {
      "cell_type": "code",
      "metadata": {
        "id": "-NyWfsnWPrzY"
      },
      "source": [
        "df[df['Income group'].isna()].sort_values('Share of world population', ascending=False)"
      ],
      "execution_count": null,
      "outputs": []
    },
    {
      "cell_type": "markdown",
      "metadata": {
        "id": "DSft6fjmetPa"
      },
      "source": [
        "## Charts"
      ]
    },
    {
      "cell_type": "markdown",
      "metadata": {
        "id": "8AGsiw-Tc3wK"
      },
      "source": [
        "### OWID x WB chart with text labels"
      ]
    },
    {
      "cell_type": "code",
      "metadata": {
        "id": "KeDxZoJnc3wL"
      },
      "source": [
        "df = df.sort_values(by='people_vaccinated_per_hundred', ascending=True)"
      ],
      "execution_count": null,
      "outputs": []
    },
    {
      "cell_type": "code",
      "metadata": {
        "id": "XLeANGALeT4e"
      },
      "source": [
        "df = df.rename(columns={'Share of world population':'share_of_world_population'})"
      ],
      "execution_count": null,
      "outputs": []
    },
    {
      "cell_type": "code",
      "metadata": {
        "id": "fVOG4itLc3wL"
      },
      "source": [
        "# to dictate bar widths\n",
        "df['y1'] = df['share_of_world_population'].cumsum()\n",
        "df['y0'] = df['y1'].shift(fill_value=0)"
      ],
      "execution_count": null,
      "outputs": []
    },
    {
      "cell_type": "code",
      "metadata": {
        "id": "Uf1GFCzvc3wL"
      },
      "source": [
        "df[['Income group']] = df[['Income group']].fillna(value='No income data')"
      ],
      "execution_count": null,
      "outputs": []
    },
    {
      "cell_type": "code",
      "metadata": {
        "id": "1dWKZph6c3wL"
      },
      "source": [
        "df['Income group'].unique()"
      ],
      "execution_count": null,
      "outputs": []
    },
    {
      "cell_type": "code",
      "metadata": {
        "id": "GPmxwQBkc3wL"
      },
      "source": [
        "domain = ['High income', 'Upper middle income', 'Lower middle income', 'Low income', 'No income data']\n",
        "range_ = ['#e66101','#fdb863', '#9D91D2', '#5e3c99','darkgrey']"
      ],
      "execution_count": null,
      "outputs": []
    },
    {
      "cell_type": "code",
      "metadata": {
        "id": "Nlq9ZIxmr8DL"
      },
      "source": [
        "display_threshold_ = 1.5"
      ],
      "execution_count": null,
      "outputs": []
    },
    {
      "cell_type": "code",
      "metadata": {
        "id": "2S4NPFAZc3wM"
      },
      "source": [
        "# cap height at the total of all locations shown\n",
        "y_height = df['share_of_world_population'].sum()\n",
        "\n",
        "vax_total = alt.Chart(df).encode(\n",
        "    x=alt.X('people_vaccinated_per_hundred:Q', title='% of Population with at Least One Dose',scale=alt.Scale(domain=(0,100),clamp=True)),\n",
        "    y=alt.Y('y0:Q', title='Share of World Population in 2021', scale=alt.Scale(domain=(0,y_height)), axis=alt.Axis(values=[0,20,40,60,80,y_height])),\n",
        "    y2='y1',\n",
        "    color=alt.Color('Income group', scale=alt.Scale(domain=domain, range=range_)),\n",
        "    tooltip=[\"location\", \"date\",alt.Tooltip(\"people_vaccinated_per_hundred\",title='% with at least one dose'), alt.Tooltip('share_of_world_population',title='% share of world population'), \"Income group\"]\n",
        ")\n",
        "\n",
        "vax_total_filtered = alt.Chart(df).encode(\n",
        "    x=alt.X('people_vaccinated_per_hundred:Q', title='% of Population with at Least One Dose',scale=alt.Scale(domain=(0,100),clamp=True)),\n",
        "    y=alt.Y('y0:Q', title='Share of World Population in 2021', scale=alt.Scale(domain=(0,y_height))),\n",
        "    y2='y1',\n",
        "    color=alt.Color('Income group', scale=alt.Scale(domain=domain, range=range_)),\n",
        "    tooltip=[\"location\", \"date\",alt.Tooltip(\"people_vaccinated_per_hundred\",title='% with at least one dose'), alt.Tooltip('share_of_world_population',title='% share of world population'), \"Income group\"]\n",
        ").transform_filter(\n",
        "    (alt.datum.share_of_world_population >=display_threshold_) | (alt.datum.location == 'South Africa')\n",
        ")\n",
        "\n",
        "viz = (vax_total.mark_rect(stroke='black', strokeWidth=0.15) + vax_total_filtered.mark_text(dx=2, dy=5, size=15, align='left', baseline='bottom').encode(\n",
        "    text= alt.Text('location')\n",
        ").properties(\n",
        "    width=1000,\n",
        "    height=550,\n",
        "    title=f'Population With First Dose by Country and Income Group'\n",
        ")).configure_axisX(domain=True,grid=True,tickCount=10,titleColor='grey').configure_axisY(titleColor='grey')\n",
        "viz"
      ],
      "execution_count": null,
      "outputs": []
    },
    {
      "cell_type": "markdown",
      "metadata": {
        "id": "V0czF1q93_U-"
      },
      "source": [
        "# Save to Drive"
      ]
    },
    {
      "cell_type": "code",
      "metadata": {
        "id": "lmjyktdA3-Bb"
      },
      "source": [
        "# this is for saving altair charts to png and svg, based on https://colab.research.google.com/github/altair-viz/altair_saver/blob/master/AltairSaver.ipynb#scrollTo=ZiTDBCAM_Ni8\n",
        "!pip install -q altair_saver\n",
        "!npm install --silent vega-lite vega-cli canvas"
      ],
      "execution_count": null,
      "outputs": []
    },
    {
      "cell_type": "code",
      "metadata": {
        "id": "9hXhIyGQ3-Bc"
      },
      "source": [
        "from pathlib import Path\n",
        "from altair_saver import save\n",
        "\n",
        "SAVE_PATH = Path('assets')\n",
        "SAVE_PATH.mkdir(exist_ok=True)\n",
        "\n",
        "# Import PyDrive and associated libraries.\n",
        "# This only needs to be done once per notebook.\n",
        "from pydrive.auth import GoogleAuth\n",
        "from pydrive.drive import GoogleDrive\n",
        "from google.colab import auth\n",
        "from oauth2client.client import GoogleCredentials\n",
        "\n",
        "# Authenticate and create the PyDrive client.\n",
        "# This only needs to be done once per notebook.\n",
        "auth.authenticate_user()\n",
        "gauth = GoogleAuth()\n",
        "gauth.credentials = GoogleCredentials.get_application_default()\n",
        "gdrive = GoogleDrive(gauth)"
      ],
      "execution_count": null,
      "outputs": []
    },
    {
      "cell_type": "code",
      "metadata": {
        "id": "6zLBpOC13-Bc"
      },
      "source": [
        "def assets_to_gdrive(folder_name, localdir_path = SAVE_PATH, parentdir_id='17Kx2uZbQv1r5U1M9x_OXS4lpMU5c6Ym8'):\n",
        "  # search gdrive for snapshot folder and save assets there if it already exists. \n",
        "  folder_id = ''\n",
        "  file_list = gdrive.ListFile({'q': f\"'{parentdir_id}' in parents and mimeType = 'application/vnd.google-apps.folder' and trashed=false\"}).GetList()\n",
        "  for file1 in file_list:\n",
        "      if file1['title'] == folder_name: \n",
        "        folder_id = file1['id']\n",
        "        print(f'Found pre-existing gdrive folder named \"{folder_name}\" at',folder_id)\n",
        "  # if not, create new folder\n",
        "  if folder_id == '':\n",
        "    folder = gdrive.CreateFile(metadata={'title': folder_name,\n",
        "                                      'parents':[{'id': parentdir_id}],\n",
        "                                      \"mimeType\": \"application/vnd.google-apps.folder\"\n",
        "                                      })\n",
        "    folder.Upload()\n",
        "    folder_id = folder.get('id')\n",
        "    print(f'Created new gdrive folder named \"{folder_name}\" at',folder_id)\n",
        "  \n",
        "  # upload all files within SAVE_PATH to snapshot folder\n",
        "  for asset_file in localdir_path.iterdir():\n",
        "    file_path = localdir_path/asset_file.name\n",
        "    file1 = gdrive.CreateFile(metadata={'title':asset_file.name,\n",
        "                                        'parents':[{'id': folder_id}],\n",
        "                                        })\n",
        "    file1.SetContentFile(file_path)\n",
        "    file1.Upload()\n",
        "    print('Saved file: ',asset_file.name)\n"
      ],
      "execution_count": null,
      "outputs": []
    },
    {
      "cell_type": "code",
      "metadata": {
        "id": "pTXoALCT3-Bc"
      },
      "source": [
        "def save_vizassets(chart, save_path, filename, fmts=['html','json','png','svg','pdf']):\n",
        "  for fmt in fmts:\n",
        "    save(chart, f'{save_path}/{filename}.{fmt}')"
      ],
      "execution_count": null,
      "outputs": []
    },
    {
      "cell_type": "code",
      "metadata": {
        "id": "oGhCnZOz3-Bd"
      },
      "source": [
        "# put your stuff (i.e. dataframes, altair charts, input data files) to save here"
      ],
      "execution_count": null,
      "outputs": []
    },
    {
      "cell_type": "code",
      "metadata": {
        "id": "DSWlGtc63-Bd"
      },
      "source": [
        "wb_df.to_csv(SAVE_PATH/'world_bank_df.csv')\n",
        "owid_vax_df.to_csv(SAVE_PATH/'owid_vax_df_20211216-12EST.csv')\n",
        "owid_df.to_csv(SAVE_PATH/'covid-people-vaccinated-marimekko-20211216-12EST.csv')\n",
        "df.to_csv(SAVE_PATH/'df.csv')\n",
        "save_vizassets(viz, SAVE_PATH, f'pop_with_first_dose_by_country_and_income_{now_utc_timestamp}')"
      ],
      "execution_count": null,
      "outputs": []
    },
    {
      "cell_type": "code",
      "metadata": {
        "id": "-Xbhdovk3-Bd"
      },
      "source": [
        "# get the colab filename\n",
        "from requests import get\n",
        "nb_name = get('http://172.28.0.2:9000/api/sessions').json()[0]['name'].replace('.ipynb','')\n",
        "nb_id = get('http://172.28.0.2:9000/api/sessions').json()[0]['notebook']['path'].replace('fileId=','')\n",
        "\n",
        "print(SAVE_PATH, nb_name, now_utc_timestamp, nb_id)\n",
        "\n",
        "# create a snapshot of this currently running notebook and save to SAVE_PATH\n",
        "downloaded_nb = gdrive.CreateFile({'id':nb_id})   # replace the id with id of file you want to access\n",
        "downloaded_nb.GetContentFile(SAVE_PATH/f'{nb_name}_{now_utc_timestamp}.ipynb')"
      ],
      "execution_count": null,
      "outputs": []
    },
    {
      "cell_type": "code",
      "metadata": {
        "id": "cKM1tWCS3-Bd"
      },
      "source": [
        "# upload everything to gdrive\n",
        "assets_to_gdrive(folder_name=f'{nb_name}_{now_utc_timestamp}')"
      ],
      "execution_count": null,
      "outputs": []
    }
  ]
}