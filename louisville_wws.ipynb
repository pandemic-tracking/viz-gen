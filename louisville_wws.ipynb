{
  "nbformat": 4,
  "nbformat_minor": 0,
  "metadata": {
    "colab": {
      "name": "louisville-wws.ipynb",
      "provenance": [],
      "authorship_tag": "ABX9TyPiELa2MKA3mVqB/2Q6EZ2q",
      "include_colab_link": true
    },
    "kernelspec": {
      "name": "python3",
      "display_name": "Python 3"
    },
    "language_info": {
      "name": "python"
    }
  },
  "cells": [
    {
      "cell_type": "markdown",
      "metadata": {
        "id": "view-in-github",
        "colab_type": "text"
      },
      "source": [
        "<a href=\"https://colab.research.google.com/github/pandemic-tracking/viz-gen/blob/main/louisville_wws.ipynb\" target=\"_parent\"><img src=\"https://colab.research.google.com/assets/colab-badge.svg\" alt=\"Open In Colab\"/></a>"
      ]
    },
    {
      "cell_type": "code",
      "execution_count": null,
      "metadata": {
        "id": "uN-TZhMnmJvN"
      },
      "outputs": [],
      "source": [
        "!pip install geopandas"
      ]
    },
    {
      "cell_type": "code",
      "source": [
        "import geopandas as gpd"
      ],
      "metadata": {
        "id": "KDUWCD7rma1k"
      },
      "execution_count": null,
      "outputs": []
    },
    {
      "cell_type": "code",
      "source": [
        "import pandas as pd\n",
        "import numpy as np\n",
        "\n",
        "from datetime import datetime, timedelta\n",
        "import pytz\n",
        "\n",
        "import altair as alt\n",
        "from altair import datum\n",
        "alt.data_transformers.disable_max_rows()\n",
        "\n",
        "from pathlib import Path\n",
        "\n",
        "pd.set_option(\"display.precision\", 4)\n",
        "\n",
        "now_est = datetime.now().astimezone(pytz.timezone(\"US/Eastern\"))\n",
        "\n",
        "now_est_time = now_est.strftime(\"%Y-%m-%d, %H:%M:%S ET\")\n",
        "now_est_date = now_est.strftime(\"%Y-%m-%d\")\n",
        "now_est_timestamp = now_est.strftime(\"%Y%m%d_%H%M%S\")\n",
        "now_utc_timestamp = datetime.utcnow().strftime(\"%Y%m%d_%H%M%S\")\n",
        "print(now_est_time, now_est_date, now_est_timestamp, now_utc_timestamp)"
      ],
      "metadata": {
        "id": "FRnC-R3dnGqG"
      },
      "execution_count": null,
      "outputs": []
    },
    {
      "cell_type": "code",
      "source": [
        "# adapting from https://towardsdatascience.com/consistently-beautiful-visualizations-with-altair-themes-c7f9f889602\n",
        "\n",
        "def ptc_theme():\n",
        "    axisColor = \"#808080\"\n",
        "    gridColor = \"#DEDDDD\"\n",
        "    markColor = \"#000000\"\n",
        "    font = 'Arial'\n",
        "    labelFont = 'Arial'\n",
        "    # Colors\n",
        "    # main_palette = [\"#1696d2\", \n",
        "    #                 \"#d2d2d2\",\n",
        "    #                 \"#000000\", \n",
        "    #                 \"#fdbf11\", \n",
        "    #                 \"#ec008b\", \n",
        "    #                 \"#55b748\", \n",
        "    #                 \"#5c5859\", \n",
        "    #                 \"#db2b27\", \n",
        "    #                ]\n",
        "    # sequential_palette = [\"#cfe8f3\", \n",
        "    #                       \"#a2d4ec\", \n",
        "    #                       \"#73bfe2\", \n",
        "    #                       \"#46abdb\", \n",
        "    #                       \"#1696d2\", \n",
        "    #                       \"#12719e\", \n",
        "    #                      ]\n",
        "    return {\n",
        "          \"config\": {\n",
        "              \"title\": {\n",
        "                  \"fontSize\": 20,\n",
        "                  \"font\": font,\n",
        "                  \"anchor\": \"start\", # equivalent of left-aligned.\n",
        "                  \"fontColor\": \"#000000\",\n",
        "                  \"fontWeight\": \"normal\",\n",
        "              },\n",
        "              \"text\": {\n",
        "                  \"font\": font,\n",
        "                  \"labelFont\": labelFont,\n",
        "              },\n",
        "              \"header\": {\n",
        "                  \"font\": font,\n",
        "                  \"labelFont\": labelFont,\n",
        "                  \"titleFont\": font,\n",
        "              },\n",
        "              \"axisX\": {\n",
        "                  \"domain\": False,\n",
        "                  \"domainColor\": axisColor,\n",
        "                  \"labelColor\": axisColor,\n",
        "                  \"domainWidth\": 1,\n",
        "                  \"grid\": False,\n",
        "                  \"labelFont\": labelFont,\n",
        "                  \"labelFontSize\": 12,\n",
        "                  \"labelAngle\": 0, \n",
        "                  \"tickColor\": axisColor,\n",
        "                  \"tickSize\": 5, # default, including it just to show you can change it\n",
        "                  \"titleFont\": font,\n",
        "                  \"titleFontSize\": 12,\n",
        "                  \"titlePadding\": 10, # guessing, not specified in styleguide\n",
        "                  \"title\": \"X Axis Title (units)\", \n",
        "              },\n",
        "              \"axisY\": {\n",
        "                  \"domain\": False,\n",
        "                  \"grid\": True,\n",
        "                  \"gridColor\": gridColor,\n",
        "                  \"gridWidth\": 1,\n",
        "                  \"labelFont\": labelFont,\n",
        "                  \"labelColor\": axisColor,\n",
        "                  \"labelFontSize\": 12,\n",
        "                  \"labelAngle\": 0,\n",
        "                  \"labelAnchor\": \"end\",\n",
        "                  \"labelAlign\": \"right\",  \n",
        "                  \"ticks\": False, # even if you don't have a \"domain\" you need to turn these off.\n",
        "                  \"titleFont\": font,\n",
        "                  \"titleFontSize\": 12,\n",
        "                  \"titlePadding\": 10, # guessing, not specified in styleguide\n",
        "                  \"title\": \"Y Axis Title (units)\", \n",
        "                  # titles are by default vertical left of axis so we need to hack this \n",
        "                  \"titleAngle\": 0, # horizontal\n",
        "                  \"titleY\": -10, # move it up\n",
        "                  \"titleX\": 18, # move it to the right so it aligns with the labels \n",
        "              },\n",
        "            #   \"range\": {\n",
        "            #       \"category\": main_palette,\n",
        "            #       \"diverging\": sequential_palette,\n",
        "            #   },\n",
        "              \"legend\": {\n",
        "                  \"labelFont\": labelFont,\n",
        "                  \"labelFontSize\": 12,\n",
        "                  \"symbolType\": \"circle\", # just 'cause\n",
        "                  \"symbolSize\": 100, # default\n",
        "                  \"titleFont\": font,\n",
        "                  \"titleFontSize\": 12,\n",
        "                  \"title\": \"\", # set it to no-title by default\n",
        "                  \"orient\": \"right\", # so it's right next to the y-axis\n",
        "                  \"offset\": 0, # literally right next to the y-axis.\n",
        "              },\n",
        "              \"view\": {\n",
        "                  \"stroke\": \"transparent\", # altair uses gridlines to box the area where the data is visualized. This takes that off.\n",
        "              },\n",
        "        }\n",
        "    }\n",
        "\n",
        "alt.themes.register(\"my_custom_theme\", ptc_theme)\n",
        "alt.themes.enable(\"my_custom_theme\")"
      ],
      "metadata": {
        "id": "MlMW9dkRnGqH"
      },
      "execution_count": null,
      "outputs": []
    },
    {
      "cell_type": "markdown",
      "source": [
        "# Load case data for zipcode and Jefferson County"
      ],
      "metadata": {
        "id": "Rom9E2edD-2s"
      }
    },
    {
      "cell_type": "code",
      "source": [
        "# downloaded shapefile zip from https://data.lojic.org/datasets/LOJIC::weekly-covid-19-average-daily-incidence-rate-per-zip-code-in-jefferson-county-ky/about\n",
        "zip_gdf = gpd.read_file('/content/Weekly_COVID-19_Average_daily_incidence_rate_per_zip_code_in_Jefferson_County%2C_KY (1).zip', parse_dates=['COLLECTION'])"
      ],
      "metadata": {
        "id": "Oqktw8C7mes2"
      },
      "execution_count": null,
      "outputs": []
    },
    {
      "cell_type": "code",
      "source": [
        "zip_gdf.plot()"
      ],
      "metadata": {
        "id": "pF9oad0om1nb"
      },
      "execution_count": null,
      "outputs": []
    },
    {
      "cell_type": "code",
      "source": [
        "zip_gdf[zip_gdf.ZIPCODE.isna()]"
      ],
      "metadata": {
        "id": "jQfeHNjUm5Fq"
      },
      "execution_count": null,
      "outputs": []
    },
    {
      "cell_type": "code",
      "source": [
        "zip_shapes = zip_gdf[zip_gdf['COLLECTION']=='2022-01-16']\n",
        "zip_shapes.plot()"
      ],
      "metadata": {
        "id": "dAH0ScNJm7EP"
      },
      "execution_count": null,
      "outputs": []
    },
    {
      "cell_type": "code",
      "source": [
        "zips_merged = zip_gdf.dissolve()\n",
        "zips_merged.plot()"
      ],
      "metadata": {
        "id": "rVFs5sPzvfN6"
      },
      "execution_count": null,
      "outputs": []
    },
    {
      "cell_type": "code",
      "source": [
        "zip_gdf['date_ending'] = pd.to_datetime(zip_gdf['COLLECTION'])+timedelta(days=6)"
      ],
      "metadata": {
        "id": "HquEcXWj3l7R"
      },
      "execution_count": null,
      "outputs": []
    },
    {
      "cell_type": "code",
      "source": [
        "# downloaded from https://data.lojic.org/datasets/covid-19-daily-case-count-in-jefferson-county-ky/explore\n",
        "county_df = pd.read_csv('/content/COVID-19_Daily_Case_Count_in_Jefferson_County%2C_KY (1).csv', parse_dates=['reported'])"
      ],
      "metadata": {
        "id": "VS5oyolwy7_w"
      },
      "execution_count": null,
      "outputs": []
    },
    {
      "cell_type": "code",
      "source": [
        "county_df = county_df.sort_values('reported')"
      ],
      "metadata": {
        "id": "TCway2pFy7_w"
      },
      "execution_count": null,
      "outputs": []
    },
    {
      "cell_type": "code",
      "source": [
        "county_df['confirmed_per100k_7davg'] = county_df['Confirmed_RatePer100K'].rolling(7, min_periods=5).mean()"
      ],
      "metadata": {
        "id": "pbIOVV4Zy7_w"
      },
      "execution_count": null,
      "outputs": []
    },
    {
      "cell_type": "code",
      "source": [
        "county_df.columns"
      ],
      "metadata": {
        "id": "N74KIogXDmAn"
      },
      "execution_count": null,
      "outputs": []
    },
    {
      "cell_type": "code",
      "source": [
        "county_df[['reported','Confirmed_RatePer100K','confirmed_per100k_7davg']].tail(50)"
      ],
      "metadata": {
        "id": "oz7hw1_Ly7_w"
      },
      "execution_count": null,
      "outputs": []
    },
    {
      "cell_type": "markdown",
      "source": [
        "# Load WWS data from Louisville"
      ],
      "metadata": {
        "id": "SGDBvQXpyiqT"
      }
    },
    {
      "cell_type": "code",
      "source": [
        "# excel file from UL partner, imported into Google Sheets here: https://docs.google.com/spreadsheets/d/1cil_OTYN8GiKwj9FDioj60yvWpw_5k5VU5bTWwN-ojo/edit?usp=sharing\n",
        "ww_df = pd.read_csv('/content/louisville-wws-data - adjusted SARS-CoV-2 N1 (2).csv')\n",
        "# ww_df = pd.read_excel('/content/viral_concentration_and_case_data_2022-01-24_JZ (1).xlsx', sheet_name='adjusted SARS-CoV-2 N1')\n",
        "ww_df"
      ],
      "metadata": {
        "id": "-wVzDSZjnQa0"
      },
      "execution_count": null,
      "outputs": []
    },
    {
      "cell_type": "code",
      "source": [
        "ww_df.columns=ww_df.iloc[0]\n",
        "ww_df=ww_df.iloc[3:]"
      ],
      "metadata": {
        "id": "ztgLJd9owG0y"
      },
      "execution_count": null,
      "outputs": []
    },
    {
      "cell_type": "code",
      "source": [
        "ww_df.rename({'catchment area name':'date'}, axis=1, inplace=True)\n",
        "ww_df['date'] = pd.to_datetime(ww_df['date'])"
      ],
      "metadata": {
        "id": "LPTfvyajwHNb"
      },
      "execution_count": null,
      "outputs": []
    },
    {
      "cell_type": "code",
      "source": [
        "ww_df"
      ],
      "metadata": {
        "id": "VJgfQBLWz6Aw"
      },
      "execution_count": null,
      "outputs": []
    },
    {
      "cell_type": "code",
      "source": [
        "ww_df_melt = ww_df.melt(id_vars='date', var_name='sewershed')"
      ],
      "metadata": {
        "id": "sopXMyNHw2S3"
      },
      "execution_count": null,
      "outputs": []
    },
    {
      "cell_type": "code",
      "source": [
        "ww_df_melt['value'] = ww_df_melt['value'].astype('float')"
      ],
      "metadata": {
        "id": "7qTZ9loYhIxw"
      },
      "execution_count": null,
      "outputs": []
    },
    {
      "cell_type": "code",
      "source": [
        "ww_df_melt[ww_df_melt['value']==ww_df_melt.value.max()]"
      ],
      "metadata": {
        "id": "nmog1hwFxSP7"
      },
      "execution_count": null,
      "outputs": []
    },
    {
      "cell_type": "code",
      "source": [
        "ww_df_melt"
      ],
      "metadata": {
        "id": "K9iV71XzVJUR"
      },
      "execution_count": null,
      "outputs": []
    },
    {
      "cell_type": "code",
      "source": [
        "sewershed_shapes = gpd.read_file('https://gist.githubusercontent.com/daveluo/2a3ea992e7a90d4c61bb518fc1715dcd/raw/bb1279f300b53be1aa430757265484ec7bbad896/Sewersheds_9_30.geojson')"
      ],
      "metadata": {
        "id": "IGOcMYo2zWBG"
      },
      "execution_count": null,
      "outputs": []
    },
    {
      "cell_type": "code",
      "source": [
        "sewershed_shapes.plot()"
      ],
      "metadata": {
        "id": "-IFGyA1P6fwy"
      },
      "execution_count": null,
      "outputs": []
    },
    {
      "cell_type": "code",
      "source": [
        "sewershed_shapes"
      ],
      "metadata": {
        "id": "4SUw_R976hUK"
      },
      "execution_count": null,
      "outputs": []
    },
    {
      "cell_type": "code",
      "source": [
        "# create dict for matching up the catchment area numbers and names\n",
        "ww_df_nums = pd.read_csv('/content/louisville-wws-data - adjusted SARS-CoV-2 N1 (2).csv')\n",
        "# ww_df_nums = pd.read_excel('/content/viral_concentration_and_case_data_2022-01-24_JZ (1).xlsx', sheet_name='adjusted SARS-CoV-2 N1')\n",
        "ww_df_nums.columns = ww_df_nums.iloc[0]\n",
        "ww_df_dict = ww_df_nums.iloc[1].to_dict()\n",
        "ww_df_dict_rev = {v:k for k,v in ww_df_dict.items()}\n",
        "ww_df_dict_rev"
      ],
      "metadata": {
        "id": "JCYoZ1mJDBmB"
      },
      "execution_count": null,
      "outputs": []
    },
    {
      "cell_type": "code",
      "source": [
        "sewershed_shapes[['Address','ZoneNUM']]"
      ],
      "metadata": {
        "id": "ZExHDOm1HUZG"
      },
      "execution_count": null,
      "outputs": []
    },
    {
      "cell_type": "code",
      "source": [
        "ww_df_dict_rev['18']=''"
      ],
      "metadata": {
        "id": "FfTv3-UDHx2k"
      },
      "execution_count": null,
      "outputs": []
    },
    {
      "cell_type": "code",
      "source": [
        "sewershed_shapes['Address_2'] = sewershed_shapes['ZoneNUM'].apply(lambda x: ww_df_dict_rev[str(x)])"
      ],
      "metadata": {
        "id": "ixP3xINAEfeP"
      },
      "execution_count": null,
      "outputs": []
    },
    {
      "cell_type": "code",
      "source": [
        "sewershed_shapes[['ZoneNUM','Address','Address_2','geometry']]"
      ],
      "metadata": {
        "id": "LZYnsbHgHHdT"
      },
      "execution_count": null,
      "outputs": []
    },
    {
      "cell_type": "code",
      "source": [
        "sewershed_shapes.Address = sewershed_shapes.Address.replace(' ',np.nan).combine_first(sewershed_shapes.Address_2)\n",
        "sewershed_shapes.Address_2 = sewershed_shapes.Address_2.replace('',np.nan).combine_first(sewershed_shapes.Address)\n",
        "sewershed_shapes[['ZoneNUM','Address','Address_2','geometry']]"
      ],
      "metadata": {
        "id": "WJUURhCb-oCL"
      },
      "execution_count": null,
      "outputs": []
    },
    {
      "cell_type": "code",
      "source": [
        "sewershed_shapes.sort_values('ZoneNUM')"
      ],
      "metadata": {
        "id": "xs9OkgQ9tPec"
      },
      "execution_count": null,
      "outputs": []
    },
    {
      "cell_type": "code",
      "source": [
        "sewershed_shapes.sort_values('ZoneNUM')[['ZoneNUM','Address','Address_2','geometry']].to_file('louisville_sewersheds.geojson', driver='GeoJSON')"
      ],
      "metadata": {
        "id": "9IuZsjgWe_FS"
      },
      "execution_count": null,
      "outputs": []
    },
    {
      "cell_type": "code",
      "source": [
        "ww_df_melt = pd.merge(ww_df_melt, sewershed_shapes[['Address','Address_2']], left_on=['sewershed'], right_on=['Address_2'])"
      ],
      "metadata": {
        "id": "666pDLSWH3GH"
      },
      "execution_count": null,
      "outputs": []
    },
    {
      "cell_type": "code",
      "source": [
        "ww_df_melt"
      ],
      "metadata": {
        "id": "oV71AXu22V2u"
      },
      "execution_count": null,
      "outputs": []
    },
    {
      "cell_type": "markdown",
      "source": [
        "# Make Viz"
      ],
      "metadata": {
        "id": "aKwVkf5iEIyo"
      }
    },
    {
      "cell_type": "code",
      "source": [
        "viz_start_date = '2021-07-01'\n",
        "min_visible_conc = 0.001\n",
        "\n",
        "ww_source_df = ww_df_melt[ww_df_melt['date']>=viz_start_date]\n",
        "ww_source_df[ww_source_df['value']<=min_visible_conc] = np.nan # remove points from view so they're not shown at bottom after clamping \n",
        "zip_source_df = zip_gdf[(zip_gdf['date_ending']>=viz_start_date)][['ZIPCODE','date_ending','aveDaily_R']]\n",
        "county_source_df = county_df[(county_df['reported']>=viz_start_date)]"
      ],
      "metadata": {
        "id": "NQZ_ZmrM28Sg"
      },
      "execution_count": null,
      "outputs": []
    },
    {
      "cell_type": "code",
      "source": [
        "county_viz_line = alt.Chart(county_source_df).mark_line(stroke='#0094ea', strokeWidth=4, opacity=0.7).encode(\n",
        "    x=alt.X('reported:T', #scale=alt.Scale(domain=[ww_source_df.date.min(), ww_source_df.date.max()], clamp=False)\n",
        "    ),\n",
        "    y='confirmed_per100k_7davg'\n",
        ")\n",
        "\n",
        "county_viz_bar = alt.Chart(county_source_df).mark_bar(stroke='#0094ea', width=2, opacity=0.4).encode(\n",
        "    x=alt.X('reported:T', #scale=alt.Scale(domain=[ww_source_df.date.min(), ww_source_df.date.max()], clamp=False)\n",
        "    ),\n",
        "    y='Confirmed_RatePer100K'\n",
        ")\n",
        "\n",
        "county_viz = county_viz_bar+county_viz_line\n",
        "county_viz"
      ],
      "metadata": {
        "id": "PL28j0nN4aM1"
      },
      "execution_count": null,
      "outputs": []
    },
    {
      "cell_type": "code",
      "source": [
        "zip_select = alt.selection(type='multi', fields=['ZIPCODE'], #bind=zip_dropdown, \n",
        "                                    name='Zip Code')\n",
        "\n",
        "zip_viz = alt.Chart(zip_source_df).mark_line(point=True, opacity=0.7).encode(\n",
        "    color=alt.Color('ZIPCODE', scale=alt.Scale(scheme='goldorange', reverse=False), legend=None),\n",
        "    x=alt.X('date_ending:T', #scale=alt.Scale(domain=[ww_source_df.date.min(), ww_source_df.date.max()], clamp=True), \n",
        "            axis=alt.Axis(title=None)),\n",
        "    y=alt.Y('aveDaily_R', axis=alt.Axis(title='Daily Cases per 100K (7d avg) per ZIP Code (orange) compared to Jefferson County-wide (blue)', titleAnchor='start', titleX=-50)),\n",
        "    tooltip=['ZIPCODE','date_ending','aveDaily_R']\n",
        ").properties(width=400, height=200).add_selection(zip_select).transform_filter(zip_select)\n",
        "\n",
        "zip_viz"
      ],
      "metadata": {
        "id": "ruQ2cCPw4kxc"
      },
      "execution_count": null,
      "outputs": []
    },
    {
      "cell_type": "code",
      "source": [
        "zip_base_map = alt.Chart(data=zip_shapes).mark_geoshape(stroke='black').encode(\n",
        "    color=alt.condition(zip_select, alt.value('yellow'), alt.value('lightgrey')),\n",
        "    opacity=alt.condition(zip_select, alt.value(0.3), alt.value(0.1)),\n",
        "    strokeOpacity=alt.value(1),\n",
        "    strokeWidth=alt.condition(zip_select, alt.value(2), alt.value(0.5)),\n",
        "    tooltip=[\"ZIPCODE\"],\n",
        "    ).project(\n",
        "      type='mercator', #reflectY=True\n",
        ").properties(width=500, height=400).add_selection(zip_select)#.transform_filter(zip_select)\n",
        "\n",
        "zip_base_map"
      ],
      "metadata": {
        "id": "KPn38xOk6GwS"
      },
      "execution_count": null,
      "outputs": []
    },
    {
      "cell_type": "code",
      "source": [
        "county_boundary = alt.Chart(data=zips_merged).mark_geoshape(stroke='#0094ea', strokeWidth=3, opacity=0.5, fill=None).encode(\n",
        "    ).project(\n",
        "      type='mercator', #reflectY=True\n",
        ").properties(width=500, height=400)\n",
        "county_boundary"
      ],
      "metadata": {
        "id": "rnIAh5kRyEJT"
      },
      "execution_count": null,
      "outputs": []
    },
    {
      "cell_type": "code",
      "source": [
        "sewershed_select = alt.selection_multi(fields=['Address_2'], bind='legend', clear=False)\n",
        "\n",
        "sewershed_viz = alt.Chart(ww_source_df).mark_point(filled=True, clip=True).encode(\n",
        "    x=alt.X('date:T', scale=alt.Scale(domain=[ww_source_df.date.min(), county_df.reported.max()], clamp=False), \n",
        "            axis=alt.Axis(title=None)),\n",
        "    y=alt.Y('value:Q', axis=alt.Axis(title='Wastewater Virus Concentration by Area (PMMoV-adjusted SARS-CoV-2 N1 copies/mL) in log scale',\n",
        "                                     titleAnchor='start', titleX=-50), scale=alt.Scale(type='log', domain=[min_visible_conc, 1e5], clamp=True)),\n",
        "    color=alt.Color('Address_2', scale=alt.Scale(scheme='category20')),\n",
        "    opacity = alt.condition(sewershed_select, alt.value(0.8), alt.value(0.)),\n",
        "    tooltip=['date','Address_2','value']\n",
        ").properties(width=400, height=200).add_selection(sewershed_select).transform_filter(sewershed_select)\n",
        "\n",
        "sewershed_viz"
      ],
      "metadata": {
        "id": "1G2NvATA6nC3"
      },
      "execution_count": null,
      "outputs": []
    },
    {
      "cell_type": "code",
      "source": [
        "sewershed_base_map = alt.Chart(data=sewershed_shapes).mark_geoshape(stroke='black', strokeWidth=0.5).encode(\n",
        "    color=alt.value('grey'),\n",
        "    ).project(type='mercator').properties(width=500, height=500)\n",
        "\n",
        "sewershed_map = sewershed_base_map.encode(\n",
        "    color=alt.Color(\"Address_2:N\", legend=alt.Legend(title='Catchment Area', orient='left'), scale=alt.Scale(scheme='category20')),\n",
        "    opacity = alt.condition(sewershed_select, alt.value(1), alt.value(0.2)),\n",
        ").add_selection(sewershed_select).properties(\n",
        "    title={\"text\": [\"Wastewater Catchment Areas with ZIP Code Boundaries Overlaid in Yellow\"],\n",
        "           \"subtitle\": \"Click on map to select ZIP code, click on legend to select catchment area (shift-click to select multiple areas)\",\n",
        "          \"fontSize\": 14,\n",
        "          \"fontWeight\": \"bold\",\n",
        "    },\n",
        "    # title='Wastewater Catchment Areas with Zip Code Boundaries Overlaid in Yellow'\n",
        "\n",
        ")\n",
        "\n",
        "sewershed_map"
      ],
      "metadata": {
        "id": "IUOFicf666o4"
      },
      "execution_count": null,
      "outputs": []
    },
    {
      "cell_type": "code",
      "source": [
        "combo_viz = alt.hconcat(sewershed_map+zip_base_map+county_boundary, (zip_viz+county_viz_line).resolve_scale(color='independent')& sewershed_viz).properties(\n",
        "    title={\n",
        "      \"text\": [\"Louisville, KY SARS-CoV-2 Wastewater Testing by Catchment Area and New Case Trends by ZIP code and in Jefferson County\"], \n",
        "      \"subtitle\": [\"Sources: Wastewater testing - University of Louisville, Cases - Louisville Metro Dept of Public Health and Wellness and LOJIC Open Geospatial Data\",\n",
        "                  \"\"],\n",
        "      \"subtitleFontSize\": 14\n",
        "    },\n",
        "\n",
        ").configure_legend(offset=10)"
      ],
      "metadata": {
        "id": "Q3sxVBlaXD-f"
      },
      "execution_count": null,
      "outputs": []
    },
    {
      "cell_type": "code",
      "source": [
        "combo_viz"
      ],
      "metadata": {
        "id": "d8biWWpC4OYv"
      },
      "execution_count": null,
      "outputs": []
    },
    {
      "cell_type": "code",
      "source": [
        "combo_viz.save('louisville-wws.html')"
      ],
      "metadata": {
        "id": "wQZRUYVj-Ak1"
      },
      "execution_count": null,
      "outputs": []
    },
    {
      "cell_type": "markdown",
      "source": [
        "# Save to Drive"
      ],
      "metadata": {
        "id": "vV5614HQ5uC7"
      }
    },
    {
      "cell_type": "code",
      "source": [
        "# this is for saving altair charts to png and svg, based on https://colab.research.google.com/github/altair-viz/altair_saver/blob/master/AltairSaver.ipynb#scrollTo=ZiTDBCAM_Ni8\n",
        "!pip install -q altair_saver\n",
        "!npm install --silent vega-lite vega-cli canvas"
      ],
      "metadata": {
        "id": "ULZHHfOm5tMJ"
      },
      "execution_count": null,
      "outputs": []
    },
    {
      "cell_type": "code",
      "source": [
        "# issue with gcloud dependency on httplib2: https://stackoverflow.com/questions/59815620/gcloud-upload-httplib2-redirectmissinglocation-redirected-but-the-response-is-m\n",
        "# may need to restart runtime after this cell runs and resume from here\n",
        "!pip install 'httplib2<0.16.0' --force-reinstall"
      ],
      "metadata": {
        "id": "qMfVvguarkrf"
      },
      "execution_count": null,
      "outputs": []
    },
    {
      "cell_type": "code",
      "source": [
        "from pathlib import Path\n",
        "from altair_saver import save\n",
        "\n",
        "SAVE_PATH = Path('assets')\n",
        "SAVE_PATH.mkdir(exist_ok=True)\n",
        "\n",
        "# Import PyDrive and associated libraries.\n",
        "# This only needs to be done once per notebook.\n",
        "from pydrive.auth import GoogleAuth\n",
        "from pydrive.drive import GoogleDrive\n",
        "from google.colab import auth\n",
        "from oauth2client.client import GoogleCredentials\n",
        "\n",
        "# Authenticate and create the PyDrive client.\n",
        "# This only needs to be done once per notebook.\n",
        "auth.authenticate_user()\n",
        "gauth = GoogleAuth()\n",
        "gauth.credentials = GoogleCredentials.get_application_default()\n",
        "gdrive = GoogleDrive(gauth)"
      ],
      "metadata": {
        "id": "7nb5T9Yu5tMK"
      },
      "execution_count": null,
      "outputs": []
    },
    {
      "cell_type": "code",
      "source": [
        "def assets_to_gdrive(folder_name, localdir_path = SAVE_PATH, parentdir_id='17Kx2uZbQv1r5U1M9x_OXS4lpMU5c6Ym8'):\n",
        "  # search gdrive for snapshot folder and save assets there if it already exists. \n",
        "  folder_id = ''\n",
        "  file_list = gdrive.ListFile({'q': f\"'{parentdir_id}' in parents and mimeType = 'application/vnd.google-apps.folder' and trashed=false\"}).GetList()\n",
        "  for file1 in file_list:\n",
        "      if file1['title'] == folder_name: \n",
        "        folder_id = file1['id']\n",
        "        print(f'Found pre-existing gdrive folder named \"{folder_name}\" at',folder_id)\n",
        "  # if not, create new folder\n",
        "  if folder_id == '':\n",
        "    folder = gdrive.CreateFile(metadata={'title': folder_name,\n",
        "                                      'parents':[{'id': parentdir_id}],\n",
        "                                      \"mimeType\": \"application/vnd.google-apps.folder\"\n",
        "                                      })\n",
        "    folder.Upload()\n",
        "    folder_id = folder.get('id')\n",
        "    print(f'Created new gdrive folder named \"{folder_name}\" at',folder_id)\n",
        "  \n",
        "  # upload all files within SAVE_PATH to snapshot folder\n",
        "  for asset_file in localdir_path.iterdir():\n",
        "    print('Saving file...',asset_file.name)\n",
        "    file_path = localdir_path/asset_file.name\n",
        "    file1 = gdrive.CreateFile(metadata={'title':asset_file.name,\n",
        "                                        'parents':[{'id': folder_id}],\n",
        "                                        })\n",
        "    file1.SetContentFile(file_path)\n",
        "    file1.Upload()\n",
        "    print('Saved file: ',asset_file.name)\n"
      ],
      "metadata": {
        "id": "GeGCqXMY5tMK"
      },
      "execution_count": null,
      "outputs": []
    },
    {
      "cell_type": "code",
      "source": [
        "def save_vizassets(chart, save_path, filename, fmts=['html','json','png','svg',]):\n",
        "  for fmt in fmts:\n",
        "    save(chart, f'{save_path}/{filename}.{fmt}')"
      ],
      "metadata": {
        "id": "SlAZt5FB5tMK"
      },
      "execution_count": null,
      "outputs": []
    },
    {
      "cell_type": "code",
      "source": [
        "# put your stuff (i.e. dataframes, altair charts, input data files) to save here"
      ],
      "metadata": {
        "id": "2BIgylAI5tMK"
      },
      "execution_count": null,
      "outputs": []
    },
    {
      "cell_type": "code",
      "source": [
        "# examples:\n",
        "\n",
        "# cpr_df.to_csv(SAVE_PATH/'cpr_df.csv')\n",
        "# source_concat.to_csv(SAVE_PATH/'source_concat.csv')\n",
        "ww_df.to_csv(SAVE_PATH/'ww_df.csv')\n",
        "ww_df_melt.to_csv(SAVE_PATH/'ww_df_melt.csv')\n",
        "zip_gdf.to_csv(SAVE_PATH/'zip_gdf.csv')\n",
        "county_df.to_csv(SAVE_PATH/'county_df.csv')\n",
        "save_vizassets(combo_viz, SAVE_PATH, f'combo_viz_{now_utc_timestamp}')"
      ],
      "metadata": {
        "id": "dIQHNvcE5tMK"
      },
      "execution_count": null,
      "outputs": []
    },
    {
      "cell_type": "code",
      "source": [
        "# get the colab filename\n",
        "from requests import get\n",
        "nb_name = get('http://172.28.0.2:9000/api/sessions').json()[0]['name'].replace('.ipynb','')\n",
        "nb_id = get('http://172.28.0.2:9000/api/sessions').json()[0]['notebook']['path'].replace('fileId=','')\n",
        "\n",
        "print(SAVE_PATH, nb_name, now_utc_timestamp, nb_id)\n",
        "\n",
        "# create a snapshot of this currently running notebook and save to SAVE_PATH\n",
        "downloaded_nb = gdrive.CreateFile({'id':nb_id})   # replace the id with id of file you want to access\n",
        "downloaded_nb.GetContentFile(SAVE_PATH/f'{nb_name}_{now_utc_timestamp}.ipynb')"
      ],
      "metadata": {
        "id": "Y3KFyUm65tML"
      },
      "execution_count": null,
      "outputs": []
    },
    {
      "cell_type": "code",
      "source": [
        "# upload everything to gdrive\n",
        "assets_to_gdrive(folder_name=f'{nb_name}_{now_utc_timestamp}')"
      ],
      "metadata": {
        "id": "ZumKnji-5tML"
      },
      "execution_count": null,
      "outputs": []
    },
    {
      "cell_type": "code",
      "source": [
        ""
      ],
      "metadata": {
        "id": "Ig2FHzOia9lV"
      },
      "execution_count": null,
      "outputs": []
    }
  ]
}