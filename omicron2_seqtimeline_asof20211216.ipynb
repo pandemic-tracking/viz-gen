{
  "nbformat": 4,
  "nbformat_minor": 0,
  "metadata": {
    "colab": {
      "name": "omicron2-seqtimeline-asof20211216",
      "provenance": [],
      "collapsed_sections": [],
      "mount_file_id": "1UGzanD_ak26FQf4NqcXy4Z8Czv6OQj-4",
      "authorship_tag": "ABX9TyPaXXwqhk1psPkBZ0WI8icf",
      "include_colab_link": true
    },
    "kernelspec": {
      "name": "python3",
      "display_name": "Python 3"
    },
    "language_info": {
      "name": "python"
    }
  },
  "cells": [
    {
      "cell_type": "markdown",
      "metadata": {
        "id": "view-in-github",
        "colab_type": "text"
      },
      "source": [
        "<a href=\"https://colab.research.google.com/github/pandemic-tracking/viz-gen/blob/main/omicron2_seqtimeline_asof20211216.ipynb\" target=\"_parent\"><img src=\"https://colab.research.google.com/assets/colab-badge.svg\" alt=\"Open In Colab\"/></a>"
      ]
    },
    {
      "cell_type": "code",
      "metadata": {
        "id": "iUiwgzAqSFrp"
      },
      "source": [
        ""
      ],
      "execution_count": null,
      "outputs": []
    },
    {
      "cell_type": "code",
      "metadata": {
        "id": "dqiiCFfSSO5O"
      },
      "source": [
        "import pandas as pd\n",
        "import numpy as np\n",
        "\n",
        "from datetime import datetime, timedelta, date\n",
        "import pytz\n",
        "\n",
        "import altair as alt\n",
        "from altair import datum\n",
        "alt.data_transformers.disable_max_rows()\n",
        "\n",
        "from pathlib import Path\n",
        "\n",
        "pd.set_option(\"display.precision\", 4)\n",
        "\n",
        "now_est = datetime.now().astimezone(pytz.timezone(\"US/Eastern\"))\n",
        "\n",
        "now_est_time = now_est.strftime(\"%Y-%m-%d, %H:%M:%S ET\")\n",
        "now_est_date = now_est.strftime(\"%Y-%m-%d\")\n",
        "now_est_timestamp = now_est.strftime(\"%Y%m%d_%H%M%S\")\n",
        "now_utc_timestamp = datetime.utcnow().strftime(\"%Y%m%d_%H%M%S\")\n",
        "print(now_est_time, now_est_date, now_est_timestamp, now_utc_timestamp)"
      ],
      "execution_count": null,
      "outputs": []
    },
    {
      "cell_type": "code",
      "metadata": {
        "id": "kR5WFqiISO5R"
      },
      "source": [
        "# adapting from https://towardsdatascience.com/consistently-beautiful-visualizations-with-altair-themes-c7f9f889602\n",
        "\n",
        "def ptc_theme():\n",
        "    axisColor = \"#808080\"\n",
        "    gridColor = \"#DEDDDD\"\n",
        "    markColor = \"#000000\"\n",
        "    font = 'Arial'\n",
        "    labelFont = 'Arial'\n",
        "    # Colors\n",
        "    # main_palette = [\"#1696d2\", \n",
        "    #                 \"#d2d2d2\",\n",
        "    #                 \"#000000\", \n",
        "    #                 \"#fdbf11\", \n",
        "    #                 \"#ec008b\", \n",
        "    #                 \"#55b748\", \n",
        "    #                 \"#5c5859\", \n",
        "    #                 \"#db2b27\", \n",
        "    #                ]\n",
        "    # sequential_palette = [\"#cfe8f3\", \n",
        "    #                       \"#a2d4ec\", \n",
        "    #                       \"#73bfe2\", \n",
        "    #                       \"#46abdb\", \n",
        "    #                       \"#1696d2\", \n",
        "    #                       \"#12719e\", \n",
        "    #                      ]\n",
        "    return {\n",
        "          \"config\": {\n",
        "              \"title\": {\n",
        "                  \"fontSize\": 20,\n",
        "                  \"font\": font,\n",
        "                  \"anchor\": \"start\", # equivalent of left-aligned.\n",
        "                  \"fontColor\": \"#000000\",\n",
        "                  \"fontWeight\": \"bold\",\n",
        "              },\n",
        "              \"text\": {\n",
        "                  \"font\": font,\n",
        "                  \"labelFont\": labelFont,\n",
        "              },\n",
        "              \"header\": {\n",
        "                  \"font\": font,\n",
        "                  \"labelFont\": labelFont,\n",
        "                  \"titleFont\": font,\n",
        "              },\n",
        "              \"axisX\": {\n",
        "                  \"domain\": False,\n",
        "                  \"domainColor\": axisColor,\n",
        "                  \"labelColor\": axisColor,\n",
        "                  \"domainWidth\": 1,\n",
        "                  \"grid\": False,\n",
        "                  \"labelFont\": labelFont,\n",
        "                  \"labelFontSize\": 5,\n",
        "                  \"labelAngle\": 0, \n",
        "                  \"labelPadding\": 5,\n",
        "                  \"tickColor\": axisColor,\n",
        "                  \"tickSize\": 5, # default, including it just to show you can change it\n",
        "                  \"titleFont\": font,\n",
        "                  \"titleFontSize\": 12,\n",
        "                  \"titlePadding\": 10, # guessing, not specified in styleguide\n",
        "                  \"title\": \"X Axis Title (units)\", \n",
        "              },\n",
        "              \"axisY\": {\n",
        "                  \"domain\": False,\n",
        "                  \"grid\": True,\n",
        "                  \"gridColor\": gridColor,\n",
        "                  \"gridWidth\": 1,\n",
        "                  \"labelFont\": labelFont,\n",
        "                  \"labelColor\": axisColor,\n",
        "                  \"labelFontSize\": 12,\n",
        "                  \"labelAngle\": 0,\n",
        "                  \"labelAnchor\": \"end\",\n",
        "                  \"labelAlign\": \"right\",  \n",
        "                  \"ticks\": False, # even if you don't have a \"domain\" you need to turn these off.\n",
        "                  \"titleFont\": font,\n",
        "                  \"titleFontSize\": 12,\n",
        "                  \"titlePadding\": 10, # guessing, not specified in styleguide\n",
        "                  \"title\": \"Y Axis Title (units)\", \n",
        "                  # titles are by default vertical left of axis so we need to hack this \n",
        "                  \"titleAngle\": 0, # horizontal\n",
        "                  \"titleY\": -10, # move it up\n",
        "                  \"titleX\": 18, # move it to the right so it aligns with the labels \n",
        "              },\n",
        "            #   \"range\": {\n",
        "            #       \"category\": main_palette,\n",
        "            #       \"diverging\": sequential_palette,\n",
        "            #   },\n",
        "              \"legend\": {\n",
        "                  \"labelFont\": labelFont,\n",
        "                  \"labelFontSize\": 12,\n",
        "                  \"symbolType\": \"stroke\", # just 'cause\n",
        "                  \"symbolSize\": 100, # default\n",
        "                  \"symbolStrokeWidth\": 5,\n",
        "                  \"titleFont\": font,\n",
        "                  \"titleFontSize\": 12,\n",
        "                  \"title\": \"\", # set it to no-title by default\n",
        "                  \"orient\": \"right\", # so it's right next to the y-axis\n",
        "                  \"offset\": 30, # literally right next to the y-axis.\n",
        "              },\n",
        "              \"view\": {\n",
        "                  \"stroke\": \"transparent\", # altair uses gridlines to box the area where the data is visualized. This takes that off.\n",
        "              },\n",
        "        }\n",
        "    }\n",
        "\n",
        "alt.themes.register(\"my_custom_theme\", ptc_theme)\n",
        "alt.themes.enable(\"my_custom_theme\")"
      ],
      "execution_count": null,
      "outputs": []
    },
    {
      "cell_type": "code",
      "metadata": {
        "id": "iWLG_wZ3wMly"
      },
      "source": [
        "from google.colab import auth\n",
        "auth.authenticate_user()\n",
        "\n",
        "import gspread\n",
        "from oauth2client.client import GoogleCredentials\n",
        "\n",
        "gc = gspread.authorize(GoogleCredentials.get_application_default())"
      ],
      "execution_count": null,
      "outputs": []
    },
    {
      "cell_type": "code",
      "metadata": {
        "id": "pvimQvhgUVFj"
      },
      "source": [
        "date_str = '2021_12_16_17'\n",
        "# df1 = pd.read_csv(f'/content/gisaid_hcov-19_2021_12_11_00.tsv', sep='\\t')\n",
        "# df1['lineage'] = 'BA.1'\n",
        "# df2 = pd.read_csv(f'/content/gisaid_hcov-19_{date_str}_17_BA2.tsv', sep='\\t')\n",
        "# df2['lineage'] = 'BA.2'\n",
        "df3 = pd.read_csv(f'/content/gisaid_hcov-19_{date_str}.tsv', sep='\\t')\n",
        "df3['lineage'] = 'B.1.1.529+BA.*'\n",
        "\n",
        "update_date = 'December 16, 2021 12PM EST'"
      ],
      "execution_count": null,
      "outputs": []
    },
    {
      "cell_type": "code",
      "source": [
        "df = df3#pd.concat([df1, df2, df3])"
      ],
      "metadata": {
        "id": "Cyrmm_UzH4Ep"
      },
      "execution_count": null,
      "outputs": []
    },
    {
      "cell_type": "code",
      "metadata": {
        "id": "XWrOfVmTVWvp"
      },
      "source": [
        "seq_count = df.shape[0]\n",
        "df.shape"
      ],
      "execution_count": null,
      "outputs": []
    },
    {
      "cell_type": "code",
      "metadata": {
        "id": "rsxoblmGXA9i"
      },
      "source": [
        "df.columns"
      ],
      "execution_count": null,
      "outputs": []
    },
    {
      "cell_type": "code",
      "metadata": {
        "id": "qumzvxq4bPe0"
      },
      "source": [
        "df.Location.value_counts()"
      ],
      "execution_count": null,
      "outputs": []
    },
    {
      "cell_type": "code",
      "metadata": {
        "id": "kD4hsLvHXJPo"
      },
      "source": [
        "df['collect_date'] = pd.to_datetime(df['Collection date'])\n",
        "df['submit_date'] = pd.to_datetime(df['Submission date'])"
      ],
      "execution_count": null,
      "outputs": []
    },
    {
      "cell_type": "code",
      "metadata": {
        "id": "3ecJA6oDXVWt"
      },
      "source": [
        "def get_weekstartdate(dt_value):\n",
        "    start = dt_value - timedelta(days=dt_value.weekday())\n",
        "    return start\n",
        "\n",
        "def titlecase_location(location_name, exceptions=['and', 'or', 'the', 'a', 'of', 'in', \"d'Ivoire\"]):\n",
        "    word_list = [word if word in exceptions else word.capitalize() for word in location_name.split(' ')]\n",
        "    return ' '.join(word_list)\n",
        "\n",
        "def correct_location_names(gisaid_df):\n",
        "    gisaid_df.loc[:,'country'] = gisaid_df['country'].apply(titlecase_location)\n",
        "    gisaid_df.loc[gisaid_df['country'].fillna('').str.contains('USA', case=False), 'country'] = 'United States'\n",
        "    gisaid_df.loc[gisaid_df['country'] == 'Puerto Rico', 'country'] = 'United States'\n",
        "    gisaid_df.loc[gisaid_df['country'] == 'Guam', 'country'] = 'United States'\n",
        "    gisaid_df.loc[gisaid_df['country'] == 'Northern Mariana Islands', 'country'] = 'United States'\n",
        "    gisaid_df.loc[gisaid_df['country'] == 'U.s. Virgin Islands', 'country'] = 'United States'\n",
        "    # gisaid_df.loc[gisaid_df['country'] == 'Czech Republic', 'country'] = 'Czech Republic'\n",
        "    gisaid_df.loc[gisaid_df['country'] == 'Antigua', 'country'] = 'Antigua and Barbuda'\n",
        "    gisaid_df.loc[gisaid_df['country'] == 'Democratic Republic of the Congo', 'country'] = 'Democratic Republic of Congo'\n",
        "    gisaid_df.loc[gisaid_df['country'] == 'Republic of the Congo', 'country'] = 'Congo'\n",
        "    gisaid_df.loc[gisaid_df['country'] == 'Faroe Islands', 'country'] = 'Faeroe Islands'\n",
        "    gisaid_df.loc[gisaid_df['country'] == 'Guinea Bissau', 'country'] = 'Guinea-Bissau'\n",
        "    gisaid_df.loc[gisaid_df['country'] == 'Niogeria', 'country'] = 'Nigeria'\n",
        "    gisaid_df.loc[gisaid_df['country'] == 'Bosni and Herzegovina', 'country'] = 'Bosnia and Herzegovina'\n",
        "    gisaid_df.loc[gisaid_df['country'] == 'England', 'country'] = 'United Kingdom'\n",
        "    gisaid_df.loc[gisaid_df['country'] == 'The Bahamas', 'country'] = 'Bahamas'\n",
        "    gisaid_df.loc[gisaid_df['country'] == 'Hong Kong', 'country'] = 'Hong Kong SAR (China)'\n",
        "    gisaid_df.loc[gisaid_df['country'] == 'Reunion', 'country'] = 'Reunion (France)'\n",
        "    return gisaid_df\n",
        "\n",
        "def annotate_sequences(gisaid_df):\n",
        "    gisaid_df['region'] = gisaid_df.Location.apply(lambda x: x.split('/')[0].strip())\n",
        "    gisaid_df['country'] = gisaid_df.Location.apply(lambda x: x.split('/')[1].strip())\n",
        "    gisaid_df['division'] = gisaid_df.Location.apply(\n",
        "        lambda x: x.split('/')[2].strip() if len(x.split('/'))>2 else '')\n",
        "\n",
        "    # replace 'USA' string with 'United States' etc in location, to match OWID location name\n",
        "    gisaid_df = correct_location_names(gisaid_df)\n",
        "\n",
        "    gisaid_df['collect_date'] = pd.to_datetime(gisaid_df['Collection date'])\n",
        "    gisaid_df['submit_date'] = pd.to_datetime(gisaid_df['Submission date'])\n",
        "\n",
        "    gisaid_df['lag_days'] = gisaid_df['submit_date'] - gisaid_df['collect_date']\n",
        "    gisaid_df['lag_days'] = gisaid_df['lag_days'].dt.days.astype('int')\n",
        "\n",
        "    # using ISO 8601 year and week (Monday as the first day of the week. Week 01 is the week containing Jan 4)\n",
        "    gisaid_df['collect_yearweek'] = gisaid_df['collect_date'].apply(lambda x: datetime.strftime(x, \"%G-W%V\"))\n",
        "    gisaid_df['submit_yearweek'] = gisaid_df['submit_date'].apply(lambda x: datetime.strftime(x, \"%G-W%V\"))\n",
        "\n",
        "    gisaid_df['collect_weekstartdate'] = gisaid_df['collect_date'].apply(get_weekstartdate)\n",
        "    gisaid_df['submit_weekstartdate'] = gisaid_df['submit_date'].apply(get_weekstartdate)\n",
        "\n",
        "    return gisaid_df"
      ],
      "execution_count": null,
      "outputs": []
    },
    {
      "cell_type": "code",
      "metadata": {
        "id": "SKVQCVe8Xfd_"
      },
      "source": [
        "df = annotate_sequences(df)"
      ],
      "execution_count": null,
      "outputs": []
    },
    {
      "cell_type": "code",
      "metadata": {
        "id": "NhrPDdPCbBEc"
      },
      "source": [
        "df.Location.value_counts()"
      ],
      "execution_count": null,
      "outputs": []
    },
    {
      "cell_type": "code",
      "metadata": {
        "id": "x7UzQ2yGcYfp"
      },
      "source": [
        "df"
      ],
      "execution_count": null,
      "outputs": []
    },
    {
      "cell_type": "code",
      "metadata": {
        "id": "UAyfTYROXuCE"
      },
      "source": [
        "today_str = date.today().strftime('%Y-%m-%d')\n",
        "\n",
        "# full date string, between Dec 2019 and today (no future samples allowed)\n",
        "def is_legit_date(collection_date):\n",
        "    return len(collection_date) == 10 and \\\n",
        "        collection_date > '2019-12-01' and collection_date <= today_str\n",
        "\n",
        "df['date_filter'] = df['Collection date'].apply(is_legit_date)"
      ],
      "execution_count": null,
      "outputs": []
    },
    {
      "cell_type": "code",
      "metadata": {
        "id": "H-T6TVcciwIr"
      },
      "source": [
        "df['country_count'] = df['country'].apply(lambda x: x+\" (\"+str(df['country'].value_counts().to_dict()[x])+\")\")\n",
        "countries_count = len(df['country'].unique())\n",
        "countries_count"
      ],
      "execution_count": null,
      "outputs": []
    },
    {
      "cell_type": "code",
      "source": [
        "df[df['Accession ID'].isin(exclude_seqs_list)]['country'].unique()"
      ],
      "metadata": {
        "id": "IbZDa2XHMYd9"
      },
      "execution_count": null,
      "outputs": []
    },
    {
      "cell_type": "code",
      "source": [
        "# exclude Senegal and other anomalous seqs\n",
        "exclude_seqs_list = ['EPI_ISL_7400617', # Senegal sample colleced 11/9\n",
        "                # 'EPI_ISL_7543999', # S Africa sample collected 6/17\n",
        "                'EPI_ISL_7547731', # Nigeria sample collected 10/17\n",
        "                'EPI_ISL_7605742', # S Africa Eastern Cape sample collected 10/24\n",
        "]\n",
        "\n",
        "exclude_seqs_countries = list(df[df['Accession ID'].isin(exclude_seqs_list)]['country'].unique())\n",
        "print(len(exclude_seqs_list), exclude_seqs_countries)\n",
        "\n",
        "df = df[~df['Accession ID'].isin(exclude_seqs_list)]"
      ],
      "metadata": {
        "id": "W6yk8UisUd6q"
      },
      "execution_count": null,
      "outputs": []
    },
    {
      "cell_type": "code",
      "source": [
        "first_ids = df[df['date_filter']==True][['country','Collection date','Submission date','Accession ID']].sort_values(['Collection date','Submission date']).drop_duplicates(subset='country')['Accession ID'].to_list()\n",
        "first_ids"
      ],
      "metadata": {
        "id": "G6FaVl98ULDB"
      },
      "execution_count": null,
      "outputs": []
    },
    {
      "cell_type": "code",
      "source": [
        "first_ids_sub = df[df['date_filter']==True][['country','Collection date','Submission date','Accession ID']].sort_values(['Submission date','Collection date']).drop_duplicates(subset='country')['Accession ID'].to_list()\n",
        "first_ids_sub"
      ],
      "metadata": {
        "id": "KzJDU0265eW0"
      },
      "execution_count": null,
      "outputs": []
    },
    {
      "cell_type": "code",
      "metadata": {
        "id": "lafxIbR8f3Xb"
      },
      "source": [
        "first_date_dict = df[df['date_filter']==True][['country_count','Collection date']].sort_values('Collection date').drop_duplicates(subset='country_count').set_index('country_count').to_dict()['Collection date']\n",
        "first_date_dict"
      ],
      "execution_count": null,
      "outputs": []
    },
    {
      "cell_type": "code",
      "metadata": {
        "id": "d-HggdXVgQKj"
      },
      "source": [
        "df['country_count_firstdate'] = df[df['date_filter']==True]['country_count'].apply(lambda x: first_date_dict[x].replace('2021-','').replace('-','/')+' - '+x)\n",
        "df['country_count_firstdate']"
      ],
      "execution_count": null,
      "outputs": []
    },
    {
      "cell_type": "code",
      "metadata": {
        "id": "MJJBjqpnQlKG"
      },
      "source": [
        "sorted_legend = df[df['date_filter']==True][['collect_date','country_count_firstdate']].sort_values('collect_date').drop_duplicates(subset='country_count_firstdate')['country_count_firstdate'].to_list()\n",
        "sorted_legend"
      ],
      "execution_count": null,
      "outputs": []
    },
    {
      "cell_type": "code",
      "metadata": {
        "id": "1ptG5ZcF-HUN"
      },
      "source": [
        "df['country_division'] = df['country'] + ' / ' + df['division']"
      ],
      "execution_count": null,
      "outputs": []
    },
    {
      "cell_type": "code",
      "metadata": {
        "id": "EOpFDNqD-QVY"
      },
      "source": [
        "df['country_division']"
      ],
      "execution_count": null,
      "outputs": []
    },
    {
      "cell_type": "code",
      "metadata": {
        "id": "2Y0j360ZwKKy"
      },
      "source": [
        "sh = gc.open_by_key('12XHSXZiyriSAotB6bBVCn9tbQfUzyMwLvIudXEIg5Pw')\n",
        "rows = sh.worksheet('Sheet1').get_all_values()\n",
        "print(rows)\n",
        "news_df = pd.DataFrame.from_records(rows)"
      ],
      "execution_count": null,
      "outputs": []
    },
    {
      "cell_type": "code",
      "metadata": {
        "id": "7PT0iPgDwY19"
      },
      "source": [
        "news_df.columns = news_df.iloc[0]\n",
        "news_df = news_df.iloc[1:]\n",
        "news_df['collect_date'] = pd.to_datetime(news_df['date'])\n",
        "news_df['event_order'] = pd.to_numeric(news_df['event_order'])"
      ],
      "execution_count": null,
      "outputs": []
    },
    {
      "cell_type": "code",
      "metadata": {
        "id": "WUP8zykXwlM1"
      },
      "source": [
        "news_df"
      ],
      "execution_count": null,
      "outputs": []
    },
    {
      "cell_type": "code",
      "metadata": {
        "id": "HMl5oOt0v3nq"
      },
      "source": [
        "news_df.dropna(inplace=True)"
      ],
      "execution_count": null,
      "outputs": []
    },
    {
      "cell_type": "code",
      "metadata": {
        "id": "ve9w02igx3yH"
      },
      "source": [
        "combined_df = pd.concat([df[df['date_filter']==True], news_df])"
      ],
      "execution_count": null,
      "outputs": []
    },
    {
      "cell_type": "code",
      "metadata": {
        "id": "jxwlFwkxX2fR"
      },
      "source": [
        "combined_df['filter'] = combined_df['Accession ID'].isna().astype('int')"
      ],
      "execution_count": null,
      "outputs": []
    },
    {
      "cell_type": "code",
      "metadata": {
        "id": "kuDVls3zywYv"
      },
      "source": [
        "combined_df.sort_values('collect_date', ascending=True)"
      ],
      "execution_count": null,
      "outputs": []
    },
    {
      "cell_type": "code",
      "metadata": {
        "id": "kzkm02hHmSoy"
      },
      "source": [
        "combined_df.collect_date.min()"
      ],
      "execution_count": null,
      "outputs": []
    },
    {
      "cell_type": "code",
      "source": [
        "combined_df['first_sample'] = combined_df['Accession ID'].apply(lambda x: int(x in first_ids))\n",
        "combined_df['first_seqsub'] = combined_df['Accession ID'].apply(lambda x: int(x in first_ids_sub))"
      ],
      "metadata": {
        "id": "OlB5qTBoUDes"
      },
      "execution_count": null,
      "outputs": []
    },
    {
      "cell_type": "code",
      "source": [
        "combined_df['first_sample']"
      ],
      "metadata": {
        "id": "h7j3wGERUtVT"
      },
      "execution_count": null,
      "outputs": []
    },
    {
      "cell_type": "code",
      "source": [
        "legend_df = pd.read_csv('https://github.com/covid-tracking-collab/gisaid-variants/raw/main/data/gisaid_owid_country_lineage_cases_2021_07_15_weekly.csv')\n",
        "continents_dict = legend_df[['gisaid_country','owid_continent']].drop_duplicates().set_index('gisaid_country').to_dict()['owid_continent']"
      ],
      "metadata": {
        "id": "9VMte_cexlYI"
      },
      "execution_count": null,
      "outputs": []
    },
    {
      "cell_type": "code",
      "source": [
        "continents_dict['Hong Kong SAR (China)'] = 'Asia'\n",
        "continents_dict['Czech Republic'] = 'Europe'\n",
        "continents_dict['Reunion (France)'] = 'Africa'"
      ],
      "metadata": {
        "id": "3OPOn6whyX0J"
      },
      "execution_count": null,
      "outputs": []
    },
    {
      "cell_type": "code",
      "source": [
        "continents_dict"
      ],
      "metadata": {
        "id": "ZlPMgoKZyRRc"
      },
      "execution_count": null,
      "outputs": []
    },
    {
      "cell_type": "code",
      "source": [
        "combined_df['continent'] = combined_df.country.apply(lambda x: continents_dict[x])"
      ],
      "metadata": {
        "id": "LOcRfE12yFY5"
      },
      "execution_count": null,
      "outputs": []
    },
    {
      "cell_type": "code",
      "source": [
        "combined_df[combined_df['Location'].fillna('').str.contains('Senegal')]"
      ],
      "metadata": {
        "id": "3E8ULXMXK9vH"
      },
      "execution_count": null,
      "outputs": []
    },
    {
      "cell_type": "code",
      "source": [
        "combined_df.sort_values('collect_date', inplace=True)"
      ],
      "metadata": {
        "id": "1aH-yA22xnFf"
      },
      "execution_count": null,
      "outputs": []
    },
    {
      "cell_type": "code",
      "source": [
        "for country in combined_df['country'].unique():\n",
        "  combined_df.loc[combined_df['country']==country, 'earliest_date'] =  combined_df.loc[combined_df['country']==country, 'collect_date'].min()\n",
        "  combined_df.loc[combined_df['country']==country, 'latest_date'] =  combined_df.loc[combined_df['country']==country, 'submit_date'].max()"
      ],
      "metadata": {
        "id": "zBK77S-yEUeM"
      },
      "execution_count": null,
      "outputs": []
    },
    {
      "cell_type": "code",
      "metadata": {
        "id": "eED07zV5U8NX"
      },
      "source": [
        "unplotted_seqs = df[df['date_filter']==False][['country']]\n",
        "unplotted_seqs"
      ],
      "execution_count": null,
      "outputs": []
    },
    {
      "cell_type": "code",
      "source": [
        "viz_height = 550\n",
        "\n",
        "base_viz = alt.Chart(combined_df).encode(\n",
        "    y = alt.Y('country_count_firstdate', axis=None,\n",
        "                sort = alt.EncodingSortField(\n",
        "                      field='region',  \n",
        "                      order=\"ascending\"\n",
        "              )),\n",
        "    x = alt.X('collect_date:T', axis=alt.Axis(orient='top', labelFontSize=10, tickMinStep=5, format='%m/%-d'),\n",
        "                scale = alt.Scale(domain=[combined_df.collect_date.min(),combined_df.submit_date.max()])\n",
        "              ),\n",
        "    color=alt.Color('region', scale=alt.Scale(scheme='dark2')),\n",
        ")\n",
        "\n",
        "base_points = base_viz.mark_point(filled=True, opacity=0.9).encode(\n",
        "    size=alt.Size('count(Accession ID)', legend=alt.Legend(direction='horizontal', symbolType='circle'), scale=alt.Scale(domain=[1,500], range=[10,120])),\n",
        "    color=alt.Color('region', scale=alt.Scale(scheme='dark2'),\n",
        "                    ),\n",
        ").transform_filter(alt.datum.filter == 0)\n",
        "\n",
        "points_rule = base_viz.mark_rule(opacity=1).encode(\n",
        "    x = 'earliest_date:T',\n",
        "    x2 = 'latest_date:T',\n",
        "    size = alt.value(0.5),\n",
        ").properties(height=viz_height).transform_filter(alt.datum.first_seqsub==1)\n",
        "\n",
        "\n",
        "points_location_text = base_viz.mark_text(size=10, dx=-15, fontWeight=600, align='right', baseline='middle').encode(\n",
        "    text = 'country_count',\n",
        "  ).properties(height=viz_height).transform_filter(alt.datum.filter == 0).transform_filter(alt.datum.first_sample==1)\n",
        "\n",
        "global_timeline_viz = (base_points+points_rule+points_location_text\n",
        "                       ).properties(width=1000, height=viz_height,\n",
        "                                    title={\n",
        "                                      \"text\": [\"Omicron Sequences Shared Via GISAID Per Country By Sample Collection Date\"], \n",
        "                                      \"subtitle\": [f\"{countries_count} countries have submitted {seq_count} Omicron sequences via GISAID as of {update_date}\",\n",
        "                                                  f\"{unplotted_seqs.shape[0]+len(exclude_seqs_list)} sequences from {', '.join(sorted(set(list(unplotted_seqs.country.unique())+exclude_seqs_countries)))} have incomplete dates or data quality issues and are not shown.\",\n",
        "                                                  \"\"],\n",
        "                                      \"subtitleFontSize\": 14\n",
        "                                    },\n",
        "                                   ).configure_axisY(grid=False, domain=False, ticks=False, labels=False).configure_axisX(grid=True, ticks=False)\n",
        "global_timeline_viz"
      ],
      "metadata": {
        "id": "Py5A9NTH46J3"
      },
      "execution_count": null,
      "outputs": []
    },
    {
      "cell_type": "code",
      "source": [
        "unplotted_seqs.country.value_counts()"
      ],
      "metadata": {
        "id": "WJvSuIQrL90x"
      },
      "execution_count": null,
      "outputs": []
    },
    {
      "cell_type": "code",
      "source": [
        "set(list(unplotted_seqs.country.unique())+exclude_seqs_countries)"
      ],
      "metadata": {
        "id": "5_dB3lJppxu8"
      },
      "execution_count": null,
      "outputs": []
    },
    {
      "cell_type": "code",
      "source": [
        "combined_df[combined_df['date_filter']==True].shape[0] + unplotted_seqs.shape[0] + len(exclude_seqs_list)"
      ],
      "metadata": {
        "id": "_WxZ1I6-9pZL"
      },
      "execution_count": null,
      "outputs": []
    },
    {
      "cell_type": "code",
      "metadata": {
        "id": "_GQCpVjYXt_P"
      },
      "source": [
        "first_df = df[df['date_filter']==True][['country_count','Collection date','Submission date']].sort_values('Collection date').drop_duplicates(subset='country_count')#df[['collect_date','country_count']].sort_values('collect_date').drop_duplicates(subset='country_count')\n",
        "first_df[first_df['Collection date']=='2021-11-26']"
      ],
      "execution_count": null,
      "outputs": []
    },
    {
      "cell_type": "code",
      "metadata": {
        "id": "28B0Og9TXeDv"
      },
      "source": [
        "combined_df[['Accession ID','Location','Submission date','Collection date']].sort_values('Collection date').head(15)"
      ],
      "execution_count": null,
      "outputs": []
    },
    {
      "cell_type": "code",
      "metadata": {
        "id": "td4xa6Pr6rNL"
      },
      "source": [
        "combined_df[combined_df['submit_date']<='2021-11-23'][['Location','Submission date','Collection date']].sort_values('Submission date').head(15)"
      ],
      "execution_count": null,
      "outputs": []
    },
    {
      "cell_type": "markdown",
      "source": [
        "# Save to Drive"
      ],
      "metadata": {
        "id": "Uaieh5ZuOkTD"
      }
    },
    {
      "cell_type": "code",
      "source": [
        "# this is for saving altair charts to png and svg, based on https://colab.research.google.com/github/altair-viz/altair_saver/blob/master/AltairSaver.ipynb#scrollTo=ZiTDBCAM_Ni8\n",
        "!pip install -q altair_saver\n",
        "!npm install --silent vega-lite vega-cli canvas"
      ],
      "metadata": {
        "id": "5qkyFyb8Oie6"
      },
      "execution_count": null,
      "outputs": []
    },
    {
      "cell_type": "code",
      "source": [
        "from pathlib import Path\n",
        "from altair_saver import save\n",
        "\n",
        "SAVE_PATH = Path('assets')\n",
        "SAVE_PATH.mkdir(exist_ok=True)\n",
        "\n",
        "# Import PyDrive and associated libraries.\n",
        "# This only needs to be done once per notebook.\n",
        "from pydrive.auth import GoogleAuth\n",
        "from pydrive.drive import GoogleDrive\n",
        "from google.colab import auth\n",
        "from oauth2client.client import GoogleCredentials\n",
        "\n",
        "# Authenticate and create the PyDrive client.\n",
        "# This only needs to be done once per notebook.\n",
        "auth.authenticate_user()\n",
        "gauth = GoogleAuth()\n",
        "gauth.credentials = GoogleCredentials.get_application_default()\n",
        "gdrive = GoogleDrive(gauth)"
      ],
      "metadata": {
        "id": "7xvY0o0GOie7"
      },
      "execution_count": null,
      "outputs": []
    },
    {
      "cell_type": "code",
      "source": [
        "def assets_to_gdrive(folder_name, localdir_path = SAVE_PATH, parentdir_id='17Kx2uZbQv1r5U1M9x_OXS4lpMU5c6Ym8'):\n",
        "  # search gdrive for snapshot folder and save assets there if it already exists. \n",
        "  folder_id = ''\n",
        "  file_list = gdrive.ListFile({'q': f\"'{parentdir_id}' in parents and mimeType = 'application/vnd.google-apps.folder' and trashed=false\"}).GetList()\n",
        "  for file1 in file_list:\n",
        "      if file1['title'] == folder_name: \n",
        "        folder_id = file1['id']\n",
        "        print(f'Found pre-existing gdrive folder named \"{folder_name}\" at',folder_id)\n",
        "  # if not, create new folder\n",
        "  if folder_id == '':\n",
        "    folder = gdrive.CreateFile(metadata={'title': folder_name,\n",
        "                                      'parents':[{'id': parentdir_id}],\n",
        "                                      \"mimeType\": \"application/vnd.google-apps.folder\"\n",
        "                                      })\n",
        "    folder.Upload()\n",
        "    folder_id = folder.get('id')\n",
        "    print(f'Created new gdrive folder named \"{folder_name}\" at',folder_id)\n",
        "  \n",
        "  # upload all files within SAVE_PATH to snapshot folder\n",
        "  for asset_file in localdir_path.iterdir():\n",
        "    file_path = localdir_path/asset_file.name\n",
        "    file1 = gdrive.CreateFile(metadata={'title':asset_file.name,\n",
        "                                        'parents':[{'id': folder_id}],\n",
        "                                        })\n",
        "    file1.SetContentFile(file_path)\n",
        "    file1.Upload()\n",
        "    print('Saved file: ',asset_file.name)\n"
      ],
      "metadata": {
        "id": "4a1M5rwFOie7"
      },
      "execution_count": null,
      "outputs": []
    },
    {
      "cell_type": "code",
      "source": [
        "def save_vizassets(chart, save_path, filename, fmts=['html','png','svg',#'json','pdf'\n",
        "                                                     ]):\n",
        "  for fmt in fmts:\n",
        "    save(chart, f'{save_path}/{filename}.{fmt}')"
      ],
      "metadata": {
        "id": "jEm2FV3VOie7"
      },
      "execution_count": null,
      "outputs": []
    },
    {
      "cell_type": "code",
      "source": [
        "# put your stuff (i.e. dataframes, altair charts, input data files) to save here"
      ],
      "metadata": {
        "id": "8s44jlumOie7"
      },
      "execution_count": null,
      "outputs": []
    },
    {
      "cell_type": "code",
      "source": [
        "!cp gisaid_hcov-19_2021_12_16_17.tsv assets/"
      ],
      "metadata": {
        "id": "jv9dPgLFO-zm"
      },
      "execution_count": null,
      "outputs": []
    },
    {
      "cell_type": "code",
      "source": [
        "df.to_csv(SAVE_PATH/'df.csv')\n",
        "combined_df.to_csv(SAVE_PATH/'combined_df.csv')\n",
        "save_vizassets(global_timeline_viz, SAVE_PATH, f'global_timeline_viz_{now_utc_timestamp}')"
      ],
      "metadata": {
        "id": "M3QUeaMEOie8"
      },
      "execution_count": null,
      "outputs": []
    },
    {
      "cell_type": "code",
      "source": [
        "# get the colab filename\n",
        "from requests import get\n",
        "nb_name = get('http://172.28.0.2:9000/api/sessions').json()[0]['name'].replace('.ipynb','')\n",
        "nb_id = get('http://172.28.0.2:9000/api/sessions').json()[0]['notebook']['path'].replace('fileId=','')\n",
        "\n",
        "print(SAVE_PATH, nb_name, now_utc_timestamp, nb_id)\n",
        "\n",
        "# create a snapshot of this currently running notebook and save to SAVE_PATH\n",
        "downloaded_nb = gdrive.CreateFile({'id':nb_id})   # replace the id with id of file you want to access\n",
        "downloaded_nb.GetContentFile(SAVE_PATH/f'{nb_name}_{now_utc_timestamp}.ipynb')"
      ],
      "metadata": {
        "id": "ZM5VsLB0Oie8"
      },
      "execution_count": null,
      "outputs": []
    },
    {
      "cell_type": "code",
      "source": [
        "# upload everything to gdrive\n",
        "assets_to_gdrive(folder_name=f'{nb_name}_{now_utc_timestamp}')"
      ],
      "metadata": {
        "id": "s2pR4bkjOie8"
      },
      "execution_count": null,
      "outputs": []
    },
    {
      "cell_type": "code",
      "source": [
        ""
      ],
      "metadata": {
        "id": "55bsHArtPVCE"
      },
      "execution_count": null,
      "outputs": []
    }
  ]
}