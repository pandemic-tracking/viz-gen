{
  "nbformat": 4,
  "nbformat_minor": 0,
  "metadata": {
    "colab": {
      "name": "ptc-pivottable-hexmaps-new",
      "provenance": [],
      "collapsed_sections": [],
      "include_colab_link": true
    },
    "kernelspec": {
      "name": "python3",
      "display_name": "Python 3"
    },
    "language_info": {
      "name": "python"
    }
  },
  "cells": [
    {
      "cell_type": "markdown",
      "metadata": {
        "id": "view-in-github",
        "colab_type": "text"
      },
      "source": [
        "<a href=\"https://colab.research.google.com/github/pandemic-tracking/viz-gen/blob/main/ptc_pivottable_hexmaps_new.ipynb\" target=\"_parent\"><img src=\"https://colab.research.google.com/assets/colab-badge.svg\" alt=\"Open In Colab\"/></a>"
      ]
    },
    {
      "cell_type": "code",
      "metadata": {
        "id": "f9a7NNrX1n5I"
      },
      "source": [
        "!pip install geopandas"
      ],
      "execution_count": null,
      "outputs": []
    },
    {
      "cell_type": "code",
      "metadata": {
        "id": "zie5neOYFfyc"
      },
      "source": [
        "import pandas as pd\n",
        "import numpy as np\n",
        "\n",
        "from datetime import datetime, timedelta\n",
        "import pytz\n",
        "\n",
        "import altair as alt\n",
        "from altair import datum\n",
        "alt.data_transformers.disable_max_rows()\n",
        "\n",
        "from pathlib import Path\n",
        "\n",
        "pd.set_option(\"display.precision\", 4)\n",
        "\n",
        "now_est = datetime.now().astimezone(pytz.timezone(\"US/Eastern\"))\n",
        "\n",
        "now_est_time = now_est.strftime(\"%Y-%m-%d, %H:%M:%S ET\")\n",
        "now_est_date = now_est.strftime(\"%Y-%m-%d\")\n",
        "now_est_timestamp = now_est.strftime(\"%Y%m%d_%H%M%S\")\n",
        "now_utc_timestamp = datetime.utcnow().strftime(\"%Y%m%d_%H%M%S\")\n",
        "print(now_est_time, now_est_date, now_est_timestamp, now_utc_timestamp)"
      ],
      "execution_count": null,
      "outputs": []
    },
    {
      "cell_type": "code",
      "metadata": {
        "id": "ErPTqaPlFfyd"
      },
      "source": [
        "# adapting from https://towardsdatascience.com/consistently-beautiful-visualizations-with-altair-themes-c7f9f889602\n",
        "\n",
        "def ptc_theme():\n",
        "    axisColor = \"#808080\"\n",
        "    gridColor = \"#DEDDDD\"\n",
        "    markColor = \"#000000\"\n",
        "    font = 'Arial'\n",
        "    labelFont = 'Arial'\n",
        "  \n",
        "    return {\n",
        "          \"config\": {\n",
        "              \"title\": {\n",
        "                  \"fontSize\": 20,\n",
        "                  \"font\": font,\n",
        "                  \"anchor\": \"start\", # equivalent of left-aligned.\n",
        "                  \"fontColor\": \"#000000\",\n",
        "                  \"fontWeight\": \"bold\",\n",
        "              },\n",
        "              \"text\": {\n",
        "                  \"font\": font,\n",
        "                  \"labelFont\": labelFont,\n",
        "              },\n",
        "              \"header\": {\n",
        "                  \"font\": font,\n",
        "                  \"labelFont\": labelFont,\n",
        "                  \"titleFont\": font,\n",
        "              },\n",
        "              \"axisX\": {\n",
        "                  \"domain\": False,\n",
        "                  \"domainColor\": axisColor,\n",
        "                  \"labelColor\": axisColor,\n",
        "                  \"domainWidth\": 1,\n",
        "                  \"grid\": False,\n",
        "                  \"labelFont\": labelFont,\n",
        "                  \"labelFontSize\": 12,\n",
        "                  \"labelAngle\": 0, \n",
        "                  \"tickColor\": axisColor,\n",
        "                  \"tickSize\": 5, # default, including it just to show you can change it\n",
        "                  \"titleFont\": font,\n",
        "                  \"titleFontSize\": 12,\n",
        "                  \"titlePadding\": 10, # guessing, not specified in styleguide\n",
        "                  \"title\": \"X Axis Title (units)\", \n",
        "              },\n",
        "              \"axisY\": {\n",
        "                  \"domain\": False,\n",
        "                  \"grid\": True,\n",
        "                  \"gridColor\": gridColor,\n",
        "                  \"gridWidth\": 1,\n",
        "                  \"labelFont\": labelFont,\n",
        "                  \"labelColor\": axisColor,\n",
        "                  \"labelFontSize\": 12,\n",
        "                  \"labelAngle\": 0,\n",
        "                  \"labelAnchor\": \"end\",\n",
        "                  \"labelAlign\": \"right\",  \n",
        "                  \"ticks\": False, # even if you don't have a \"domain\" you need to turn these off.\n",
        "                  \"titleFont\": font,\n",
        "                  \"titleFontSize\": 12,\n",
        "                  \"titlePadding\": 10, # guessing, not specified in styleguide\n",
        "                  \"title\": \"Y Axis Title (units)\", \n",
        "                  # titles are by default vertical left of axis so we need to hack this \n",
        "                  \"titleAngle\": 0, # horizontal\n",
        "                  \"titleY\": -10, # move it up\n",
        "                  \"titleX\": 18, # move it to the right so it aligns with the labels \n",
        "              },\n",
        "            #   \"range\": {\n",
        "            #       \"category\": main_palette,\n",
        "            #       \"diverging\": sequential_palette,\n",
        "            #   },\n",
        "              \"legend\": {\n",
        "                  \"labelFont\": labelFont,\n",
        "                  \"labelFontSize\": 12,\n",
        "                  \"symbolType\": \"square\", # just 'cause\n",
        "                  \"symbolSize\": 100, # default\n",
        "                  \"titleFont\": font,\n",
        "                  \"titleFontSize\": 12,\n",
        "                  \"title\": \"\", # set it to no-title by default\n",
        "                  \"orient\": \"right\", # so it's right next to the y-axis\n",
        "                  \"offset\": 0, # literally right next to the y-axis.\n",
        "              },\n",
        "              \"view\": {\n",
        "                  \"stroke\": \"transparent\", # altair uses gridlines to box the area where the data is visualized. This takes that off.\n",
        "              },\n",
        "        }\n",
        "    }\n",
        "\n",
        "alt.themes.register(\"my_custom_theme\", ptc_theme)\n",
        "alt.themes.enable(\"my_custom_theme\")"
      ],
      "execution_count": null,
      "outputs": []
    },
    {
      "cell_type": "code",
      "metadata": {
        "id": "v-csVaui5CSE"
      },
      "source": [
        "import geopandas as gpd\n",
        "\n",
        "gdf = gpd.read_file('https://raw.githubusercontent.com/pandemic-tracking/viz-pages/main/docs/us_hexmap_4326.geojson')\n",
        "gdf = gdf.to_crs('epsg:3857')\n",
        "gdf.loc[:, 'lon'] = gdf.geometry.centroid.x\n",
        "gdf.loc[:, 'lat'] = gdf.geometry.centroid.y\n",
        "gdf.head(2)"
      ],
      "execution_count": null,
      "outputs": []
    },
    {
      "cell_type": "code",
      "source": [
        "gdf.plot()"
      ],
      "metadata": {
        "id": "w7BI7Z5lpKrN"
      },
      "execution_count": null,
      "outputs": []
    },
    {
      "cell_type": "code",
      "metadata": {
        "id": "wS4IxB7_5ZOQ"
      },
      "source": [
        "data_df = pd.read_csv('https://github.com/pandemic-tracking/bi/raw/main/US%20states%20breakthrough%20reporting%20-%20Snapshot.csv')\n",
        "collection_date = '2022-02-03'"
      ],
      "execution_count": null,
      "outputs": []
    },
    {
      "cell_type": "code",
      "metadata": {
        "id": "5HFom4rraA8N"
      },
      "source": [
        "data_df"
      ],
      "execution_count": null,
      "outputs": []
    },
    {
      "cell_type": "code",
      "metadata": {
        "id": "38fOfFihQBFb"
      },
      "source": [
        "list(data_df.columns)"
      ],
      "execution_count": null,
      "outputs": []
    },
    {
      "cell_type": "code",
      "metadata": {
        "id": "Nlyvtys57rBj"
      },
      "source": [
        "metrics_cols = [\n",
        " 'BI cases',\n",
        " 'BI cases as a percent of fully vaccinated',\n",
        " 'BI hosp',\n",
        " 'BI hosp as a percent of fully vaccinated',\n",
        " 'BI COVID related hosp',\n",
        " 'BI COVID related hosp as a percent of fully vaccinated',\n",
        " 'BI deaths',\n",
        " 'BI deaths as a percent of fully vaccinated',\n",
        " 'BI COVID related deaths',\n",
        " 'BI COVID related deaths as a percent of fully vaccinated',\n",
        " 'not BI cases',\n",
        " 'not BI cases as a percent of not vaccinated',\n",
        " 'not BI hosp',\n",
        " 'not BI hosp as a percent of not vaccinated',\n",
        " 'not BI COVID related hosp',\n",
        " 'not BI deaths',\n",
        " 'not BI deaths as percent of not vaccinated',\n",
        " 'not BI COVID related deaths',\n",
        " 'not BI COVID related deaths as percent of not vaccinated',\n",
        " 'Total cases (since fully vax was option)',\n",
        " 'Total hosp (since fully vax was option)',\n",
        " 'Total COVID related hosp (since fully vax was option)',\n",
        " 'Total deaths (since fully vax was option)',\n",
        " 'Total COVID related deaths (since fully vax was option)',\n",
        " 'Total Individuals fully vaccinated',\n",
        " 'Total Individuals not fully vaccinated',\n",
        "]"
      ],
      "execution_count": null,
      "outputs": []
    },
    {
      "cell_type": "code",
      "metadata": {
        "id": "TV0c8Wwm7ZF9"
      },
      "source": [
        "df = data_df[['Abbr']+metrics_cols].rename({'Abbr':'State'}, axis=1)"
      ],
      "execution_count": null,
      "outputs": []
    },
    {
      "cell_type": "code",
      "metadata": {
        "id": "9aX2CRQI-JPG"
      },
      "source": [
        "df"
      ],
      "execution_count": null,
      "outputs": []
    },
    {
      "cell_type": "code",
      "metadata": {
        "id": "5nbZpKXv8Bqn"
      },
      "source": [
        "df[metrics_cols] = df[metrics_cols].notnull().astype(int)"
      ],
      "execution_count": null,
      "outputs": []
    },
    {
      "cell_type": "code",
      "metadata": {
        "id": "Z0mttxDQ-OCx"
      },
      "source": [
        "df.loc[df.shape[0]]= ['Count'] + df[metrics_cols].sum(axis=0).to_list()"
      ],
      "execution_count": null,
      "outputs": []
    },
    {
      "cell_type": "code",
      "metadata": {
        "id": "SoFQs0-t-nqp"
      },
      "source": [
        "df"
      ],
      "execution_count": null,
      "outputs": []
    },
    {
      "cell_type": "code",
      "metadata": {
        "id": "CFmisBD0PNkg"
      },
      "source": [
        "gdf = pd.merge(gdf, df, how='left', left_on='Code', right_on='State')"
      ],
      "execution_count": null,
      "outputs": []
    },
    {
      "cell_type": "code",
      "metadata": {
        "id": "D2S-GDxHZ1gE"
      },
      "source": [
        "gdf.drop(['OBJECTID','SHAPE_Leng','SHAPE_Area'], axis=1, inplace=True)"
      ],
      "execution_count": null,
      "outputs": []
    },
    {
      "cell_type": "code",
      "metadata": {
        "id": "u55pNO9F9TPW"
      },
      "source": [
        "# BI hosps OR BI hosps due to COVID and same for BI deaths, also make category names display-ready\n",
        "\n",
        "gdf['Reporting Breakthrough Hospitalizations'] = np.where((gdf['BI hosp'] == 1) | (gdf['BI COVID related hosp']==1),1,0)\n",
        "gdf['Reporting Breakthrough Deaths'] = np.where((gdf['BI deaths'] == 1) | (gdf['BI COVID related deaths']==1),1,0)\n",
        "\n",
        "gdf.rename({'BI cases':'Reporting Breakthrough Cases'}, axis=1, inplace=True)"
      ],
      "execution_count": null,
      "outputs": []
    },
    {
      "cell_type": "code",
      "metadata": {
        "id": "stlEEbi6Yf5q"
      },
      "source": [
        "gdf = gdf.fillna(0)"
      ],
      "execution_count": null,
      "outputs": []
    },
    {
      "cell_type": "code",
      "metadata": {
        "id": "dXgZOWV3-igO"
      },
      "source": [
        "gdf[['Code',\n",
        "     'BI hosp','BI COVID related hosp','Reporting Breakthrough Hospitalizations',\n",
        "     'BI deaths','BI COVID related deaths','Reporting Breakthrough Deaths'\n",
        "     ]]"
      ],
      "execution_count": null,
      "outputs": []
    },
    {
      "cell_type": "code",
      "metadata": {
        "id": "HAPlmCZKS5Qn"
      },
      "source": [
        "gdf_melt = gdf.melt(id_vars=['Code','Name','FIPS','geometry','lon','lat','State'])"
      ],
      "execution_count": null,
      "outputs": []
    },
    {
      "cell_type": "code",
      "metadata": {
        "id": "mFGTkz6paOoV"
      },
      "source": [
        "gdf_melt"
      ],
      "execution_count": null,
      "outputs": []
    },
    {
      "cell_type": "code",
      "metadata": {
        "id": "Wb1HAPLwan7K"
      },
      "source": [
        "cat_options = list(gdf_melt['variable'].unique())\n",
        "cat_options"
      ],
      "execution_count": null,
      "outputs": []
    },
    {
      "cell_type": "code",
      "metadata": {
        "id": "rI3x3GymqCr-"
      },
      "source": [
        "# A dropdown filter\n",
        "cat_dropdown = alt.binding_select(options=cat_options)\n",
        "cat_select = alt.selection_single(fields=['variable'], bind=cat_dropdown, name=\"Metric\", init={'variable':cat_options[0]})\n",
        "\n",
        "base_map = alt.Chart(data=gdf_melt).mark_geoshape(stroke='black', strokeWidth=0.5).encode(\n",
        "    color=alt.value('grey'),\n",
        "    tooltip=[\"Code:O\",'variable:O','value:Q'],\n",
        "    ).project(\n",
        "      type='identity', reflectY=True\n",
        ").properties(width=500, height=280)\n",
        "\n",
        "map = base_map.encode(\n",
        "    color=alt.Color(\"value:Q\", scale=alt.Scale(range=['blue','#dbdbdb',]), legend=None),\n",
        ")\n",
        "\n",
        "map_text = base_map.mark_text(size=12).encode(\n",
        "    latitude='lat',\n",
        "    longitude='lon',\n",
        "    text='Code',\n",
        "    color=alt.Color(\"value:Q\", scale=alt.Scale(range=['#ffffff','#2b2b2b'], domain=[1,0]), legend=None),\n",
        "    \n",
        ")\n",
        "\n",
        "display_text = base_map.mark_text(size=16, fontWeight=600, dx=-10, dy=-130).encode(\n",
        "    text='variable:O',\n",
        "    color=alt.value('black')\n",
        ").transform_filter(alt.datum.Code=='CA')\n",
        "\n",
        "hexmap = (base_map+map+map_text+display_text).transform_filter(cat_select\n",
        "                                            ).add_selection(cat_select\n",
        "                                            ).configure_view(strokeWidth=0)\n",
        "hexmap"
      ],
      "execution_count": null,
      "outputs": []
    },
    {
      "cell_type": "code",
      "metadata": {
        "id": "glXnqXS9Cd_y"
      },
      "source": [
        "metric_count_dict = gdf[['Reporting Breakthrough Cases','Reporting Breakthrough Hospitalizations','Reporting Breakthrough Deaths']].sum().astype('int').to_dict()\n",
        "metric_count_dict"
      ],
      "execution_count": null,
      "outputs": []
    },
    {
      "cell_type": "code",
      "metadata": {
        "id": "dzhrxFjbQ-de"
      },
      "source": [
        "display_date = datetime.strptime(collection_date,\"%Y-%m-%d\").strftime(\"%B %-d %Y\")\n",
        "collection_date, display_date"
      ],
      "execution_count": null,
      "outputs": []
    },
    {
      "cell_type": "code",
      "source": [
        "case_color, hosp_color, death_color, zero_color = '#3E85C6', '#0D5395', '#063763', '#dbdbdb'\n",
        "\n",
        "def make_hexmap(metric, pos_color, neg_color):\n",
        "  hexmap = (display_text.encode(\n",
        "    color=alt.value(pos_color),\n",
        "    text=alt.value(str(metric_count_dict[metric])+' '+metric)\n",
        "   )+base_map\n",
        "    +base_map.encode(color=alt.Color(\"value:Q\", scale=alt.Scale(range=[pos_color, neg_color], domain=[1,0]), legend=None))\n",
        "    +map_text\n",
        "  ).transform_filter(alt.datum.variable==metric).resolve_scale(color='independent')\n",
        "  return hexmap\n",
        "\n",
        "case_map =  make_hexmap('Reporting Breakthrough Cases', case_color, zero_color)\n",
        "hosp_map =  make_hexmap('Reporting Breakthrough Hospitalizations', hosp_color, zero_color)\n",
        "death_map = make_hexmap('Reporting Breakthrough Deaths', death_color, zero_color)\n",
        "\n",
        "tri_hexmaps = alt.vconcat(\n",
        "    case_map|hosp_map,\n",
        "    death_map,\n",
        "    center=True,\n",
        ").properties(title=alt.TitleParams(f'States Reporting Cumulative Breakthrough Cases, Hospitalizations, And Deaths As Of {display_date}', subtitle=['',''])\n",
        ").configure_axis(\n",
        "  labelFontSize=12,\n",
        "  titleFontSize=16,\n",
        "  labelColor='grey',\n",
        "  # gridColor='#ccc',\n",
        "  gridWidth=1,\n",
        "  offset=0,\n",
        ").configure_header(\n",
        "  titleFontSize=16,\n",
        "  labelFontSize=16, \n",
        "  titleFont='Arial'\n",
        ").configure_title(\n",
        "  fontSize=16,\n",
        ").configure_legend(\n",
        "  titleFontSize=12,\n",
        "  labelFontSize=12\n",
        ").configure_view(strokeWidth=0)\n",
        "\n",
        "tri_hexmaps"
      ],
      "metadata": {
        "id": "rTqgSjFPtKqq"
      },
      "execution_count": null,
      "outputs": []
    },
    {
      "cell_type": "markdown",
      "source": [
        "# Scorecard Grade Bar"
      ],
      "metadata": {
        "id": "q-9uCoZ11pJj"
      }
    },
    {
      "cell_type": "code",
      "source": [
        "!wget https://docs.google.com/spreadsheets/d/e/2PACX-1vR2wl6WldIvP4JiSAqCtX6GAmdVBwMIOpMAickyf3lrv8Fcbc2O2ZGoeyBehS4hXbWxtzqiuHfN4PrT/pub?output=csv -O scores.csv"
      ],
      "metadata": {
        "id": "7v9eiupT1uVp"
      },
      "execution_count": null,
      "outputs": []
    },
    {
      "cell_type": "code",
      "source": [
        "scores_df = pd.read_csv('scores.csv', parse_dates=['Last Updated'])\n",
        "scores_df['date_str'] = scores_df['Last Updated'].astype('str')\n",
        "scores_df['Grade_color'] = scores_df['Grade']"
      ],
      "metadata": {
        "id": "GTDb1LuR1rZC"
      },
      "execution_count": null,
      "outputs": []
    },
    {
      "cell_type": "code",
      "source": [
        "print(scores_df['date_str'].unique())\n",
        "scorecard_date = scores_df['date_str'].unique()[0]\n",
        "scorecard_display_date = datetime.strptime(scorecard_date,\"%Y-%m-%d\").strftime(\"%B %-d %Y\")\n",
        "print(scorecard_date, scorecard_display_date)"
      ],
      "metadata": {
        "id": "LK5A1PjndJ7w"
      },
      "execution_count": null,
      "outputs": []
    },
    {
      "cell_type": "code",
      "source": [
        "# divergent palette\n",
        "# grade_colors = {\n",
        "#     'A': '#488082',\n",
        "#     'B': '#8AD9D4',\n",
        "#     'C': '#FFE0D0',\n",
        "#     'D': '#FF8545',\n",
        "#     'F': '#BA4100',\n",
        "#     'F (No data)': '#999891',\n",
        "    \n",
        "# }\n",
        "\n",
        "# sequential palette\n",
        "grade_colors = {\n",
        "    'A': '#71D1C8',\n",
        "    'B': '#5DACA7',\n",
        "    'C': '#488682',\n",
        "    'D': '#345F5D',\n",
        "    'F': '#1F3938',\n",
        "    'F (No data)': '#999891'\n",
        "}\n",
        "\n",
        "list(grade_colors.keys()), list(grade_colors.values())"
      ],
      "metadata": {
        "id": "-0AsUgPq7Zcb"
      },
      "execution_count": null,
      "outputs": []
    },
    {
      "cell_type": "code",
      "source": [
        "scores_df.loc[scores_df['Score']==0, 'Grade_color'] = 'F (No data)'\n",
        "scores_df"
      ],
      "metadata": {
        "id": "BkfHDZI94MT0"
      },
      "execution_count": null,
      "outputs": []
    },
    {
      "cell_type": "code",
      "source": [
        "scores_df['Grade_color'].value_counts().sort_index()"
      ],
      "metadata": {
        "id": "VwmSxooUAEaF"
      },
      "execution_count": null,
      "outputs": []
    },
    {
      "cell_type": "code",
      "source": [
        "base_bars = alt.Chart(scores_df).encode(\n",
        "    x=alt.X('Grade:O', sort=['F','D','C','B','A']),\n",
        "    y=alt.Y('count(State)', stack='zero'),\n",
        ")\n",
        "\n",
        "grade_bars = base_bars.mark_bar(width=150).encode(\n",
        "    color=alt.Color('Grade_color', legend=None,  sort=['none','F'], scale=alt.Scale(domain=list(grade_colors.keys()), range=list(grade_colors.values()))),\n",
        "    stroke=alt.Stroke('State', legend=None, scale=alt.Scale(range=['#fff'])),\n",
        "    strokeWidth=alt.value(2),\n",
        ")\n",
        "\n",
        "grade_text = grade_bars.mark_text(size=18, dy=18, fontWeight=800).encode(\n",
        "    text='State',\n",
        "    color=alt.value('white'),\n",
        "    stroke=alt.Stroke('Grade_color', sort=['none','F'], legend=None, scale=alt.Scale(domain=list(grade_colors.keys()), range=list(grade_colors.values()))),\n",
        "    strokeWidth=alt.value(0),\n",
        ")\n",
        "\n",
        "grade_count = base_bars.mark_text(size=18, dy=-18, fontWeight=800).encode(\n",
        "    text='count(State)',\n",
        "    color=alt.value('black'),\n",
        ")\n",
        "\n",
        "grade_barviz = (grade_bars+grade_text+grade_count).resolve_scale(stroke='independent').properties(width=1000, height=550,\n",
        "                                                              title={\n",
        "                                                                \"text\": ['United States Vaccine Breakthrough Data Reporting Grades',], \n",
        "                                                                \"subtitle\": [f'As of {scorecard_display_date}',''],\n",
        "                                                                \"subtitleFontSize\": 14\n",
        "                                                              }\n",
        "                                                              ).configure_axisY(grid=False, domain=False, labels=False).configure_axisX(ticks=False, labelFontSize=20, labelFontWeight=800, labelPadding=15)\n",
        "grade_barviz"
      ],
      "metadata": {
        "id": "jRDmNDch4tkr"
      },
      "execution_count": null,
      "outputs": []
    },
    {
      "cell_type": "markdown",
      "source": [
        "# Scorecard hexmap"
      ],
      "metadata": {
        "id": "o7AsQ8IuvDg4"
      }
    },
    {
      "cell_type": "code",
      "source": [
        "scores_hexmap_df = pd.merge(gdf_melt, scores_df, how='left', left_on='Code', right_on='State')\n",
        "scores_hexmap_df = scores_hexmap_df[scores_hexmap_df['variable']=='BI hosp'][['Code','Name','geometry','lon','lat','Grade','Grade_color']]\n",
        "scores_hexmap_df.sort_values('Code', inplace=True)\n",
        "scores_hexmap_df"
      ],
      "metadata": {
        "id": "q0GUjwRMvKx_"
      },
      "execution_count": null,
      "outputs": []
    },
    {
      "cell_type": "code",
      "source": [
        "grade_base_map = alt.Chart(data=scores_hexmap_df).mark_geoshape(stroke='black', strokeWidth=0.5).encode(\n",
        "    color=alt.value('grey'),\n",
        "    tooltip=[\"Code:O\",'Grade'],\n",
        "    ).project(\n",
        "      type='identity', reflectY=True\n",
        ").properties(width=900, height=550)\n",
        "\n",
        "grade_map = grade_base_map.encode(\n",
        "    color=alt.Color(\"Grade_color:N\", legend=alt.Legend(orient='none', legendX=900, labelFontSize=16), \n",
        "                    scale=alt.Scale(domain=list(grade_colors.keys()), range=list(grade_colors.values()))),\n",
        ")\n",
        "\n",
        "grade_map_text = grade_base_map.mark_text(size=20, fontWeight=800).encode(\n",
        "    latitude='lat',\n",
        "    longitude='lon',\n",
        "    text='Code',\n",
        "    color=alt.value('white'),\n",
        ")\n",
        "\n",
        "grade_hexmap = (grade_map+grade_map_text).properties(\n",
        "                title={\n",
        "                  \"text\": ['United States Vaccine Breakthrough Data Reporting Grades',], \n",
        "                  \"subtitle\": [f'As of {scorecard_display_date}',''],\n",
        "                  \"subtitleFontSize\": 14\n",
        "                })\n",
        "grade_hexmap"
      ],
      "metadata": {
        "id": "yqv0PZMnrURm"
      },
      "execution_count": null,
      "outputs": []
    },
    {
      "cell_type": "markdown",
      "source": [
        "# Combo hexmap and barchart viz"
      ],
      "metadata": {
        "id": "b9-4AwMba06a"
      }
    },
    {
      "cell_type": "code",
      "source": [
        "combo_base_bars = alt.Chart(scores_hexmap_df).encode(\n",
        "    x=alt.X('Grade:O', sort=['F','D','C','B','A']),\n",
        "    y=alt.Y('count(Code)', stack='zero'),\n",
        ")\n",
        "\n",
        "combo_grade_bars = combo_base_bars.mark_bar(width=60).encode(\n",
        "    color=alt.Color('Grade_color', legend=None,  sort=['none','F'], scale=alt.Scale(domain=list(grade_colors.keys()), range=list(grade_colors.values()))),\n",
        "    stroke=alt.Stroke('Code', legend=None, scale=alt.Scale(range=['#fff'])),\n",
        "    strokeWidth=alt.value(2),\n",
        ")\n",
        "\n",
        "combo_grade_text = combo_base_bars.mark_text(size=18, dy=18, fontWeight=800).encode(\n",
        "    text='Code',\n",
        "    color=alt.value('white'),\n",
        "    stroke=alt.Stroke('Grade_color', sort=['none','F'], legend=None, scale=alt.Scale(domain=list(grade_colors.keys()), range=list(grade_colors.values()))),\n",
        "    strokeWidth=alt.value(0),\n",
        ")\n",
        "\n",
        "combo_grade_count = combo_base_bars.mark_text(size=18, dy=-18, fontWeight=800).encode(\n",
        "    text='count(Code)',\n",
        "    color=alt.value('black'),\n",
        ")\n",
        "\n",
        "combo_grade_barviz = (combo_grade_bars+combo_grade_text+combo_grade_count).resolve_scale(stroke='independent').properties(width=400, height=550,\n",
        "                                                              # title={\n",
        "                                                              #   \"text\": ['United States Vaccine Breakthrough Data Reporting Grades',], \n",
        "                                                              #   \"subtitle\": [f'As of {display_date}',''],\n",
        "                                                              #   \"subtitleFontSize\": 14\n",
        "                                                              # }\n",
        "                                                              )\n",
        "combo_grade_barviz"
      ],
      "metadata": {
        "id": "oYt-X2v-bew-"
      },
      "execution_count": null,
      "outputs": []
    },
    {
      "cell_type": "code",
      "source": [
        "combo_hexmap_barviz = (grade_map+grade_map_text | combo_grade_barviz).properties(\n",
        "    title={\n",
        "                  \"text\": ['United States Vaccine Breakthrough Data Reporting Grades',], \n",
        "                  \"subtitle\": [f'As of {scorecard_display_date}',''],\n",
        "                  \"subtitleFontSize\": 16\n",
        "    }\n",
        ").configure_axisY(grid=False, domain=False, labels=False).configure_axisX(ticks=False, labelFontSize=20, labelFontWeight=800, labelPadding=15)\n",
        "combo_hexmap_barviz"
      ],
      "metadata": {
        "id": "_MgRYRvua2ko"
      },
      "execution_count": null,
      "outputs": []
    },
    {
      "cell_type": "markdown",
      "source": [
        "# Export csv of grades for Flourish update"
      ],
      "metadata": {
        "id": "lthkR63wfJDS"
      }
    },
    {
      "cell_type": "code",
      "source": [
        "flourish_scores_df = scores_df[['State','Grade','Grade_color']]\n",
        "flourish_scores_df"
      ],
      "metadata": {
        "id": "XwxYdOUnfZIH"
      },
      "execution_count": null,
      "outputs": []
    },
    {
      "cell_type": "code",
      "source": [
        "flourish_scores_df.to_csv('flourish_scorecard_update.csv')"
      ],
      "metadata": {
        "id": "4omTlDjSedsU"
      },
      "execution_count": null,
      "outputs": []
    },
    {
      "cell_type": "markdown",
      "source": [
        "# Export geojson file for Flourish (only need this the first time creating Flourish hexmap template, commented out)"
      ],
      "metadata": {
        "id": "JZrGmBIKvdjp"
      }
    },
    {
      "cell_type": "code",
      "source": [
        "# scores_hexmap_df_4326 = scores_hexmap_df.to_crs('epsg:4326')\n",
        "# scores_hexmap_df_4326.loc[:, 'lon'] = scores_hexmap_df_4326.geometry.centroid.x\n",
        "# scores_hexmap_df_4326.loc[:, 'lat'] = scores_hexmap_df_4326.geometry.centroid.y\n",
        "\n",
        "# scores_hexmap_df_4326.to_file(f'hexmap-grade-{collection_date}.geojson', driver='GeoJSON')"
      ],
      "metadata": {
        "id": "_x17xNQNvhLC"
      },
      "execution_count": null,
      "outputs": []
    },
    {
      "cell_type": "markdown",
      "metadata": {
        "id": "_ZG2K7p0ZxCm"
      },
      "source": [
        "# Save to Drive"
      ]
    },
    {
      "cell_type": "code",
      "metadata": {
        "id": "XrJr3TlCFjLR"
      },
      "source": [
        "# this is for saving altair charts to png and svg, based on https://colab.research.google.com/github/altair-viz/altair_saver/blob/master/AltairSaver.ipynb#scrollTo=ZiTDBCAM_Ni8\n",
        "!pip install -q altair_saver\n",
        "!npm install --silent vega-lite vega-cli canvas"
      ],
      "execution_count": null,
      "outputs": []
    },
    {
      "cell_type": "code",
      "metadata": {
        "id": "9DFb3xueFjLS"
      },
      "source": [
        "from pathlib import Path\n",
        "from altair_saver import save\n",
        "\n",
        "SAVE_PATH = Path('assets')\n",
        "SAVE_PATH.mkdir(exist_ok=True)\n",
        "\n",
        "# Import PyDrive and associated libraries.\n",
        "# This only needs to be done once per notebook.\n",
        "from pydrive.auth import GoogleAuth\n",
        "from pydrive.drive import GoogleDrive\n",
        "from google.colab import auth\n",
        "from oauth2client.client import GoogleCredentials\n",
        "\n",
        "# Authenticate and create the PyDrive client.\n",
        "# This only needs to be done once per notebook.\n",
        "auth.authenticate_user()\n",
        "gauth = GoogleAuth()\n",
        "gauth.credentials = GoogleCredentials.get_application_default()\n",
        "gdrive = GoogleDrive(gauth)"
      ],
      "execution_count": null,
      "outputs": []
    },
    {
      "cell_type": "code",
      "metadata": {
        "id": "Cix6eT_xFjLS"
      },
      "source": [
        "def assets_to_gdrive(folder_name, localdir_path = SAVE_PATH, parentdir_id='17Kx2uZbQv1r5U1M9x_OXS4lpMU5c6Ym8'):\n",
        "  # search gdrive for snapshot folder and save assets there if it already exists. \n",
        "  folder_id = ''\n",
        "  file_list = gdrive.ListFile({'q': f\"'{parentdir_id}' in parents and mimeType = 'application/vnd.google-apps.folder' and trashed=false\"}).GetList()\n",
        "  for file1 in file_list:\n",
        "      if file1['title'] == folder_name: \n",
        "        folder_id = file1['id']\n",
        "        print(f'Found pre-existing gdrive folder named \"{folder_name}\" at',folder_id)\n",
        "  # if not, create new folder\n",
        "  if folder_id == '':\n",
        "    folder = gdrive.CreateFile(metadata={'title': folder_name,\n",
        "                                      'parents':[{'id': parentdir_id}],\n",
        "                                      \"mimeType\": \"application/vnd.google-apps.folder\"\n",
        "                                      })\n",
        "    folder.Upload()\n",
        "    folder_id = folder.get('id')\n",
        "    print(f'Created new gdrive folder named \"{folder_name}\" at',folder_id)\n",
        "  \n",
        "  # upload all files within SAVE_PATH to snapshot folder\n",
        "  for asset_file in localdir_path.iterdir():\n",
        "    file_path = localdir_path/asset_file.name\n",
        "    file1 = gdrive.CreateFile(metadata={'title':asset_file.name,\n",
        "                                        'parents':[{'id': folder_id}],\n",
        "                                        })\n",
        "    file1.SetContentFile(file_path)\n",
        "    file1.Upload()\n",
        "    print('Saved file: ',asset_file.name)\n"
      ],
      "execution_count": null,
      "outputs": []
    },
    {
      "cell_type": "code",
      "metadata": {
        "id": "CKHRpBO9FjLS"
      },
      "source": [
        "def save_vizassets(chart, save_path, filename, fmts=['html','png','svg',#'json','pdf'\n",
        "                                                     ]):\n",
        "  for fmt in fmts:\n",
        "    save(chart, f'{save_path}/{filename}.{fmt}')"
      ],
      "execution_count": null,
      "outputs": []
    },
    {
      "cell_type": "code",
      "metadata": {
        "id": "vasoYvOFFjLS"
      },
      "source": [
        "# put your stuff (i.e. dataframes, altair charts, input data files) to save here"
      ],
      "execution_count": null,
      "outputs": []
    },
    {
      "cell_type": "code",
      "metadata": {
        "id": "Frs7EaSEFjLS"
      },
      "source": [
        "# examples:\n",
        "\n",
        "# cpr_df.to_csv(SAVE_PATH/'cpr_df.csv')\n",
        "# source_concat.to_csv(SAVE_PATH/'source_concat.csv')\n",
        "# save_vizassets(state_vax_scatter, SAVE_PATH, f'state_vax_scatter_{now_utc_timestamp}')\n",
        "\n",
        "gdf_melt.to_csv(SAVE_PATH/'gdf_melt.csv')\n",
        "\n",
        "save_vizassets(hexmap, SAVE_PATH, f'hexmap_{now_utc_timestamp}')\n",
        "save_vizassets(tri_hexmaps, SAVE_PATH, f'trihexmaps_{now_utc_timestamp}')\n",
        "save_vizassets(grade_barviz, SAVE_PATH, f'grade_barviz_{now_utc_timestamp}')\n",
        "save_vizassets(grade_hexmap, SAVE_PATH, f'grade_hexmap_{now_utc_timestamp}')\n",
        "save_vizassets(combo_hexmap_barviz, SAVE_PATH, f'combo_hexmap_barviz_{now_utc_timestamp}')\n",
        "\n",
        "scores_hexmap_df.to_csv(SAVE_PATH/'scores_hexmap_df.csv')\n",
        "# scores_hexmap_df_4326.to_crs('epsg:4326').to_file(SAVE_PATH/f'hexmap-grade-{collection_date}.geojson', driver='GeoJSON')"
      ],
      "execution_count": null,
      "outputs": []
    },
    {
      "cell_type": "code",
      "source": [
        "!cp /content/scores.csv $SAVE_PATH/\n",
        "!cp /content/flourish_scorecard_update.csv $SAVE_PATH/"
      ],
      "metadata": {
        "id": "97nPyGz4fyyP"
      },
      "execution_count": null,
      "outputs": []
    },
    {
      "cell_type": "code",
      "metadata": {
        "id": "xgV1kfrWFjLS"
      },
      "source": [
        "# get the colab filename\n",
        "from requests import get\n",
        "nb_name = get('http://172.28.0.2:9000/api/sessions').json()[0]['name'].replace('.ipynb','')\n",
        "nb_id = get('http://172.28.0.2:9000/api/sessions').json()[0]['notebook']['path'].replace('fileId=','')\n",
        "\n",
        "print(SAVE_PATH, nb_name, now_utc_timestamp, nb_id)\n",
        "\n",
        "# create a snapshot of this currently running notebook and save to SAVE_PATH\n",
        "downloaded_nb = gdrive.CreateFile({'id':nb_id})   # replace the id with id of file you want to access\n",
        "downloaded_nb.GetContentFile(SAVE_PATH/f'{nb_name}_{now_utc_timestamp}.ipynb')"
      ],
      "execution_count": null,
      "outputs": []
    },
    {
      "cell_type": "code",
      "metadata": {
        "id": "DSBnH6lFFjLT"
      },
      "source": [
        "# upload everything to gdrive\n",
        "assets_to_gdrive(folder_name=f'{nb_name}_{now_utc_timestamp}')"
      ],
      "execution_count": null,
      "outputs": []
    },
    {
      "cell_type": "code",
      "source": [
        ""
      ],
      "metadata": {
        "id": "S_KU68p9hSyd"
      },
      "execution_count": null,
      "outputs": []
    }
  ]
}