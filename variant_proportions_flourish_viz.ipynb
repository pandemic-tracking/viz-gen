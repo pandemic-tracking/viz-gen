{
  "nbformat": 4,
  "nbformat_minor": 0,
  "metadata": {
    "colab": {
      "name": "variant-proportions-flourish-viz.ipynb",
      "provenance": [],
      "collapsed_sections": [],
      "mount_file_id": "1-FvsknyY2wKdnNlnYDh4l9z5kFVbgaMN",
      "authorship_tag": "ABX9TyMhD/G4bHkFWfZIsbIj3Ccn",
      "include_colab_link": true
    },
    "kernelspec": {
      "name": "python3",
      "display_name": "Python 3"
    },
    "language_info": {
      "name": "python"
    }
  },
  "cells": [
    {
      "cell_type": "markdown",
      "metadata": {
        "id": "view-in-github",
        "colab_type": "text"
      },
      "source": [
        "<a href=\"https://colab.research.google.com/github/pandemic-tracking/viz-gen/blob/main/variant_proportions_flourish_viz.ipynb\" target=\"_parent\"><img src=\"https://colab.research.google.com/assets/colab-badge.svg\" alt=\"Open In Colab\"/></a>"
      ]
    },
    {
      "cell_type": "code",
      "execution_count": null,
      "metadata": {
        "id": "WgU3gNdQnrvI"
      },
      "outputs": [],
      "source": [
        "import pandas as pd\n",
        "import numpy as np\n",
        "\n",
        "from datetime import datetime, timedelta\n",
        "import pytz\n",
        "\n",
        "import altair as alt\n",
        "from altair import datum\n",
        "alt.data_transformers.disable_max_rows()\n",
        "\n",
        "from pathlib import Path\n",
        "\n",
        "pd.set_option(\"display.precision\", 4)\n",
        "\n",
        "now_est = datetime.now().astimezone(pytz.timezone(\"US/Eastern\"))\n",
        "\n",
        "now_est_time = now_est.strftime(\"%Y-%m-%d, %H:%M:%S ET\")\n",
        "now_est_date = now_est.strftime(\"%Y-%m-%d\")\n",
        "now_est_timestamp = now_est.strftime(\"%Y%m%d_%H%M%S\")\n",
        "now_utc_timestamp = datetime.utcnow().strftime(\"%Y%m%d_%H%M%S\")\n",
        "print(now_est_time, now_est_date, now_est_timestamp, now_utc_timestamp)"
      ]
    },
    {
      "cell_type": "markdown",
      "source": [
        "# Variant Proportions Flourish Visualization"
      ],
      "metadata": {
        "id": "nCbrDL8T51BQ"
      }
    },
    {
      "cell_type": "markdown",
      "source": [
        "Inputs: \n",
        "\n",
        "*   ALLWEEKS_PCTVOC.txt, a file of variant proportions from Eric Rouchka at UofL\n",
        "*   catchment_zone_numbers.csv, a file of catchment areas and zone numbers\n",
        "\n",
        "Outputs:\n",
        "*   voc_flourish.csv, a timeseries of variant proportions by catchment area to be plugged into the [flourish viz stacked bar chart](https://public.flourish.studio/visualisation/8658207) to be used by the [flourish map of variant proportions by catchment area](https://public.flourish.studio/story/1131027/)\n"
      ],
      "metadata": {
        "id": "fheKSRnK41iN"
      }
    },
    {
      "cell_type": "code",
      "source": [
        "df = pd.read_csv('/content/ALLWEEKS_PCTVOC.txt',sep='\\t')"
      ],
      "metadata": {
        "id": "iGCfu0T_dsJ0"
      },
      "execution_count": null,
      "outputs": []
    },
    {
      "cell_type": "code",
      "source": [
        "# if weeks 44 and 45 are still missing, run this manual patch\n",
        "missing_weeks = {'34th Street PS': [1.0,1.0],\n",
        " 'CCWQTC INF': [1.0,1.0],\n",
        " 'DRGWQTC INF': [1.0,1.0],\n",
        " 'FFWQTP INF': [1.0,1.0],\n",
        " 'HCWQTP INF': [1.0,1.0],\n",
        " 'MFWQTC': [1.0,1.0],\n",
        " 'MH08915A CSO140': [1.0,1.0],\n",
        " 'MH09837 Ashby Lane & Mill Creek': [1.0,1.0],\n",
        " 'MH23290 W. Indian Trail': [1.0,1.0],\n",
        " 'MH32985 Wood Road & Terry Road': [1.0,1.0],\n",
        " 'MH40870 Muddy Forks PS': [1.0,1.0],\n",
        " 'MH50495 CSO108': [1.0,1.0],\n",
        " 'MH57350 Preston & South Park': [1.0,1.0],\n",
        " 'MH57769 Pineland Drive & Oakmont Dr.': [1.0,1.0],\n",
        " 'MH70101 15th & Wilson': [1.0,1.0],\n",
        " 'MH71910 CSO146': [1.0,1.0],\n",
        " 'Shawnee Park B': [1.0,1.0],\n",
        " 'VOC/VOI/VUM': ['MISSING DATA_WK44','MISSING DATA_WK45']}\n",
        "df = pd.concat([df,pd.DataFrame(missing_weeks)]).reset_index().drop(columns='index')"
      ],
      "metadata": {
        "id": "hhknTq7okXsO"
      },
      "execution_count": null,
      "outputs": []
    },
    {
      "cell_type": "code",
      "source": [
        "df[['voc','week']] = df['VOC/VOI/VUM'].str.split('_WK', expand=True)"
      ],
      "metadata": {
        "id": "MwiNOlWgfb37"
      },
      "execution_count": null,
      "outputs": []
    },
    {
      "cell_type": "code",
      "source": [
        "df.week.unique()"
      ],
      "metadata": {
        "id": "ykcBXfN1j8q-"
      },
      "execution_count": null,
      "outputs": []
    },
    {
      "cell_type": "code",
      "source": [
        "# I looked at the individual catchment areas files and found that the dates are Tuesdays until week 11, after which they are Mondays\n",
        "def assign_date(record):\n",
        "  week = int(record['week'])\n",
        "  if week < 11: #it's a tuesday\n",
        "    record['date'] = pd.to_datetime(pd.Timestamp('2021-02-16') + pd.Timedelta(week, 'W'))\n",
        "  else: #it's a monday\n",
        "    record['date'] = pd.to_datetime(pd.Timestamp('2021-02-15') + pd.Timedelta(week, 'W'))\n",
        "  return record"
      ],
      "metadata": {
        "id": "INo4vMn89hWR"
      },
      "execution_count": null,
      "outputs": []
    },
    {
      "cell_type": "code",
      "source": [
        "df = df.apply(assign_date, axis=1)"
      ],
      "metadata": {
        "id": "dfQP0e585ezQ"
      },
      "execution_count": null,
      "outputs": []
    },
    {
      "cell_type": "code",
      "source": [
        "df.sort_values(by='date',inplace=True)"
      ],
      "metadata": {
        "id": "5lrV-n9imJZ3"
      },
      "execution_count": null,
      "outputs": []
    },
    {
      "cell_type": "code",
      "source": [
        "melt_df = df.drop(['VOC/VOI/VUM','week'],axis=1).melt(id_vars=['voc','date']) # week for stacked chart"
      ],
      "metadata": {
        "id": "tPZvcFmRgG83"
      },
      "execution_count": null,
      "outputs": []
    },
    {
      "cell_type": "code",
      "source": [
        "melt_df.rename(columns={'variable':'location'}, inplace=True)"
      ],
      "metadata": {
        "id": "JqR41VRQuBu7"
      },
      "execution_count": null,
      "outputs": []
    },
    {
      "cell_type": "code",
      "source": [
        "flourish_df = melt_df.pivot(index=['date','location'],columns='voc').reset_index()"
      ],
      "metadata": {
        "id": "chKRjj1pYhaN"
      },
      "execution_count": null,
      "outputs": []
    },
    {
      "cell_type": "code",
      "source": [
        "flourish_df.columns = flourish_df.columns.droplevel()"
      ],
      "metadata": {
        "id": "TPywrMLBaZrC"
      },
      "execution_count": null,
      "outputs": []
    },
    {
      "cell_type": "code",
      "source": [
        "flourish_df.columns = ['date', 'location', 'Alpha', 'Beta', 'Delta', 'Epsilon', 'Eta', 'Gamma', 'Iota',\n",
        "       'Kappa', 'Lambda', 'MISSING DATA', 'Mu', 'OTHER', 'Omicron', 'Theta',\n",
        "       'Zeta']"
      ],
      "metadata": {
        "id": "NrJeTNSlccOJ"
      },
      "execution_count": null,
      "outputs": []
    },
    {
      "cell_type": "code",
      "source": [
        "site_rename_dict = {'34th Street PS':'34th Street', 'CCWQTC INF':'Cedar Creek Treatment Facility', 'DRGWQTC INF':'Guthrie Treatment Facility', 'FFWQTP INF':'Floyds Fork Treatment Facility',\n",
        "       'HCWQTP INF':'Hite Creek Treatment Facility', 'MFWQTC':'Morris Forman Treatment Facility', 'MH08915A CSO140':'Locust & Lobdell',\n",
        "       'MH09837 Ashby Lane & Mill Creek':'Ashby Lane & Mill Creek', 'MH23290 W. Indian Trail':'W. Indian Trail',\n",
        "       'MH32985 Wood Road & Terry Road':'Wood Road & Terry Road', 'MH40870 Muddy Forks PS':'Muddy Forks',\n",
        "       'MH50495 CSO108':'Newburg Rd', 'MH57350 Preston & South Park':'Preston & South Park',\n",
        "       'MH57769 Pineland Drive & Oakmont Dr.':'Pineland & Oakmont', 'MH70101 15th & Wilson':'15th & Wilson',\n",
        "       'MH71910 CSO146':'KY & Swan', 'Shawnee Park B':'Shawnee Park'}"
      ],
      "metadata": {
        "id": "bKas8pdDv7E5"
      },
      "execution_count": null,
      "outputs": []
    },
    {
      "cell_type": "code",
      "source": [
        "flourish_df.replace(site_rename_dict, inplace=True)"
      ],
      "metadata": {
        "id": "CMPpyKqR4taV"
      },
      "execution_count": null,
      "outputs": []
    },
    {
      "cell_type": "code",
      "source": [
        "catchment_order = pd.read_csv('/content/catchment_zone_numbers.csv')"
      ],
      "metadata": {
        "id": "tFNdagUxCMnI"
      },
      "execution_count": null,
      "outputs": []
    },
    {
      "cell_type": "code",
      "source": [
        "flourish_df = flourish_df.merge(catchment_order,left_on='location', right_on='Address_2',how='left')"
      ],
      "metadata": {
        "id": "lEO6jrybEyBa"
      },
      "execution_count": null,
      "outputs": []
    },
    {
      "cell_type": "code",
      "source": [
        "flourish_df.sort_values(by=['date','ZoneNUM'], inplace=True)"
      ],
      "metadata": {
        "id": "0Y3D_gCP51I-"
      },
      "execution_count": null,
      "outputs": []
    },
    {
      "cell_type": "code",
      "source": [
        "flourish_df[['date', 'location', 'Alpha', 'Beta', 'Delta', 'Epsilon', 'Eta', 'Gamma', 'Iota',\n",
        "       'Kappa', 'Lambda',  'Mu', 'Omicron', 'Theta',\n",
        "       'Zeta', 'OTHER', 'MISSING DATA']].to_csv('voc_flourish.csv')"
      ],
      "metadata": {
        "id": "YGxaTK2Ka-yi"
      },
      "execution_count": null,
      "outputs": []
    },
    {
      "cell_type": "markdown",
      "metadata": {
        "id": "V0czF1q93_U-"
      },
      "source": [
        "# Save to Drive"
      ]
    },
    {
      "cell_type": "code",
      "metadata": {
        "id": "lmjyktdA3-Bb"
      },
      "source": [
        "# this is for saving altair charts to png and svg, based on https://colab.research.google.com/github/altair-viz/altair_saver/blob/master/AltairSaver.ipynb#scrollTo=ZiTDBCAM_Ni8\n",
        "!pip install -q altair_saver\n",
        "!npm install --silent vega-lite vega-cli canvas"
      ],
      "execution_count": null,
      "outputs": []
    },
    {
      "cell_type": "code",
      "metadata": {
        "id": "9hXhIyGQ3-Bc"
      },
      "source": [
        "from pathlib import Path\n",
        "from altair_saver import save\n",
        "\n",
        "SAVE_PATH = Path('assets')\n",
        "SAVE_PATH.mkdir(exist_ok=True)\n",
        "\n",
        "# Import PyDrive and associated libraries.\n",
        "# This only needs to be done once per notebook.\n",
        "from pydrive.auth import GoogleAuth\n",
        "from pydrive.drive import GoogleDrive\n",
        "from google.colab import auth\n",
        "from oauth2client.client import GoogleCredentials\n",
        "\n",
        "# Authenticate and create the PyDrive client.\n",
        "# This only needs to be done once per notebook.\n",
        "auth.authenticate_user()\n",
        "gauth = GoogleAuth()\n",
        "gauth.credentials = GoogleCredentials.get_application_default()\n",
        "gdrive = GoogleDrive(gauth)"
      ],
      "execution_count": null,
      "outputs": []
    },
    {
      "cell_type": "code",
      "metadata": {
        "id": "6zLBpOC13-Bc"
      },
      "source": [
        "def assets_to_gdrive(folder_name, localdir_path = SAVE_PATH, parentdir_id='17Kx2uZbQv1r5U1M9x_OXS4lpMU5c6Ym8'):\n",
        "  # search gdrive for snapshot folder and save assets there if it already exists. \n",
        "  folder_id = ''\n",
        "  file_list = gdrive.ListFile({'q': f\"'{parentdir_id}' in parents and mimeType = 'application/vnd.google-apps.folder' and trashed=false\"}).GetList()\n",
        "  for file1 in file_list:\n",
        "      if file1['title'] == folder_name: \n",
        "        folder_id = file1['id']\n",
        "        print(f'Found pre-existing gdrive folder named \"{folder_name}\" at',folder_id)\n",
        "  # if not, create new folder\n",
        "  if folder_id == '':\n",
        "    folder = gdrive.CreateFile(metadata={'title': folder_name,\n",
        "                                      'parents':[{'id': parentdir_id}],\n",
        "                                      \"mimeType\": \"application/vnd.google-apps.folder\"\n",
        "                                      })\n",
        "    folder.Upload()\n",
        "    folder_id = folder.get('id')\n",
        "    print(f'Created new gdrive folder named \"{folder_name}\" at',folder_id)\n",
        "  \n",
        "  # upload all files within SAVE_PATH to snapshot folder\n",
        "  for asset_file in localdir_path.iterdir():\n",
        "    file_path = localdir_path/asset_file.name\n",
        "    file1 = gdrive.CreateFile(metadata={'title':asset_file.name,\n",
        "                                        'parents':[{'id': folder_id}],\n",
        "                                        })\n",
        "    file1.SetContentFile(file_path)\n",
        "    file1.Upload()\n",
        "    print('Saved file: ',asset_file.name)\n"
      ],
      "execution_count": null,
      "outputs": []
    },
    {
      "cell_type": "code",
      "metadata": {
        "id": "pTXoALCT3-Bc"
      },
      "source": [
        "def save_vizassets(chart, save_path, filename, fmts=['html','json','png','svg','pdf']):\n",
        "  for fmt in fmts:\n",
        "    save(chart, f'{save_path}/{filename}.{fmt}')"
      ],
      "execution_count": null,
      "outputs": []
    },
    {
      "cell_type": "code",
      "metadata": {
        "id": "oGhCnZOz3-Bd"
      },
      "source": [
        "# put your stuff (i.e. dataframes, altair charts, input data files) to save here"
      ],
      "execution_count": null,
      "outputs": []
    },
    {
      "cell_type": "code",
      "metadata": {
        "id": "DSWlGtc63-Bd"
      },
      "source": [
        "df.to_csv(SAVE_PATH/'ALLWEEKS_PCTVOC.csv')\n",
        "flourish_df.to_csv(SAVE_PATH/'voc_flourish.csv')\n",
        "catchment_order.to_csv(SAVE_PATH/'catchment_zone_numbers.csv')"
      ],
      "execution_count": null,
      "outputs": []
    },
    {
      "cell_type": "code",
      "metadata": {
        "id": "-Xbhdovk3-Bd"
      },
      "source": [
        "# get the colab filename\n",
        "from requests import get\n",
        "nb_name = get('http://172.28.0.2:9000/api/sessions').json()[0]['name'].replace('.ipynb','')\n",
        "nb_id = get('http://172.28.0.2:9000/api/sessions').json()[0]['notebook']['path'].replace('fileId=','')\n",
        "\n",
        "print(SAVE_PATH, nb_name, now_utc_timestamp, nb_id)\n",
        "\n",
        "# create a snapshot of this currently running notebook and save to SAVE_PATH\n",
        "downloaded_nb = gdrive.CreateFile({'id':nb_id})   # replace the id with id of file you want to access\n",
        "downloaded_nb.GetContentFile(SAVE_PATH/f'{nb_name}_{now_utc_timestamp}.ipynb')"
      ],
      "execution_count": null,
      "outputs": []
    },
    {
      "cell_type": "code",
      "metadata": {
        "id": "cKM1tWCS3-Bd"
      },
      "source": [
        "# upload everything to gdrive\n",
        "assets_to_gdrive(folder_name=f'{nb_name}_{now_utc_timestamp}')"
      ],
      "execution_count": null,
      "outputs": []
    }
  ]
}