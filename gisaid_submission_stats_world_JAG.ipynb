{
  "nbformat": 4,
  "nbformat_minor": 0,
  "metadata": {
    "colab": {
      "name": "gisaid-submission-stats-world-JAG.ipynb",
      "provenance": [],
      "collapsed_sections": [
        "zSWOgBrEevqN",
        "nut2kmbcZe7m",
        "mHIGBejhalmE",
        "aQkgljrEVnY0",
        "hGqSZ7Vba5VT",
        "lZZIj1pebBqs"
      ],
      "authorship_tag": "ABX9TyNS3qjVOib85D290/4qsu8y",
      "include_colab_link": true
    },
    "kernelspec": {
      "name": "python3",
      "display_name": "Python 3"
    },
    "language_info": {
      "name": "python"
    }
  },
  "cells": [
    {
      "cell_type": "markdown",
      "metadata": {
        "id": "view-in-github",
        "colab_type": "text"
      },
      "source": [
        "<a href=\"https://colab.research.google.com/github/pandemic-tracking/viz-gen/blob/main/gisaid_submission_stats_world_JAG.ipynb\" target=\"_parent\"><img src=\"https://colab.research.google.com/assets/colab-badge.svg\" alt=\"Open In Colab\"/></a>"
      ]
    },
    {
      "cell_type": "code",
      "metadata": {
        "id": "k-pkX629xf9l"
      },
      "source": [
        "import pandas as pd\n",
        "import numpy as np\n",
        "\n",
        "from datetime import datetime, timedelta\n",
        "import pytz\n",
        "\n",
        "import altair as alt\n",
        "from altair import datum\n",
        "alt.data_transformers.disable_max_rows()\n",
        "\n",
        "from pathlib import Path\n",
        "\n",
        "pd.set_option(\"display.precision\", 4)\n",
        "\n",
        "now_est = datetime.now().astimezone(pytz.timezone(\"US/Eastern\"))\n",
        "\n",
        "now_est_time = now_est.strftime(\"%Y-%m-%d, %H:%M:%S ET\")\n",
        "now_est_date = now_est.strftime(\"%Y-%m-%d\")\n",
        "now_est_timestamp = now_est.strftime(\"%Y%m%d_%H%M%S\")\n",
        "now_utc_timestamp = datetime.utcnow().strftime(\"%Y%m%d_%H%M%S\")\n",
        "print(now_est_time, now_est_date, now_est_timestamp, now_utc_timestamp)"
      ],
      "execution_count": null,
      "outputs": []
    },
    {
      "cell_type": "code",
      "metadata": {
        "id": "8pi0dzNfq0mL"
      },
      "source": [
        "%load_ext google.colab.data_table"
      ],
      "execution_count": null,
      "outputs": []
    },
    {
      "cell_type": "code",
      "metadata": {
        "id": "tzpycK6So8Ry"
      },
      "source": [
        "# adapting from https://towardsdatascience.com/consistently-beautiful-visualizations-with-altair-themes-c7f9f889602\n",
        "\n",
        "def ptc_theme():\n",
        "    axisColor = \"#808080\"\n",
        "    gridColor = \"#DEDDDD\"\n",
        "    markColor = \"#000000\"\n",
        "    font = 'Arial'\n",
        "    labelFont = 'Arial'\n",
        "    # Colors\n",
        "    # main_palette = [\"#1696d2\", \n",
        "    #                 \"#d2d2d2\",\n",
        "    #                 \"#000000\", \n",
        "    #                 \"#fdbf11\", \n",
        "    #                 \"#ec008b\", \n",
        "    #                 \"#55b748\", \n",
        "    #                 \"#5c5859\", \n",
        "    #                 \"#db2b27\", \n",
        "    #                ]\n",
        "    # sequential_palette = [\"#cfe8f3\", \n",
        "    #                       \"#a2d4ec\", \n",
        "    #                       \"#73bfe2\", \n",
        "    #                       \"#46abdb\", \n",
        "    #                       \"#1696d2\", \n",
        "    #                       \"#12719e\", \n",
        "    #                      ]\n",
        "    return {\n",
        "          \"config\": {\n",
        "              \"title\": {\n",
        "                  \"fontSize\": 16,\n",
        "                  \"font\": font,\n",
        "                  \"anchor\": \"start\", # equivalent of left-aligned.\n",
        "                  \"fontColor\": \"#000000\"\n",
        "              },\n",
        "              \"text\": {\n",
        "                  \"font\": font,\n",
        "                  \"labelFont\": labelFont,\n",
        "              },\n",
        "              \"header\": {\n",
        "                  \"font\": font,\n",
        "                  \"labelFont\": labelFont,\n",
        "                  \"titleFont\": font,\n",
        "              },\n",
        "              \"axisX\": {\n",
        "                  \"domain\": False,\n",
        "                  \"domainColor\": axisColor,\n",
        "                  \"labelColor\": axisColor,\n",
        "                  \"domainWidth\": 1,\n",
        "                  \"grid\": False,\n",
        "                  \"labelFont\": labelFont,\n",
        "                  \"labelFontSize\": 12,\n",
        "                  \"labelAngle\": 0, \n",
        "                  \"tickColor\": axisColor,\n",
        "                  \"tickSize\": 5, # default, including it just to show you can change it\n",
        "                  \"titleFont\": font,\n",
        "                  \"titleFontSize\": 12,\n",
        "                  \"titlePadding\": 10, # guessing, not specified in styleguide\n",
        "                  \"title\": \"X Axis Title (units)\", \n",
        "              },\n",
        "              \"axisY\": {\n",
        "                  \"domain\": False,\n",
        "                  \"grid\": True,\n",
        "                  \"gridColor\": gridColor,\n",
        "                  \"gridWidth\": 1,\n",
        "                  \"labelFont\": labelFont,\n",
        "                  \"labelColor\": axisColor,\n",
        "                  \"labelFontSize\": 12,\n",
        "                  \"labelAngle\": 0,\n",
        "                  \"labelAnchor\": \"end\",\n",
        "                  \"labelAlign\": \"right\",  \n",
        "                  \"ticks\": False, # even if you don't have a \"domain\" you need to turn these off.\n",
        "                  \"titleFont\": font,\n",
        "                  \"titleFontSize\": 12,\n",
        "                  \"titlePadding\": 10, # guessing, not specified in styleguide\n",
        "                  \"title\": \"Y Axis Title (units)\", \n",
        "                  # titles are by default vertical left of axis so we need to hack this \n",
        "                  \"titleAngle\": 0, # horizontal\n",
        "                  \"titleY\": -10, # move it up\n",
        "                  \"titleX\": 18, # move it to the right so it aligns with the labels \n",
        "              },\n",
        "            #   \"range\": {\n",
        "            #       \"category\": main_palette,\n",
        "            #       \"diverging\": sequential_palette,\n",
        "            #   },\n",
        "              \"legend\": {\n",
        "                  \"labelFont\": labelFont,\n",
        "                  \"labelFontSize\": 12,\n",
        "                  \"symbolType\": \"circle\", # just 'cause\n",
        "                  \"symbolSize\": 100, # default\n",
        "                  \"titleFont\": font,\n",
        "                  \"titleFontSize\": 12,\n",
        "                  \"title\": \"\", # set it to no-title by default\n",
        "                  \"orient\": \"right\", # so it's right next to the y-axis\n",
        "                  \"offset\": 0, # literally right next to the y-axis.\n",
        "              },\n",
        "              \"view\": {\n",
        "                  \"stroke\": \"transparent\", # altair uses gridlines to box the area where the data is visualized. This takes that off.\n",
        "              },\n",
        "        }\n",
        "    }\n",
        "\n",
        "alt.themes.register(\"my_custom_theme\", ptc_theme)\n",
        "alt.themes.enable(\"my_custom_theme\")"
      ],
      "execution_count": null,
      "outputs": []
    },
    {
      "cell_type": "markdown",
      "metadata": {
        "id": "p1Gr6PF3pogL"
      },
      "source": [
        "## OWID Vaccination and World Bank Income Classification Data"
      ]
    },
    {
      "cell_type": "code",
      "metadata": {
        "id": "Ptw7FbrH6BBg"
      },
      "source": [
        "# https://datahelpdesk.worldbank.org/knowledgebase/articles/906519-world-bank-country-and-lending-groups\n",
        "wb_df = pd.read_excel('/content/CLASS.xlsx')"
      ],
      "execution_count": null,
      "outputs": []
    },
    {
      "cell_type": "code",
      "metadata": {
        "id": "4Mv5dJ4_P-hS"
      },
      "source": [
        "owid_wb_mismatches = {'Bahamas, The': 'Bahamas',\n",
        " 'Brunei Darussalam': 'Brunei',\n",
        " 'Cabo Verde': 'Cape Verde',\n",
        " 'Congo, Dem. Rep.': 'Democratic Republic of Congo',\n",
        " 'Congo, Rep.': 'Congo',\n",
        " 'Curaçao': 'Curacao',\n",
        " 'Czech Republic': 'Czechia',\n",
        " \"Côte d'Ivoire\": \"Cote d'Ivoire\",\n",
        " 'Egypt, Arab Rep.': 'Egypt',\n",
        " 'Faroe Islands': 'Faeroe Islands',\n",
        " 'Gambia, The': 'Gambia',\n",
        " 'Hong Kong SAR, China': 'Hong Kong',\n",
        " 'Iran, Islamic Rep.': 'Iran',\n",
        " 'Korea, Rep.': 'South Korea',\n",
        " 'Kyrgyz Republic': 'Kyrgyzstan',\n",
        " 'Lao PDR': 'Laos',\n",
        " 'Macao SAR, China': 'Macao',\n",
        " 'Russian Federation': 'Russia',\n",
        " 'Slovak Republic': 'Slovakia',\n",
        " 'St. Kitts and Nevis': 'Saint Kitts and Nevis',\n",
        " 'St. Lucia': 'Saint Lucia',\n",
        " 'St. Vincent and the Grenadines': 'Saint Vincent and the Grenadines',\n",
        " 'Syrian Arab Republic': 'Syria',\n",
        " 'São Tomé and Principe': 'Sao Tome and Principe',\n",
        " 'Taiwan, China': 'Taiwan',\n",
        " 'Timor-Leste': 'Timor',\n",
        " 'Venezuela, RB': 'Venezuela',\n",
        " 'West Bank and Gaza': 'Palestine',\n",
        " 'Yemen, Rep.': 'Yemen'}\n",
        "wb_owid_df = wb_df.replace(owid_wb_mismatches)"
      ],
      "execution_count": null,
      "outputs": []
    },
    {
      "cell_type": "markdown",
      "metadata": {
        "id": "HbnVe9mXKHZl"
      },
      "source": [
        "## GISAID"
      ]
    },
    {
      "cell_type": "code",
      "metadata": {
        "id": "t4wBCQ2_dz1a"
      },
      "source": [
        "# https://www.gisaid.org/index.php?id=208 (I just copied the data from the page here into a workbook and uploaded it)\n",
        "pre_gisaid_df = pd.read_excel('/content/gisaid_country_180day_20211216-12EST.xlsx')"
      ],
      "execution_count": null,
      "outputs": []
    },
    {
      "cell_type": "code",
      "metadata": {
        "id": "v3s-jr6QoC6q"
      },
      "source": [
        "pre_gisaid_df.rename(columns={'Country / territory':'Country'}, inplace=True)"
      ],
      "execution_count": null,
      "outputs": []
    },
    {
      "cell_type": "markdown",
      "metadata": {
        "id": "Sdr_uJMypJzX"
      },
      "source": [
        "### cleanup"
      ]
    },
    {
      "cell_type": "code",
      "metadata": {
        "id": "J9-UZ5xrgB0W"
      },
      "source": [
        "owid_gisaid_mismatches = {'Cabo Verde': 'Cape Verde',\n",
        " 'Curaçao': 'Curacao',\n",
        " 'Czech Republic': 'Czechia',\n",
        " \"Côte d'Ivoire\": \"Cote d'Ivoire\",\n",
        " 'Democratic Republic of the Congo': 'Democratic Republic of Congo',\n",
        " 'Falkland Islands (Malvinas)': 'Falkland Islands',\n",
        " 'Faroe Islands': 'Faeroe Islands',\n",
        " 'Holy See': 'Vatican',\n",
        " 'Micronesia': 'Micronesia (country)',\n",
        " 'Pitcairn Islands': 'Pitcairn',\n",
        " 'Republic of the Congo': 'Congo',\n",
        " 'Réunion': 'Reunion',\n",
        " 'Saint Martin': 'Saint Martin (French part)',\n",
        " 'Sint Maarten': 'Sint Maarten (Dutch part)',\n",
        " 'The Bahamas': 'Bahamas',\n",
        " 'Timor-Leste': 'Timor',\n",
        " 'United States of America': 'United States',\n",
        " 'U.S. Virgin Islands': 'United States Virgin Islands',\n",
        " 'Wallis and Futuna Islands': 'Wallis and Futuna',\n",
        " 'West Bank and Gaza': 'Palestine',\n",
        " 'eSwatini': 'Eswatini'}\n",
        "pre_gisaid_df = pre_gisaid_df[~(pre_gisaid_df.Country == 'Slovak Republic')]\n",
        "pre_gisaid_df = pre_gisaid_df.replace(owid_gisaid_mismatches)"
      ],
      "execution_count": null,
      "outputs": []
    },
    {
      "cell_type": "markdown",
      "source": [
        "there's both a US Virgin Islands and a United States Virgin Islands that should be collapsed (they have complementary data), ditto Bahamas"
      ],
      "metadata": {
        "id": "Ob1QFXZt7SbI"
      }
    },
    {
      "cell_type": "code",
      "metadata": {
        "id": "HDRMGrAup28j"
      },
      "source": [
        "pre_gisaid_df.Country.value_counts()"
      ],
      "execution_count": null,
      "outputs": []
    },
    {
      "cell_type": "code",
      "metadata": {
        "id": "9aezqxPOpGWB"
      },
      "source": [
        "gisaid_grouped_df = pre_gisaid_df.groupby(by='Country').sum()\n",
        "gisaid_grouped_df.reset_index(inplace=True)\n",
        "gisaid_grouped_df"
      ],
      "execution_count": null,
      "outputs": []
    },
    {
      "cell_type": "markdown",
      "metadata": {
        "id": "Jj0HFY7-Iz4D"
      },
      "source": [
        "notes on gisaid data\n",
        "\n",
        "\n",
        "*   changing many names to reflect OWID nomenclature\n",
        "\n"
      ]
    },
    {
      "cell_type": "code",
      "metadata": {
        "id": "Ez0o5SnHpR3x"
      },
      "source": [
        "gisaid_df = gisaid_grouped_df.copy()"
      ],
      "execution_count": null,
      "outputs": []
    },
    {
      "cell_type": "code",
      "metadata": {
        "id": "lcEzLEQF0mWx"
      },
      "source": [
        "# checking to make sure there aren't any duplicates\n",
        "gisaid_df.Country.value_counts()"
      ],
      "execution_count": null,
      "outputs": []
    },
    {
      "cell_type": "markdown",
      "metadata": {
        "id": "9v2PI1rEKhHe"
      },
      "source": [
        "### GISAID x WB"
      ]
    },
    {
      "cell_type": "code",
      "metadata": {
        "id": "Zpm9Mao2Hm_F"
      },
      "source": [
        "owid_gisaid_wb_df = gisaid_df.merge(wb_owid_df,how='left',left_on='Country',right_on='Economy')\n",
        "owid_gisaid_wb_df['Income group'] = owid_gisaid_wb_df['Income group'].fillna(value='No income data')\n",
        "# these fell out - may be things to tackle in the renaming\n",
        "# venezuela has no income group\n",
        "owid_gisaid_wb_df[owid_gisaid_wb_df['Economy'].isna()]['Country'].unique()"
      ],
      "execution_count": null,
      "outputs": []
    },
    {
      "cell_type": "markdown",
      "metadata": {
        "id": "DSft6fjmetPa"
      },
      "source": [
        "## Charts"
      ]
    },
    {
      "cell_type": "markdown",
      "metadata": {
        "id": "s7oXrRKwRCBe"
      },
      "source": [
        "### country sequencing (thanks, Dave!)"
      ]
    },
    {
      "cell_type": "code",
      "source": [
        "date = '12/16/2021'\n",
        "seq_thresh = 2000"
      ],
      "metadata": {
        "id": "gjdlXslIcMhe"
      },
      "execution_count": null,
      "outputs": []
    },
    {
      "cell_type": "code",
      "metadata": {
        "id": "GufJTKJLREii"
      },
      "source": [
        "df = owid_gisaid_wb_df.copy()"
      ],
      "execution_count": null,
      "outputs": []
    },
    {
      "cell_type": "code",
      "metadata": {
        "id": "Xu6bua8_d5UI"
      },
      "source": [
        "df.columns"
      ],
      "execution_count": null,
      "outputs": []
    },
    {
      "cell_type": "code",
      "source": [
        "exclude = ['Puerto Rico', 'Reunion']"
      ],
      "metadata": {
        "id": "NxjXl3Xi4lu7"
      },
      "execution_count": null,
      "outputs": []
    },
    {
      "cell_type": "code",
      "source": [
        "df = df[~(df.Country.isin(exclude))]"
      ],
      "metadata": {
        "id": "NK-E_BDo4vll"
      },
      "execution_count": null,
      "outputs": []
    },
    {
      "cell_type": "code",
      "metadata": {
        "id": "oYCeSBCpYQfz"
      },
      "source": [
        "df = df[df['Sequences shared'] > seq_thresh]"
      ],
      "execution_count": null,
      "outputs": []
    },
    {
      "cell_type": "code",
      "source": [
        "len(df)"
      ],
      "metadata": {
        "id": "O4v8GKT45S7u"
      },
      "execution_count": null,
      "outputs": []
    },
    {
      "cell_type": "code",
      "metadata": {
        "id": "hFZtY64HRIhf"
      },
      "source": [
        "df.rename(columns={'% of cases sequenced and shared':'percent_cases_sequenced_and_shared'}, inplace=True)"
      ],
      "execution_count": null,
      "outputs": []
    },
    {
      "cell_type": "code",
      "metadata": {
        "id": "5HaOCPQPpf__"
      },
      "source": [
        "sort_countries = df.sort_values(by='percent_cases_sequenced_and_shared', ascending=False)['Country'].to_list()"
      ],
      "execution_count": null,
      "outputs": []
    },
    {
      "cell_type": "code",
      "source": [
        "domain = ['High income', 'Upper middle income', 'Lower middle income', 'Low income', 'No income data']\n",
        "range_ = ['#e66101','#fdb863', '#9D91D2', '#5e3c99','darkgrey']"
      ],
      "metadata": {
        "id": "0EvKVItm0RKH"
      },
      "execution_count": null,
      "outputs": []
    },
    {
      "cell_type": "code",
      "metadata": {
        "id": "wiJV4mRieIsh"
      },
      "source": [
        "base = alt.Chart(df).mark_bar(orient='vertical').encode(\n",
        "    y = alt.Y('Country', sort=sort_countries, axis=None),\n",
        "    color=alt.Color('Income group', scale=alt.Scale(domain=domain, range=range_)),\n",
        ")\n",
        "\n",
        "base_text = base.mark_text(dx=5, dy=1, size=14, align='left', baseline='middle').encode(color = alt.value('#111'))\n",
        "\n",
        "gisaid1 = alt.layer(\n",
        "    base.encode(\n",
        "      x = alt.X('percent_cases_sequenced_and_shared', axis=None)\n",
        "    )\n",
        "    +\n",
        "    base_text.encode(\n",
        "      x = alt.X('percent_cases_sequenced_and_shared'),\n",
        "      text = alt.Text('percent_cases_sequenced_and_shared', format=',.1f'),\n",
        "    )\n",
        ").properties(title='% of Cases Sequenced and Shared', height=alt.Step(11), width=300)\n",
        "\n",
        "gisaid2 = alt.layer(\n",
        "    base.encode(\n",
        "      x = alt.X('Sequences shared', axis=None, sort=alt.SortOrder('descending')),\n",
        "      color=alt.Color('Income group', scale=alt.Scale(domain=domain, range=range_)),\n",
        "    )\n",
        "    +\n",
        "    base_text.mark_text(dx=-5, dy=1, size=12, align='right').encode(\n",
        "      x = 'Sequences shared',\n",
        "      text = alt.Text('Sequences shared', format=',.0f'), \n",
        "    )\n",
        ").properties(title='Sequences shared', height=alt.Step(11), width=300)\n",
        "\n",
        "gisaid3 = alt.layer(\n",
        "    base.encode(\n",
        "      x = alt.X('Median days to deposition', axis=None),\n",
        "    )\n",
        "    +\n",
        "    base_text.encode(\n",
        "      x = 'Median days to deposition',\n",
        "      text = alt.Text('Median days to deposition', format='.0f'),\n",
        "    )\n",
        ").properties(title='Median days to deposition', height=alt.Step(11), width=160)\n",
        "\n",
        "middle = base.encode(\n",
        "    text=alt.Text('Country:O'),\n",
        ").mark_text(size=14).properties(height=alt.Step(11), width=10)\n"
      ],
      "execution_count": null,
      "outputs": []
    },
    {
      "cell_type": "code",
      "metadata": {
        "id": "KWdETb6ESIXy"
      },
      "source": [
        "viz = alt.vconcat(gisaid2|middle|gisaid1|middle|gisaid3).properties(title=f'Sequences Submitted from Countries to GISAID in Last 180 Days as of ' + date).configure_axisY(grid=False, domain=False, ticks=False)\n",
        "viz"
      ],
      "execution_count": null,
      "outputs": []
    },
    {
      "cell_type": "markdown",
      "metadata": {
        "id": "V0czF1q93_U-"
      },
      "source": [
        "# Save to Drive"
      ]
    },
    {
      "cell_type": "code",
      "metadata": {
        "id": "lmjyktdA3-Bb"
      },
      "source": [
        "# this is for saving altair charts to png and svg, based on https://colab.research.google.com/github/altair-viz/altair_saver/blob/master/AltairSaver.ipynb#scrollTo=ZiTDBCAM_Ni8\n",
        "!pip install -q altair_saver\n",
        "!npm install --silent vega-lite vega-cli canvas"
      ],
      "execution_count": null,
      "outputs": []
    },
    {
      "cell_type": "code",
      "metadata": {
        "id": "9hXhIyGQ3-Bc"
      },
      "source": [
        "from pathlib import Path\n",
        "from altair_saver import save\n",
        "\n",
        "SAVE_PATH = Path('assets')\n",
        "SAVE_PATH.mkdir(exist_ok=True)\n",
        "\n",
        "# Import PyDrive and associated libraries.\n",
        "# This only needs to be done once per notebook.\n",
        "from pydrive.auth import GoogleAuth\n",
        "from pydrive.drive import GoogleDrive\n",
        "from google.colab import auth\n",
        "from oauth2client.client import GoogleCredentials\n",
        "\n",
        "# Authenticate and create the PyDrive client.\n",
        "# This only needs to be done once per notebook.\n",
        "auth.authenticate_user()\n",
        "gauth = GoogleAuth()\n",
        "gauth.credentials = GoogleCredentials.get_application_default()\n",
        "gdrive = GoogleDrive(gauth)"
      ],
      "execution_count": null,
      "outputs": []
    },
    {
      "cell_type": "code",
      "metadata": {
        "id": "6zLBpOC13-Bc"
      },
      "source": [
        "def assets_to_gdrive(folder_name, localdir_path = SAVE_PATH, parentdir_id='17Kx2uZbQv1r5U1M9x_OXS4lpMU5c6Ym8'):\n",
        "  # search gdrive for snapshot folder and save assets there if it already exists. \n",
        "  folder_id = ''\n",
        "  file_list = gdrive.ListFile({'q': f\"'{parentdir_id}' in parents and mimeType = 'application/vnd.google-apps.folder' and trashed=false\"}).GetList()\n",
        "  for file1 in file_list:\n",
        "      if file1['title'] == folder_name: \n",
        "        folder_id = file1['id']\n",
        "        print(f'Found pre-existing gdrive folder named \"{folder_name}\" at',folder_id)\n",
        "  # if not, create new folder\n",
        "  if folder_id == '':\n",
        "    folder = gdrive.CreateFile(metadata={'title': folder_name,\n",
        "                                      'parents':[{'id': parentdir_id}],\n",
        "                                      \"mimeType\": \"application/vnd.google-apps.folder\"\n",
        "                                      })\n",
        "    folder.Upload()\n",
        "    folder_id = folder.get('id')\n",
        "    print(f'Created new gdrive folder named \"{folder_name}\" at',folder_id)\n",
        "  \n",
        "  # upload all files within SAVE_PATH to snapshot folder\n",
        "  for asset_file in localdir_path.iterdir():\n",
        "    file_path = localdir_path/asset_file.name\n",
        "    file1 = gdrive.CreateFile(metadata={'title':asset_file.name,\n",
        "                                        'parents':[{'id': folder_id}],\n",
        "                                        })\n",
        "    file1.SetContentFile(file_path)\n",
        "    file1.Upload()\n",
        "    print('Saved file: ',asset_file.name)\n"
      ],
      "execution_count": null,
      "outputs": []
    },
    {
      "cell_type": "code",
      "metadata": {
        "id": "pTXoALCT3-Bc"
      },
      "source": [
        "def save_vizassets(chart, save_path, filename, fmts=['html','json','png','svg','pdf']):\n",
        "  for fmt in fmts:\n",
        "    save(chart, f'{save_path}/{filename}.{fmt}')"
      ],
      "execution_count": null,
      "outputs": []
    },
    {
      "cell_type": "code",
      "metadata": {
        "id": "oGhCnZOz3-Bd"
      },
      "source": [
        "# put your stuff (i.e. dataframes, altair charts, input data files) to save here"
      ],
      "execution_count": null,
      "outputs": []
    },
    {
      "cell_type": "code",
      "metadata": {
        "id": "DSWlGtc63-Bd"
      },
      "source": [
        "wb_df.to_csv(SAVE_PATH/'world_bank_df.csv')\n",
        "pre_gisaid_df.to_csv(SAVE_PATH/'gisaid_country_180day_20211216-12EST.csv')\n",
        "df.to_csv(SAVE_PATH/'df.csv')\n",
        "save_vizassets(viz, SAVE_PATH, f'gisaid_world_stats_{now_utc_timestamp}')"
      ],
      "execution_count": null,
      "outputs": []
    },
    {
      "cell_type": "code",
      "metadata": {
        "id": "-Xbhdovk3-Bd"
      },
      "source": [
        "# get the colab filename\n",
        "from requests import get\n",
        "nb_name = get('http://172.28.0.2:9000/api/sessions').json()[0]['name'].replace('.ipynb','')\n",
        "nb_id = get('http://172.28.0.2:9000/api/sessions').json()[0]['notebook']['path'].replace('fileId=','')\n",
        "\n",
        "print(SAVE_PATH, nb_name, now_utc_timestamp, nb_id)\n",
        "\n",
        "# create a snapshot of this currently running notebook and save to SAVE_PATH\n",
        "downloaded_nb = gdrive.CreateFile({'id':nb_id})   # replace the id with id of file you want to access\n",
        "downloaded_nb.GetContentFile(SAVE_PATH/f'{nb_name}_{now_utc_timestamp}.ipynb')"
      ],
      "execution_count": null,
      "outputs": []
    },
    {
      "cell_type": "code",
      "metadata": {
        "id": "cKM1tWCS3-Bd"
      },
      "source": [
        "# upload everything to gdrive\n",
        "assets_to_gdrive(folder_name=f'{nb_name}_{now_utc_timestamp}')"
      ],
      "execution_count": null,
      "outputs": []
    }
  ]
}