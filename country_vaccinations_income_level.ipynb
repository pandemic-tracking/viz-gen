{
  "nbformat": 4,
  "nbformat_minor": 0,
  "metadata": {
    "colab": {
      "name": "country_vaccinations_income_level.ipynb",
      "provenance": [],
      "collapsed_sections": [
        "tw9l69RPKazC",
        "zSWOgBrEevqN",
        "hGqSZ7Vba5VT",
        "lZZIj1pebBqs"
      ],
      "authorship_tag": "ABX9TyOXIFDZQglsS3lqnMNjUREV",
      "include_colab_link": true
    },
    "kernelspec": {
      "name": "python3",
      "display_name": "Python 3"
    },
    "language_info": {
      "name": "python"
    }
  },
  "cells": [
    {
      "cell_type": "markdown",
      "metadata": {
        "id": "view-in-github",
        "colab_type": "text"
      },
      "source": [
        "<a href=\"https://colab.research.google.com/github/pandemic-tracking/viz-gen/blob/main/country_vaccinations_income_level.ipynb\" target=\"_parent\"><img src=\"https://colab.research.google.com/assets/colab-badge.svg\" alt=\"Open In Colab\"/></a>"
      ]
    },
    {
      "cell_type": "code",
      "metadata": {
        "id": "k-pkX629xf9l"
      },
      "source": [
        "import pandas as pd\n",
        "import altair as alt"
      ],
      "execution_count": null,
      "outputs": []
    },
    {
      "cell_type": "code",
      "metadata": {
        "id": "8pi0dzNfq0mL"
      },
      "source": [
        "%load_ext google.colab.data_table"
      ],
      "execution_count": null,
      "outputs": []
    },
    {
      "cell_type": "markdown",
      "metadata": {
        "id": "p1Gr6PF3pogL"
      },
      "source": [
        "## OWID Vaccination and World Bank Income Classification Data"
      ]
    },
    {
      "cell_type": "code",
      "metadata": {
        "id": "Gb0agv66yT5I"
      },
      "source": [
        "# https://ourworldindata.org/grapher/covid-people-vaccinated-marimekko\n",
        "owid_df = pd.read_csv('/content/covid-people-vaccinated-marimekko.csv')"
      ],
      "execution_count": null,
      "outputs": []
    },
    {
      "cell_type": "code",
      "metadata": {
        "id": "Ptw7FbrH6BBg"
      },
      "source": [
        "# https://datahelpdesk.worldbank.org/knowledgebase/articles/906519-world-bank-country-and-lending-groups\n",
        "wb_df = pd.read_excel('/content/CLASS.xlsx')"
      ],
      "execution_count": null,
      "outputs": []
    },
    {
      "cell_type": "code",
      "metadata": {
        "id": "4Mv5dJ4_P-hS"
      },
      "source": [
        "owid_wb_mismatches = {'Bahamas, The': 'Bahamas',\n",
        " 'Brunei Darussalam': 'Brunei',\n",
        " 'Cabo Verde': 'Cape Verde',\n",
        " 'Congo, Dem. Rep.': 'Democratic Republic of Congo',\n",
        " 'Congo, Rep.': 'Congo',\n",
        " 'Curaçao': 'Curacao',\n",
        " 'Czech Republic': 'Czechia',\n",
        " \"Côte d'Ivoire\": \"Cote d'Ivoire\",\n",
        " 'Egypt, Arab Rep.': 'Egypt',\n",
        " 'Faroe Islands': 'Faeroe Islands',\n",
        " 'Gambia, The': 'Gambia',\n",
        " 'Hong Kong SAR, China': 'Hong Kong',\n",
        " 'Iran, Islamic Rep.': 'Iran',\n",
        " 'Korea, Rep.': 'South Korea',\n",
        " 'Kyrgyz Republic': 'Kyrgyzstan',\n",
        " 'Lao PDR': 'Laos',\n",
        " 'Macao SAR, China': 'Macao',\n",
        " 'Russian Federation': 'Russia',\n",
        " 'Slovak Republic': 'Slovakia',\n",
        " 'St. Kitts and Nevis': 'Saint Kitts and Nevis',\n",
        " 'St. Lucia': 'Saint Lucia',\n",
        " 'St. Vincent and the Grenadines': 'Saint Vincent and the Grenadines',\n",
        " 'Syrian Arab Republic': 'Syria',\n",
        " 'São Tomé and Principe': 'Sao Tome and Principe',\n",
        " 'Taiwan, China': 'Taiwan',\n",
        " 'Timor-Leste': 'Timor',\n",
        " 'Venezuela, RB': 'Venezuela',\n",
        " 'West Bank and Gaza': 'Palestine',\n",
        " 'Yemen, Rep.': 'Yemen'}\n",
        "wb_owid_df = wb_df.replace(owid_wb_mismatches)"
      ],
      "execution_count": null,
      "outputs": []
    },
    {
      "cell_type": "markdown",
      "metadata": {
        "id": "HbnVe9mXKHZl"
      },
      "source": [
        "## GISAID"
      ]
    },
    {
      "cell_type": "code",
      "metadata": {
        "id": "t4wBCQ2_dz1a"
      },
      "source": [
        "# https://www.gisaid.org/index.php?id=208 (I just copied the data from the page here into a workbook and uploaded it)\n",
        "gisaid_df = pd.read_excel('/content/GISAID_cases_sequenced_by_country_20211015.xlsx')"
      ],
      "execution_count": null,
      "outputs": []
    },
    {
      "cell_type": "markdown",
      "metadata": {
        "id": "Jj0HFY7-Iz4D"
      },
      "source": [
        "notes on gisaid data\n",
        "\n",
        "\n",
        "*   there's both a US Virgin Islands and a United States Virgin Islands that should be collapsed (they have complimentary data)\n",
        "*   changing many names to reflect OWID nomenclature\n",
        "\n"
      ]
    },
    {
      "cell_type": "code",
      "metadata": {
        "id": "J9-UZ5xrgB0W"
      },
      "source": [
        "owid_gisaid_mismatches = {'Cabo Verde': 'Cape Verde',\n",
        " 'Curaçao': 'Curacao',\n",
        " 'Czech Republic': 'Czechia',\n",
        " \"Côte d'Ivoire\": \"Cote d'Ivoire\",\n",
        " 'Democratic Republic of the Congo': 'Democratic Republic of Congo',\n",
        " 'Falkland Islands (Malvinas)': 'Falkland Islands',\n",
        " 'Faroe Islands': 'Faeroe Islands',\n",
        " 'Holy See': 'Vatican',\n",
        " 'Micronesia': 'Micronesia (country)',\n",
        " 'Pitcairn Islands': 'Pitcairn',\n",
        " 'Republic of the Congo': 'Congo',\n",
        " 'Réunion': 'Reunion',\n",
        " 'Saint Martin': 'Saint Martin (French part)',\n",
        " 'Sint Maarten': 'Sint Maarten (Dutch part)',\n",
        " 'Slovak Republic': 'Slovakia',\n",
        " 'The Bahamas': 'Bahamas',\n",
        " 'Timor-Leste': 'Timor',\n",
        " 'United States of America': 'United States',\n",
        " 'Wallis and Futuna Islands': 'Wallis and Futuna',\n",
        " 'West Bank and Gaza': 'Palestine',\n",
        " 'eSwatini': 'Eswatini'}\n",
        "gisaid_owid_df = gisaid_df.replace(owid_gisaid_mismatches)"
      ],
      "execution_count": null,
      "outputs": []
    },
    {
      "cell_type": "code",
      "metadata": {
        "id": "geL8HhAswsrs"
      },
      "source": [
        "owid_gisaid_df = owid_df.merge(gisaid_owid_df, how='outer', left_on='Entity', right_on='Country')\n",
        "owid_gisaid_df[owid_gisaid_df['Entity'].isna()]['Country'].unique()\n",
        "\n",
        "# in gisaid but not in owid\n",
        "# bonaire_df = gisaid_df[gisaid_df['Country'].isin(['Bonaire', 'Saba', 'Sint Eustatius'])]\n",
        "# bonaire_df\n",
        "# gisaid treats as 3 separate places what OWID treats as Bonaire Sint Eustatius and Saba"
      ],
      "execution_count": null,
      "outputs": []
    },
    {
      "cell_type": "code",
      "metadata": {
        "id": "MasRWcSkxvtq"
      },
      "source": [
        "# owid_gisaid_conflicts_df[owid_gisaid_conflicts_df['Country'].isna()]['Entity'].unique()\n",
        "# in owid but not in gisaid"
      ],
      "execution_count": null,
      "outputs": []
    },
    {
      "cell_type": "markdown",
      "metadata": {
        "id": "9v2PI1rEKhHe"
      },
      "source": [
        "### GISAID x WB"
      ]
    },
    {
      "cell_type": "code",
      "metadata": {
        "id": "Zpm9Mao2Hm_F"
      },
      "source": [
        "gisaid_wb_df = gisaid_owid_df.merge(wb_owid_df,how='left',left_on='Country',right_on='Economy')\n",
        "# these fell out - may be things to tackle in the renaming\n",
        "gisaid_wb_df[gisaid_wb_df['Income group'].isna()]['Country'].unique()"
      ],
      "execution_count": null,
      "outputs": []
    },
    {
      "cell_type": "markdown",
      "metadata": {
        "id": "tw9l69RPKazC"
      },
      "source": [
        "### OWID x WB"
      ]
    },
    {
      "cell_type": "code",
      "metadata": {
        "id": "97h1Oi7Q6Hm-"
      },
      "source": [
        "df = owid_df.merge(wb_df, how='left', left_on='Entity', right_on='Economy')\n",
        "df"
      ],
      "execution_count": null,
      "outputs": []
    },
    {
      "cell_type": "code",
      "metadata": {
        "id": "JOOaZ1e19hWi"
      },
      "source": [
        "# keep only most recent data for each country\n",
        "df = df.sort_values(by=['Entity','Day'])\n",
        "df = df.drop_duplicates(subset='Entity',keep='last')"
      ],
      "execution_count": null,
      "outputs": []
    },
    {
      "cell_type": "code",
      "metadata": {
        "id": "WnzTluACBchq"
      },
      "source": [
        "# remove continent data\n",
        "continents = ['Africa','Antarctica','Asia','Europe','North America', 'Oceania', 'South America', 'World']\n",
        "df = df[~df['Entity'].isin(continents)]"
      ],
      "execution_count": null,
      "outputs": []
    },
    {
      "cell_type": "code",
      "metadata": {
        "id": "81-GWzdIl-ov"
      },
      "source": [
        "#df[(df['Income group'].isna()) & ~(df['people_vaccinated_per_hundred'].isna())]"
      ],
      "execution_count": null,
      "outputs": []
    },
    {
      "cell_type": "code",
      "metadata": {
        "id": "Dt3WVqqYAZUQ"
      },
      "source": [
        "#df[df['Income group'].isna()].Entity.unique()"
      ],
      "execution_count": null,
      "outputs": []
    },
    {
      "cell_type": "code",
      "metadata": {
        "id": "cQV82xUoLWFB"
      },
      "source": [
        "# keep only countries with vax and pop data\n",
        "df = df[~(df['Share of world population'].isna()) & ~(df['people_vaccinated_per_hundred'].isna())]"
      ],
      "execution_count": null,
      "outputs": []
    },
    {
      "cell_type": "code",
      "metadata": {
        "id": "-NyWfsnWPrzY"
      },
      "source": [
        "df[df['Income group'].isna()].sort_values('Share of world population', ascending=False)"
      ],
      "execution_count": null,
      "outputs": []
    },
    {
      "cell_type": "code",
      "metadata": {
        "id": "5_QSwiLOJIZ0"
      },
      "source": [
        "df = df.sort_values(by='people_vaccinated_per_hundred', ascending=False)"
      ],
      "execution_count": null,
      "outputs": []
    },
    {
      "cell_type": "markdown",
      "metadata": {
        "id": "DSft6fjmetPa"
      },
      "source": [
        "## Charts"
      ]
    },
    {
      "cell_type": "markdown",
      "metadata": {
        "id": "zSWOgBrEevqN"
      },
      "source": [
        "### OWID x WB chart"
      ]
    },
    {
      "cell_type": "code",
      "metadata": {
        "id": "khhxtUrR9ukY"
      },
      "source": [
        "# to dictate bar widths\n",
        "df['x1'] = df['Share of world population'].cumsum()\n",
        "df['x0'] = df['x1'].shift(fill_value=0)"
      ],
      "execution_count": null,
      "outputs": []
    },
    {
      "cell_type": "code",
      "metadata": {
        "id": "FeDYrbhDm7nD"
      },
      "source": [
        "df[['Income group']] = df[['Income group']].fillna(value='No income data')"
      ],
      "execution_count": null,
      "outputs": []
    },
    {
      "cell_type": "code",
      "metadata": {
        "id": "mHVNH1MpYxsz"
      },
      "source": [
        "df['Income group'].unique()"
      ],
      "execution_count": null,
      "outputs": []
    },
    {
      "cell_type": "code",
      "metadata": {
        "id": "eFSC6sA5YuU9"
      },
      "source": [
        "domain = ['High income', 'Upper middle income', 'Lower middle income', 'Low income', 'No income data']\n",
        "range_ = ['#2ca02c','#1f77b4', '#ff7f0e', '#d62728', '#111111']"
      ],
      "execution_count": null,
      "outputs": []
    },
    {
      "cell_type": "code",
      "metadata": {
        "id": "Yx88UzhxZSVf"
      },
      "source": [
        "vax_total = alt.Chart(df).mark_rect().encode(\n",
        "    x=alt.X('x0:Q', title='Share of World Population in 2021'),\n",
        "    x2='x1',\n",
        "    y=alt.Y('people_vaccinated_per_hundred:Q', title='% of population with at least one dose'),\n",
        "    color=alt.Color('Income group', scale=alt.Scale(domain=domain, range=range_)),\n",
        "    tooltip=[\"Entity\", \"Day\",alt.Tooltip(\"people_vaccinated_per_hundred\",title='% with at least one dose'), alt.Tooltip(\"share_of_world_population\",title='% share of world population'), \"Income group\"]\n",
        ").properties(\n",
        "    width=800,\n",
        "    height=500\n",
        ").interactive()\n",
        "vax_total.save('vax-total.html')"
      ],
      "execution_count": null,
      "outputs": []
    },
    {
      "cell_type": "markdown",
      "metadata": {
        "id": "UiPPDByte1w7"
      },
      "source": [
        "### GISAID x WB chart"
      ]
    },
    {
      "cell_type": "code",
      "metadata": {
        "id": "ndmHpzTPfAlI"
      },
      "source": [
        "gisaid_wb_df"
      ],
      "execution_count": null,
      "outputs": []
    },
    {
      "cell_type": "code",
      "metadata": {
        "id": "3ne7-U2Xe9sN"
      },
      "source": [
        "gisaid_wb_df.columns"
      ],
      "execution_count": null,
      "outputs": []
    },
    {
      "cell_type": "code",
      "metadata": {
        "id": "Mrn1WD71gFxW"
      },
      "source": [
        "gisaid_wb_df = gisaid_wb_df.sort_values(by='% of cases sequenced and shared', ascending=False)"
      ],
      "execution_count": null,
      "outputs": []
    },
    {
      "cell_type": "markdown",
      "metadata": {
        "id": "hGqSZ7Vba5VT"
      },
      "source": [
        "#### sequencing capacity by number of cases"
      ]
    },
    {
      "cell_type": "code",
      "metadata": {
        "id": "xDFRvtE_e1w8"
      },
      "source": [
        "# to dictate bar widths\n",
        "gisaid_wb_df['x1'] = gisaid_wb_df['Reported COVID-19 cases'].cumsum()\n",
        "gisaid_wb_df['x0'] = gisaid_wb_df['x1'].shift(fill_value=0)"
      ],
      "execution_count": null,
      "outputs": []
    },
    {
      "cell_type": "code",
      "metadata": {
        "id": "G6HVJeGHe1w8"
      },
      "source": [
        "gisaid_wb_df[['Income group']] = gisaid_wb_df[['Income group']].fillna(value='No income data')"
      ],
      "execution_count": null,
      "outputs": []
    },
    {
      "cell_type": "code",
      "metadata": {
        "id": "yxFlCArSe1w8"
      },
      "source": [
        "gisaid_wb_df['Income group'].unique()"
      ],
      "execution_count": null,
      "outputs": []
    },
    {
      "cell_type": "code",
      "metadata": {
        "id": "XzBhYi3pe1w9"
      },
      "source": [
        "domain = ['High income', 'Upper middle income', 'Lower middle income', 'Low income', 'No income data']\n",
        "range_ = ['#2ca02c','#1f77b4', '#ff7f0e', '#d62728', '#111111']"
      ],
      "execution_count": null,
      "outputs": []
    },
    {
      "cell_type": "code",
      "metadata": {
        "id": "FGOev1Die1w9"
      },
      "source": [
        "seq_total = alt.Chart(gisaid_wb_df).mark_rect().encode(\n",
        "    x=alt.X('x0:Q', title='COVID-19 Cases'),\n",
        "    x2='x1',\n",
        "    y=alt.Y('% of cases sequenced and shared:Q', title='% of cases sequenced and shared'),\n",
        "    color=alt.Color('Income group', scale=alt.Scale(domain=domain, range=range_)),\n",
        "    tooltip=[\"Country\", 'Reported COVID-19 cases', 'Sequences shared', \"% of cases sequenced and shared\",\"Income group\"]\n",
        ").properties(\n",
        "    width=800,\n",
        "    height=500\n",
        ").interactive()\n",
        "seq_total\n",
        "# seq_total.save('cases-total-sequenced.html')"
      ],
      "execution_count": null,
      "outputs": []
    },
    {
      "cell_type": "markdown",
      "metadata": {
        "id": "RXZrTUp-erJV"
      },
      "source": [
        "#### minimap test"
      ]
    },
    {
      "cell_type": "code",
      "metadata": {
        "id": "F4Dg3oFNe0Ai"
      },
      "source": [
        "# to dictate bar widths\n",
        "gisaid_wb_df['x1'] = gisaid_wb_df['Reported COVID-19 cases'].cumsum()\n",
        "gisaid_wb_df['x0'] = gisaid_wb_df['x1'].shift(fill_value=0)"
      ],
      "execution_count": null,
      "outputs": []
    },
    {
      "cell_type": "code",
      "metadata": {
        "id": "lrP7-t7Ue0Aj"
      },
      "source": [
        "gisaid_wb_df[['Income group']] = gisaid_wb_df[['Income group']].fillna(value='No income data')"
      ],
      "execution_count": null,
      "outputs": []
    },
    {
      "cell_type": "code",
      "metadata": {
        "id": "HgE-jlk6e0Aj"
      },
      "source": [
        "gisaid_wb_df['Income group'].unique()"
      ],
      "execution_count": null,
      "outputs": []
    },
    {
      "cell_type": "code",
      "metadata": {
        "id": "ttfHU5GDe0Ak"
      },
      "source": [
        "domain = ['High income', 'Upper middle income', 'Lower middle income', 'Low income', 'No income data']\n",
        "range_ = ['#2ca02c','#1f77b4', '#ff7f0e', '#d62728', '#111111']"
      ],
      "execution_count": null,
      "outputs": []
    },
    {
      "cell_type": "code",
      "metadata": {
        "id": "L5wRpNO6e0Ak"
      },
      "source": [
        "seq_total = alt.Chart(gisaid_wb_df).mark_rect().encode(\n",
        "    x=alt.X('x0:Q', title='COVID-19 Cases'),\n",
        "    x2='x1',\n",
        "    y=alt.Y('% of cases sequenced and shared:Q', title='% of cases sequenced and shared'),\n",
        "    color=alt.Color('Income group', scale=alt.Scale(domain=domain, range=range_)),\n",
        "    tooltip=[\"Country\", 'Reported COVID-19 cases', 'Sequences shared', \"% of cases sequenced and shared\",\"Income group\"]\n",
        ").properties(\n",
        "    width=800,\n",
        "    height=500\n",
        ").interactive()\n",
        "seq_total\n",
        "# seq_total.save('cases-total-sequenced.html')"
      ],
      "execution_count": null,
      "outputs": []
    },
    {
      "cell_type": "code",
      "metadata": {
        "id": "oXp_O9ILWZN7"
      },
      "source": [
        "# Create a selection that chooses the nearest point & selects based on x-value\n",
        "nearest = alt.selection(type='single', nearest=True, on='mouseover',\n",
        "                        fields=['x'], empty='none')\n",
        "\n",
        "# The basic line\n",
        "line = alt.Chart(source).mark_line(interpolate='basis').encode(\n",
        "    x='x:Q',\n",
        "    y='y:Q',\n",
        "    color='category:N'\n",
        ")\n",
        "\n",
        "seq_total = alt.Chart(gisaid_wb_df).mark_rect().encode(\n",
        "    x=alt.X('x0:Q', title='COVID-19 Cases'),\n",
        "    x2='x1',\n",
        "    y=alt.Y('% of cases sequenced and shared:Q', title='% of cases sequenced and shared'),\n",
        "    color=alt.Color('Income group', scale=alt.Scale(domain=domain, range=range_)),\n",
        "    tooltip=[\"Country\", 'Reported COVID-19 cases', 'Sequences shared', \"% of cases sequenced and shared\",\"Income group\"]\n",
        ")\n",
        "# Transparent selectors across the chart. This is what tells us\n",
        "# the x-value of the cursor\n",
        "selectors = alt.Chart(gisaid_wb_df).mark_rect().encode(\n",
        "    x=alt.X('x0:Q'),\n",
        "    opacity=alt.value(0),\n",
        ").add_selection(\n",
        "    nearest\n",
        ")\n",
        "\n",
        "# Draw points on the line, and highlight based on selection\n",
        "points = line.mark_rect().encode(\n",
        "    opacity=alt.condition(nearest, alt.value(1), alt.value(0))\n",
        ")\n",
        "\n",
        "# Draw text labels near the points, and highlight based on selection\n",
        "text = line.mark_text(align='left', dx=5, dy=-5).encode(\n",
        "    text=alt.condition(nearest, 'y:Q', alt.value(' '))\n",
        ")\n",
        "\n",
        "# Draw a rule at the location of the selection\n",
        "rules = alt.Chart(gisaid_wb_df).mark_rule(color='gray').encode(\n",
        "    x='x0:Q',\n",
        ").transform_filter(\n",
        "    nearest\n",
        ")\n",
        "\n",
        "# Put the five layers into a chart and bind the data\n",
        "alt.layer(\n",
        "    line, seq_total, selectors, points, rules, text\n",
        ").properties(\n",
        "    width=600, height=300\n",
        ")\n",
        "\n",
        "# seq_total\n",
        "# seq_total.save('cases-total-sequenced.html')"
      ],
      "execution_count": null,
      "outputs": []
    },
    {
      "cell_type": "code",
      "metadata": {
        "id": "Q483YF_GeqaS"
      },
      "source": [
        "zoom = alt.selection_interval(encodings=[\"x\", \"y\"])\n",
        "\n",
        "minimap = (\n",
        "    alt.Chart(gisaid_wb_df).mark_rect().add_selection(zoom).encode(\n",
        "        x=alt.X('x0:Q', title='COVID-19 Cases'),\n",
        "        x2='x1',\n",
        "        y=alt.Y('% of cases sequenced and shared:Q', title='% of cases sequenced and shared'),\n",
        "        color= alt.condition(zoom, 'Income group', alt.value(\"lightgray\")),\n",
        "        #alt.Color('Income group', scale=alt.Scale(domain=domain, range=range_), ,\n",
        "        tooltip=[\"Country\", 'Reported COVID-19 cases', 'Sequences shared', \"% of cases sequenced and shared\",\"Income group\"]\n",
        "    ).properties(\n",
        "        width=200,\n",
        "        height=200,\n",
        "        title=\"Minimap -- click and drag to zoom in the detail view\",\n",
        "    )\n",
        ")\n",
        "\n",
        "# Create a selection that chooses the nearest point & selects based on x-value\n",
        "nearest = alt.selection(type='single', nearest=True, on='mouseover',\n",
        "                        fields=['x'], empty='none')\n",
        "\n",
        "# Transparent selectors across the chart. This is what tells us\n",
        "# the x-value of the cursor\n",
        "selectors = detail.encode(\n",
        "    x='x0:Q',\n",
        "    opacity=alt.value(0),\n",
        ").add_selection(\n",
        "    nearest\n",
        ")\n",
        "\n",
        "\n",
        "detail = (\n",
        "    alt.Chart(gisaid_wb_df).mark_rect().encode(\n",
        "        x=alt.X('x0:Q', title='COVID-19 Cases', scale=alt.Scale(domain={\"selection\": zoom.name, \"encoding\": \"x\"})),\n",
        "        x2='x1',\n",
        "        y=alt.Y('% of cases sequenced and shared:Q', title='% of cases sequenced and shared', scale=alt.Scale(domain={\"selection\": zoom.name, \"encoding\": \"y\"})),\n",
        "        color=alt.Color('Income group', scale=alt.Scale(domain=domain, range=range_)),\n",
        "        tooltip=[\"Country\", 'Reported COVID-19 cases', 'Sequences shared', \"% of cases sequenced and shared\",\"Income group\"]\n",
        "    ).properties(width=600, height=400, title=\"sequencing capacity by number of cases -- detail view\")\n",
        ")\n",
        "\n",
        "# .mark_text(align='left', dx=5, dy=-5).encode(\n",
        "#     text=alt.condition(nearest, \"Country\", alt.value(' '))\n",
        "# )\n",
        "\n",
        "alt.layer(\n",
        "    detail, selectors, text\n",
        ").properties(\n",
        "    width=600, height=300\n",
        ")\n",
        "# detail.add_selection(nearest)\n",
        "\n",
        "detail | minimap"
      ],
      "execution_count": null,
      "outputs": []
    },
    {
      "cell_type": "code",
      "metadata": {
        "id": "AJrHmxUa6xts"
      },
      "source": [
        "zoom = alt.selection_interval(encodings=[\"x\", \"y\"])\n",
        "\n",
        "minimap = (\n",
        "    alt.Chart(gisaid_wb_df).mark_rect().add_selection(zoom).encode(\n",
        "        x=alt.X('x0:Q', title='COVID-19 Cases'),\n",
        "        x2='x1',\n",
        "        y=alt.Y('% of cases sequenced and shared:Q', title='% of cases sequenced and shared'),\n",
        "        color= alt.condition(zoom, 'Income group', alt.value(\"lightgray\")),\n",
        "        #alt.Color('Income group', scale=alt.Scale(domain=domain, range=range_), ,\n",
        "        tooltip=[\"Country\", 'Reported COVID-19 cases', 'Sequences shared', \"% of cases sequenced and shared\",\"Income group\"]\n",
        "    ).properties(\n",
        "        width=200,\n",
        "        height=200,\n",
        "        title=\"Minimap -- click and drag to zoom in the detail view\",\n",
        "    )\n",
        ")\n",
        "\n",
        "detail = (\n",
        "    alt.Chart(gisaid_wb_df).mark_rect().encode(\n",
        "        x=alt.X('x0:Q', title='COVID-19 Cases', scale=alt.Scale(domain={\"selection\": zoom.name, \"encoding\": \"x\"})),\n",
        "        x2='x1',\n",
        "        y=alt.Y('% of cases sequenced and shared:Q', title='% of cases sequenced and shared', scale=alt.Scale(domain={\"selection\": zoom.name, \"encoding\": \"y\"})),\n",
        "        color=alt.Color('Income group', scale=alt.Scale(domain=domain, range=range_)),\n",
        "        tooltip=[\"Country\", 'Reported COVID-19 cases', 'Sequences shared', \"% of cases sequenced and shared\",\"Income group\"]\n",
        "    ).properties(\n",
        "        width=800,\n",
        "        height=500,\n",
        "    ).interactive(bind_x=False)\n",
        "    .properties(width=600, height=400, title=\"sequencing capacity by number of cases -- detail view\")\n",
        ")\n",
        "\n",
        "detail | minimap"
      ],
      "execution_count": null,
      "outputs": []
    },
    {
      "cell_type": "code",
      "metadata": {
        "id": "Htda0zNcivA6"
      },
      "source": [
        "gisaid_wb_df[['Region']] = gisaid_wb_df[['Region']].fillna(value='No region data')"
      ],
      "execution_count": null,
      "outputs": []
    },
    {
      "cell_type": "markdown",
      "metadata": {
        "id": "x9Y_UHtObb2X"
      },
      "source": [
        "#### sequencing capacity by total cases\n"
      ]
    },
    {
      "cell_type": "code",
      "metadata": {
        "id": "NA9hJOMYbb2X"
      },
      "source": [
        "df = gisaid_wb_df.copy()"
      ],
      "execution_count": null,
      "outputs": []
    },
    {
      "cell_type": "code",
      "metadata": {
        "id": "PRT07pWobuNZ"
      },
      "source": [
        "df.columns"
      ],
      "execution_count": null,
      "outputs": []
    },
    {
      "cell_type": "code",
      "metadata": {
        "id": "PlRpUnIMbh4q"
      },
      "source": [
        "df = df.rename({'Sequences shared':'sequences_shared','Reported COVID-19 cases':'reported_covid_cases'}, axis=1)"
      ],
      "execution_count": null,
      "outputs": []
    },
    {
      "cell_type": "code",
      "metadata": {
        "id": "BzM-33lXbb2Y"
      },
      "source": [
        "df['Region'].unique()"
      ],
      "execution_count": null,
      "outputs": []
    },
    {
      "cell_type": "code",
      "metadata": {
        "id": "x_IQKu8Vbb2Z"
      },
      "source": [
        "# faceting manually because otherwise each x axis will be total pop (100%)\n",
        "\n",
        "charts = []\n",
        "for c in df['Region'].unique():\n",
        "  c_df = df[df['Region'] == c]\n",
        "  # import pdb; pdb.set_trace()\n",
        "  # scales = c + '_scale'\n",
        "  # scales = alt.selection_interval(bind='scales')\n",
        "  c = alt.Chart(c_df).transform_window(\n",
        "      x1='sum(reported_covid_cases)',\n",
        "      sort=[alt.SortField('% of cases sequenced and shared',order='descending')]\n",
        "  ).transform_calculate(\n",
        "      x0='datum.x1 - datum.reported_covid_cases'\n",
        "  ).mark_rect().encode(\n",
        "      x=alt.X('x0:Q', title='Total COVID Cases'), #,scale=alt.Scale(domain=(0,60))),\n",
        "      x2='x1',\n",
        "      y=alt.Y('% of cases sequenced and shared:Q', title='% of cases sequenced and shared',scale=alt.Scale(domain=(0,100))),\n",
        "      color=alt.Color('Income group', scale=alt.Scale(domain=domain, range=range_)),\n",
        "    tooltip=[\"Country\", 'reported_covid_cases', 'sequences_shared', \"% of cases sequenced and shared\",\"Income group\"]\n",
        "  ).properties(\n",
        "      title=c,\n",
        "      width=400,\n",
        "      height=250\n",
        "  ).interactive()\n",
        "  # .add_selection(\n",
        "  #   scales\n",
        "  # )\n",
        "  # c.display()\n",
        "  charts.append(c)\n",
        "alt.concat(*charts)"
      ],
      "execution_count": null,
      "outputs": []
    },
    {
      "cell_type": "code",
      "metadata": {
        "id": "2Xjo8fPkbb2Z"
      },
      "source": [
        "first_row = alt.concat(*charts[0:4])\n",
        "second_row = alt.concat(*charts[4:])\n",
        "chart = alt.vconcat(first_row,second_row)\n",
        "chart.save('cases-sequenced-by-region.html')"
      ],
      "execution_count": null,
      "outputs": []
    },
    {
      "cell_type": "markdown",
      "metadata": {
        "id": "lZZIj1pebBqs"
      },
      "source": [
        "#### sequencing capacity by total sequences\n"
      ]
    },
    {
      "cell_type": "code",
      "metadata": {
        "id": "x0mDsSnGi6Af"
      },
      "source": [
        "df = gisaid_wb_df.copy()\n",
        "df = df.rename({'Sequences shared':'sequences_shared'}, axis=1)"
      ],
      "execution_count": null,
      "outputs": []
    },
    {
      "cell_type": "code",
      "metadata": {
        "id": "4amNcTvkjZZ9"
      },
      "source": [
        "df['Region'].unique()"
      ],
      "execution_count": null,
      "outputs": []
    },
    {
      "cell_type": "code",
      "metadata": {
        "id": "HT8OcTTOhz8C"
      },
      "source": [
        "# faceting manually because otherwise each x axis will be total pop (100%)\n",
        "\n",
        "charts = []\n",
        "for c in df['Region'].unique():\n",
        "  c_df = df[df['Region'] == c]\n",
        "  # import pdb; pdb.set_trace()\n",
        "  # scales = c + '_scale'\n",
        "  # scales = alt.selection_interval(bind='scales')\n",
        "  c = alt.Chart(c_df).transform_window(\n",
        "      x1='sum(sequences_shared)',\n",
        "      sort=[alt.SortField('% of cases sequenced and shared',order='descending')]\n",
        "  ).transform_calculate(\n",
        "      x0='datum.x1 - datum.sequences_shared'\n",
        "  ).mark_rect().encode(\n",
        "      x=alt.X('x0:Q', title='share of cases sequenced and shared'), #,scale=alt.Scale(domain=(0,60))),\n",
        "      x2='x1',\n",
        "      y=alt.Y('% of cases sequenced and shared:Q', title='% of cases sequenced and shared',scale=alt.Scale(domain=(0,100))),\n",
        "      color=alt.Color('Income group', scale=alt.Scale(domain=domain, range=range_)),\n",
        "    tooltip=[\"Country\", 'sequences_shared', 'Reported COVID-19 cases', \"% of cases sequenced and shared\",\"Income group\"]\n",
        "  ).properties(\n",
        "      title=c,\n",
        "      width=400,\n",
        "      height=250\n",
        "  ).interactive()\n",
        "  # .add_selection(\n",
        "  #   scales\n",
        "  # )\n",
        "  # c.display()\n",
        "  charts.append(c)\n",
        "alt.concat(*charts)"
      ],
      "execution_count": null,
      "outputs": []
    },
    {
      "cell_type": "code",
      "metadata": {
        "id": "oyjFvue9kxXP"
      },
      "source": [
        "first_row = alt.concat(*charts[0:4])\n",
        "second_row = alt.concat(*charts[4:])\n",
        "chart = alt.vconcat(first_row,second_row)\n",
        "chart.save('sequencing_by_region.html')"
      ],
      "execution_count": null,
      "outputs": []
    },
    {
      "cell_type": "markdown",
      "metadata": {
        "id": "IGhv22jPbVIp"
      },
      "source": [
        "#### random GISAID x WB viz"
      ]
    },
    {
      "cell_type": "code",
      "metadata": {
        "id": "jzZEdRU4ngTW"
      },
      "source": [
        "# alt.Chart(gisaid_wb_df).mark_bar().encode(\n",
        "#     x=\"Country\",\n",
        "#     y='% of cases sequenced and shared'\n",
        "# )\n",
        "alt.Chart(gisaid_wb_df).mark_circle(size=60).encode(\n",
        "    x='Reported COVID-19 cases',\n",
        "    y='% of cases sequenced and shared',\n",
        "    color='Region',\n",
        "    tooltip=[\"Country\", 'Sequences shared', 'Reported COVID-19 cases', \"% of cases sequenced and shared\",\"Income group\"]\n",
        ").interactive()"
      ],
      "execution_count": null,
      "outputs": []
    },
    {
      "cell_type": "markdown",
      "metadata": {
        "id": "A0P9LjFhyL31"
      },
      "source": [
        "## OWID x WB facets"
      ]
    },
    {
      "cell_type": "code",
      "metadata": {
        "id": "Cv68i_zQwlsa"
      },
      "source": [
        "df = df.rename({'Share of world population':'share_of_world_population'}, axis=1)"
      ],
      "execution_count": null,
      "outputs": []
    },
    {
      "cell_type": "code",
      "metadata": {
        "id": "7mFaHs2Qyj2n"
      },
      "source": [
        "# faceting manually because otherwise each x axis will be total pop (100%)\n",
        "\n",
        "charts = []\n",
        "for c in df['Continent'].unique():\n",
        "  c_df = df[df['Continent'] == c]\n",
        "  # scales = c + '_scale'\n",
        "  # scales = alt.selection_interval(bind='scales')\n",
        "  c = alt.Chart(c_df).transform_window(\n",
        "      x1='sum(share_of_world_population)',\n",
        "      sort=[alt.SortField('people_vaccinated_per_hundred',order='descending')]\n",
        "  ).transform_calculate(\n",
        "      x0='datum.x1 - datum.share_of_world_population'\n",
        "  ).mark_rect().encode(\n",
        "      x=alt.X('x0:Q', title='% share of world population',scale=alt.Scale(domain=(0,60))),\n",
        "      x2='x1',\n",
        "      y=alt.Y('people_vaccinated_per_hundred:Q', title='% of population with at least one dose',scale=alt.Scale(domain=(0,100))),\n",
        "      color=alt.Color('Income group', scale=alt.Scale(domain=domain, range=range_)),\n",
        "      tooltip=[\"Entity\", alt.Tooltip(\"people_vaccinated_per_hundred\",title='% with at least one dose'), alt.Tooltip(\"share_of_world_population\",title='% share of world population'), \"Income group\"]\n",
        "  ).properties(\n",
        "      title=c,\n",
        "      width=400,\n",
        "      height=250\n",
        "  ).interactive()\n",
        "  # .add_selection(\n",
        "  #   scales\n",
        "  # )\n",
        "  # c.display()\n",
        "  charts.append(c)\n",
        "alt.concat(*charts)"
      ],
      "execution_count": null,
      "outputs": []
    },
    {
      "cell_type": "code",
      "metadata": {
        "id": "GX1Ck-_73mxd"
      },
      "source": [
        "charts[3:]"
      ],
      "execution_count": null,
      "outputs": []
    },
    {
      "cell_type": "code",
      "metadata": {
        "id": "iA64SKzG3k7u"
      },
      "source": [
        "first_row = alt.concat(*charts[0:3])\n",
        "second_row = alt.concat(*charts[3:])\n",
        "chart = alt.vconcat(first_row,second_row)"
      ],
      "execution_count": null,
      "outputs": []
    },
    {
      "cell_type": "code",
      "metadata": {
        "id": "CQQQsQ8Pkkp4"
      },
      "source": [
        "chart.save('chart.html')"
      ],
      "execution_count": null,
      "outputs": []
    },
    {
      "cell_type": "markdown",
      "metadata": {
        "id": "qxX8_oVJ6FDw"
      },
      "source": [
        "### by income status"
      ]
    },
    {
      "cell_type": "code",
      "metadata": {
        "id": "U82yUPx36GXu"
      },
      "source": [
        "df['Income group'].unique()"
      ],
      "execution_count": null,
      "outputs": []
    },
    {
      "cell_type": "code",
      "metadata": {
        "id": "wTU7d5Bb59Dk"
      },
      "source": [
        "continent_domain = ['Europe', 'Asia', 'North America', 'South America', 'Africa','Oceania']\n",
        "continent_range_ = ['#828CA1','#72A9AB', '#EB8582', '#B56A71', '#B479AE','#A8633C']"
      ],
      "execution_count": null,
      "outputs": []
    },
    {
      "cell_type": "code",
      "metadata": {
        "id": "ORxSF9i35Q0Y"
      },
      "source": [
        "charts = []\n",
        "for c in ['High income', 'Upper middle income', 'Lower middle income', 'Low income', 'No income data']:\n",
        "  c_df = df[df['Income group'] == c]\n",
        "  c = alt.Chart(c_df).transform_window(\n",
        "      x1='sum(share_of_world_population)',\n",
        "      sort=[alt.SortField('people_vaccinated_per_hundred',order='descending')]\n",
        "  ).transform_calculate(\n",
        "      x0='datum.x1 - datum.share_of_world_population'\n",
        "  ).mark_rect().encode(\n",
        "      x=alt.X('x0:Q', title='% share of world population'),\n",
        "      x2='x1',\n",
        "      y=alt.Y('people_vaccinated_per_hundred:Q', title='% of population with at least one dose',scale=alt.Scale(domain=(0,100))),\n",
        "      color=alt.Color('Continent', scale=alt.Scale(domain=continent_domain, range=continent_range_)),\n",
        "      tooltip=[\"Entity\", \"people_vaccinated_per_hundred\", \"Income group\"]\n",
        "  ).properties(\n",
        "      title=c,\n",
        "      width=400,\n",
        "      height=250\n",
        "  )\n",
        "  # c.display()\n",
        "  charts.append(c)\n",
        "alt.concat(*charts)"
      ],
      "execution_count": null,
      "outputs": []
    },
    {
      "cell_type": "code",
      "metadata": {
        "id": "83ve2FFz7wNl"
      },
      "source": [
        "first_row = alt.concat(*charts[0:3])\n",
        "second_row = alt.concat(*charts[3:])\n",
        "alt.vconcat(first_row,second_row)"
      ],
      "execution_count": null,
      "outputs": []
    },
    {
      "cell_type": "code",
      "metadata": {
        "id": "2Xl9DxQxs7Ax"
      },
      "source": [
        "alt.Chart(df).transform_window(\n",
        "    x1='sum(share_of_world_population)',\n",
        "    sort=[alt.SortField('people_vaccinated_per_hundred')]\n",
        ").transform_calculate(\n",
        "    x0='datum.x1 - datum.share_of_world_population'\n",
        ").mark_rect().encode(\n",
        "    x=alt.X('x0:Q', title='Share of world population'),\n",
        "    x2='x1',\n",
        "    y=alt.Y('people_vaccinated_per_hundred:Q', title='% of population with at least one dose'),\n",
        "    color='Income group:N',\n",
        "    tooltip=[\"Entity\", \"people_vaccinated_per_hundred\", \"Income group\"]\n",
        ")\n",
        "# .facet(\n",
        "#     facet='Continent:N'\n",
        "# )"
      ],
      "execution_count": null,
      "outputs": []
    },
    {
      "cell_type": "code",
      "metadata": {
        "id": "IkxZOyUW95aq"
      },
      "source": [
        "alt.Chart(df).mark_rect().encode(\n",
        "    x=alt.X('x0:Q', title='Share of World Population'),\n",
        "    x2='x1',\n",
        "    y=alt.Y('people_vaccinated_per_hundred:Q', title='People Vaccinated Per 100'),\n",
        "    color='Income group:N',\n",
        "    tooltip=[\"Entity\", \"people_vaccinated_per_hundred\", \"Income group\"]\n",
        ")"
      ],
      "execution_count": null,
      "outputs": []
    }
  ]
}