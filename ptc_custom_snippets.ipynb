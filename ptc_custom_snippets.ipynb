{
  "nbformat": 4,
  "nbformat_minor": 0,
  "metadata": {
    "colab": {
      "name": "ptc_custom_snippets.ipynb",
      "provenance": [],
      "collapsed_sections": [],
      "toc_visible": true,
      "authorship_tag": "ABX9TyMnTNzNu6A+qGBpa6KpMPCO",
      "include_colab_link": true
    },
    "kernelspec": {
      "name": "python3",
      "display_name": "Python 3"
    },
    "language_info": {
      "name": "python"
    }
  },
  "cells": [
    {
      "cell_type": "markdown",
      "metadata": {
        "id": "view-in-github",
        "colab_type": "text"
      },
      "source": [
        "<a href=\"https://colab.research.google.com/github/pandemic-tracking/viz-gen/blob/main/notebooks/ptc_custom_snippets.ipynb\" target=\"_parent\"><img src=\"https://colab.research.google.com/assets/colab-badge.svg\" alt=\"Open In Colab\"/></a>"
      ]
    },
    {
      "cell_type": "markdown",
      "metadata": {
        "id": "ObW4YRyhfXjp"
      },
      "source": [
        "#_Import & Customize Altair Theme"
      ]
    },
    {
      "cell_type": "code",
      "metadata": {
        "colab": {
          "base_uri": "https://localhost:8080/"
        },
        "id": "WOP9Ud39_Loy",
        "outputId": "e0594b6c-5cff-4575-c2be-63f5ce196408"
      },
      "source": [
        "import pandas as pd\n",
        "import numpy as np\n",
        "\n",
        "from datetime import datetime, timedelta\n",
        "import pytz\n",
        "\n",
        "import altair as alt\n",
        "from altair import datum\n",
        "alt.data_transformers.disable_max_rows()\n",
        "\n",
        "from pathlib import Path\n",
        "\n",
        "pd.set_option(\"display.precision\", 4)\n",
        "\n",
        "now_est = datetime.now().astimezone(pytz.timezone(\"US/Eastern\"))\n",
        "\n",
        "now_est_time = now_est.strftime(\"%Y-%m-%d, %H:%M:%S ET\")\n",
        "now_est_date = now_est.strftime(\"%Y-%m-%d\")\n",
        "now_est_timestamp = now_est.strftime(\"%Y%m%d_%H%M%S\")\n",
        "now_utc_timestamp = datetime.utcnow().strftime(\"%Y%m%d_%H%M%S\")\n",
        "print(now_est_time, now_est_date, now_est_timestamp, now_utc_timestamp)"
      ],
      "execution_count": null,
      "outputs": [
        {
          "output_type": "stream",
          "name": "stdout",
          "text": [
            "2021-09-29, 12:26:50 ET 2021-09-29 20210929_122650 20210929_162650\n"
          ]
        }
      ]
    },
    {
      "cell_type": "code",
      "metadata": {
        "id": "UbTZZ30aN99b"
      },
      "source": [
        "# adapting from https://towardsdatascience.com/consistently-beautiful-visualizations-with-altair-themes-c7f9f889602\n",
        "\n",
        "def ptc_theme():\n",
        "    axisColor = \"#808080\"\n",
        "    gridColor = \"#DEDDDD\"\n",
        "    markColor = \"#000000\"\n",
        "    font = 'Arial'\n",
        "    labelFont = 'Arial'\n",
        "    # Colors\n",
        "    # main_palette = [\"#1696d2\", \n",
        "    #                 \"#d2d2d2\",\n",
        "    #                 \"#000000\", \n",
        "    #                 \"#fdbf11\", \n",
        "    #                 \"#ec008b\", \n",
        "    #                 \"#55b748\", \n",
        "    #                 \"#5c5859\", \n",
        "    #                 \"#db2b27\", \n",
        "    #                ]\n",
        "    # sequential_palette = [\"#cfe8f3\", \n",
        "    #                       \"#a2d4ec\", \n",
        "    #                       \"#73bfe2\", \n",
        "    #                       \"#46abdb\", \n",
        "    #                       \"#1696d2\", \n",
        "    #                       \"#12719e\", \n",
        "    #                      ]\n",
        "    return {\n",
        "          \"config\": {\n",
        "              \"title\": {\n",
        "                  \"fontSize\": 16,\n",
        "                  \"font\": font,\n",
        "                  \"anchor\": \"start\", # equivalent of left-aligned.\n",
        "                  \"fontColor\": \"#000000\"\n",
        "              },\n",
        "              \"text\": {\n",
        "                  \"font\": font,\n",
        "                  \"labelFont\": labelFont,\n",
        "              },\n",
        "              \"header\": {\n",
        "                  \"font\": font,\n",
        "                  \"labelFont\": labelFont,\n",
        "                  \"titleFont\": font,\n",
        "              },\n",
        "              \"axisX\": {\n",
        "                  \"domain\": False,\n",
        "                  \"domainColor\": axisColor,\n",
        "                  \"labelColor\": axisColor,\n",
        "                  \"domainWidth\": 1,\n",
        "                  \"grid\": False,\n",
        "                  \"labelFont\": labelFont,\n",
        "                  \"labelFontSize\": 12,\n",
        "                  \"labelAngle\": 0, \n",
        "                  \"tickColor\": axisColor,\n",
        "                  \"tickSize\": 5, # default, including it just to show you can change it\n",
        "                  \"titleFont\": font,\n",
        "                  \"titleFontSize\": 12,\n",
        "                  \"titlePadding\": 10, # guessing, not specified in styleguide\n",
        "                  \"title\": \"X Axis Title (units)\", \n",
        "              },\n",
        "              \"axisY\": {\n",
        "                  \"domain\": False,\n",
        "                  \"grid\": True,\n",
        "                  \"gridColor\": gridColor,\n",
        "                  \"gridWidth\": 1,\n",
        "                  \"labelFont\": labelFont,\n",
        "                  \"labelColor\": axisColor,\n",
        "                  \"labelFontSize\": 12,\n",
        "                  \"labelAngle\": 0,\n",
        "                  \"labelAnchor\": \"end\",\n",
        "                  \"labelAlign\": \"right\",  \n",
        "                  \"ticks\": False, # even if you don't have a \"domain\" you need to turn these off.\n",
        "                  \"titleFont\": font,\n",
        "                  \"titleFontSize\": 12,\n",
        "                  \"titlePadding\": 10, # guessing, not specified in styleguide\n",
        "                  \"title\": \"Y Axis Title (units)\", \n",
        "                  # titles are by default vertical left of axis so we need to hack this \n",
        "                  \"titleAngle\": 0, # horizontal\n",
        "                  \"titleY\": -10, # move it up\n",
        "                  \"titleX\": 18, # move it to the right so it aligns with the labels \n",
        "              },\n",
        "            #   \"range\": {\n",
        "            #       \"category\": main_palette,\n",
        "            #       \"diverging\": sequential_palette,\n",
        "            #   },\n",
        "              \"legend\": {\n",
        "                  \"labelFont\": labelFont,\n",
        "                  \"labelFontSize\": 12,\n",
        "                  \"symbolType\": \"circle\", # just 'cause\n",
        "                  \"symbolSize\": 100, # default\n",
        "                  \"titleFont\": font,\n",
        "                  \"titleFontSize\": 12,\n",
        "                  \"title\": \"\", # set it to no-title by default\n",
        "                  \"orient\": \"right\", # so it's right next to the y-axis\n",
        "                  \"offset\": 0, # literally right next to the y-axis.\n",
        "              },\n",
        "              \"view\": {\n",
        "                  \"stroke\": \"transparent\", # altair uses gridlines to box the area where the data is visualized. This takes that off.\n",
        "              },\n",
        "        }\n",
        "    }\n",
        "\n",
        "alt.themes.register(\"my_custom_theme\", ptc_theme)\n",
        "alt.themes.enable(\"my_custom_theme\")"
      ],
      "execution_count": null,
      "outputs": []
    },
    {
      "cell_type": "markdown",
      "metadata": {
        "id": "vMKrXCxthBA9"
      },
      "source": [
        "#_Add Fed Data Combine-o-matic Script"
      ]
    },
    {
      "cell_type": "code",
      "metadata": {
        "id": "4QNvJp8fhE4H"
      },
      "source": [
        "# adapted from https://github.com/COVID19Tracking/covid-tracking-data/tree/master/data-collection-scripts/federal-data-combiner\n",
        "\n",
        "from bs4 import BeautifulSoup\n",
        "import requests\n",
        "import re\n",
        "import pandas as pd\n",
        "import datetime\n",
        "import sys\n",
        "import pytz\n",
        "\n",
        "\"\"\"Federal data combiner tool. Downloads federal testing, hospitalization, and case/death data and combines it\n",
        "into unified state-level output. \n",
        "\n",
        "This script outputs a csv file named federal-covid-data-DATE.csv and is intended to be run in the Google Colab \n",
        "environment, but passing the 'STDOUT' argument will output to STDOUT instead for command-line use.\n",
        "\n",
        "Note: We at The COVID Tracking Project will not be maintaining this script in the event that the federal data pages \n",
        "change in impactful ways. This is simply a set of instructions for interested data users.\n",
        "\n",
        "Changelog: \n",
        "2021-04-28: Added new age-disaggregated hospital admission data columns\n",
        "2021-03-15: Initial release\n",
        "\"\"\"\n",
        "\n",
        "HHS_TESTING_URL = \"https://www.healthdata.gov/api/views/j8mb-icvb/rows.csv?accessType=DOWNLOAD\"\n",
        "HHS_HOSPITALIZATION_URL = \"https://www.healthdata.gov/api/views/g62h-syeh/rows.csv?accessType=DOWNLOAD\"\n",
        "HHS_HOSPITALIZATION_REVISIONS_URL = \"https://www.healthdata.gov/api/views/4cnb-m4rz/rows.csv?accessType=DOWNLOAD\"\n",
        "CDC_CASE_DEATH_URL = \"https://data.cdc.gov/api/views/9mfq-cb36/rows.csv?accessType=DOWNLOAD\"\n",
        "\n",
        "COMBINE_NY_NYC = True\n",
        "\n",
        "\n",
        "def get_hospitalization_csv_urls():\n",
        "    \"\"\"get a set of recent revisions for the HHS hospitalizations-by-state dataset\"\"\"\n",
        "    revisions = pd.read_csv(HHS_HOSPITALIZATION_REVISIONS_URL)\n",
        "\n",
        "    revisions['Update Date'] = pd.to_datetime(revisions['Update Date'], format='%m/%d/%Y %H:%M:%S %p')\n",
        "    return revisions.sort_values(by=['Update Date']).tail(n=8)['Archive Link'].tolist()\n",
        "\n",
        "\n",
        "def get_hospitalization_dailies():\n",
        "    \"\"\"build a dataframe containing the combination of several days of recent HHS hospitalization daily data\"\"\"\n",
        "    csv_urls = get_hospitalization_csv_urls()\n",
        "    data_frames = []\n",
        "\n",
        "    for url in csv_urls:\n",
        "        data = pd.read_csv(url, parse_dates=['reporting_cutoff_start'])\n",
        "        # set each daily file's date to the reporting_cutoff_start date + 4 days\n",
        "        data['date'] = data['reporting_cutoff_start'] + pd.DateOffset(days=4)\n",
        "        data['date'] = data['date'].dt.date\n",
        "        data_frames.append(data)\n",
        "    hospitalization_dailies = pd.concat(data_frames)\n",
        "    return hospitalization_dailies\n",
        "\n",
        "\n",
        "def parse_dates(date_col):\n",
        "  if date_col.str.contains(\":\").any():\n",
        "    return pd.to_datetime(date_col, format='%m/%d/%Y %H:%M:%S %p').dt.date\n",
        "  else: \n",
        "    return pd.to_datetime(date_col, format='%Y-%m-%d').dt.date\n",
        "  \n",
        "\n",
        "# download and parse all three data files\n",
        "[testing, hospitalization, case_death] = [pd.read_csv(url) for url in\n",
        "                                          [HHS_TESTING_URL, HHS_HOSPITALIZATION_URL, CDC_CASE_DEATH_URL]]\n",
        "\n",
        "# testing data comes out with one row per state/date/outcome combination.\n",
        "# unpack that and squash it into one row per state/date only\n",
        "testing = testing.set_index(['state', 'date', 'overall_outcome']).unstack(level=-1)\n",
        "testing = testing[['new_results_reported', 'total_results_reported']]\n",
        "testing.columns = ['_'.join(tup).rstrip('_') for tup in testing.columns.values]\n",
        "testing = testing.reset_index()\n",
        "# allow for a choice of inconsistent datetime formats\n",
        "testing['date'] = parse_dates(testing['date'])\n",
        "\n",
        "# the HHS hospitalization time series is only updated weekly. To compensate, we download the latest daily data\n",
        "# and merge it on top of the weekly data, taking only the most recent values for a given state/date\n",
        "hospitalization['date'] = parse_dates(hospitalization['date'])\n",
        "hospitalization_dailies = get_hospitalization_dailies()\n",
        "# we want to use the HHS weekly time series up until its last day, then fill in the rest of the data from the daily\n",
        "# files. we overwrite the last day of the time series with the dailies because the dailies come out after the weekly\n",
        "hospitalization_dailies = hospitalization_dailies[hospitalization_dailies['date'] >= hospitalization['date'].max()]\n",
        "hospitalization.set_index(['state', 'date'])\n",
        "# don't break everything with missing values in geocoded_state\n",
        "hospitalization_dailies['geocoded_state'] = hospitalization_dailies['geocoded_state'].fillna(\"\")\n",
        "hospitalization['geocoded_state'] = hospitalization['geocoded_state'].fillna(\"\")\n",
        "# and merge the weekly and dailies\n",
        "hospitalization = hospitalization.merge(hospitalization_dailies, how='outer')\n",
        "# the keep='last' here keeps just the daily data when both duplicate weekly and daily data exist\n",
        "hospitalization = hospitalization.drop_duplicates(subset=['date', 'state'], keep='last', ignore_index=True)\n",
        "# select a subset of columns to include in the output\n",
        "hospitalization = hospitalization[[\n",
        "    'state',\n",
        "    'date', \n",
        "    'inpatient_beds_used_covid', \n",
        "    'total_adult_patients_hospitalized_confirmed_and_suspected_covid',\n",
        "    'total_adult_patients_hospitalized_confirmed_covid',\n",
        "    'total_pediatric_patients_hospitalized_confirmed_and_suspected_covid',\n",
        "    'total_pediatric_patients_hospitalized_confirmed_covid',\n",
        "    'staffed_icu_adult_patients_confirmed_and_suspected_covid',\n",
        "    'staffed_icu_adult_patients_confirmed_covid',\n",
        "    'previous_day_admission_adult_covid_confirmed', \n",
        "    'previous_day_admission_adult_covid_suspected',\n",
        "    'previous_day_admission_pediatric_covid_confirmed',\n",
        "    'previous_day_admission_pediatric_covid_suspected',\n",
        "    'inpatient_beds_used_covid_coverage',\n",
        "    'total_adult_patients_hospitalized_confirmed_and_suspected_covid_coverage',\n",
        "    'staffed_icu_adult_patients_confirmed_and_suspected_covid_coverage',\n",
        "    'previous_day_admission_adult_covid_confirmed_coverage',\n",
        "    'previous_day_admission_adult_covid_confirmed_18-19',\n",
        "    'previous_day_admission_adult_covid_confirmed_20-29',\n",
        "    'previous_day_admission_adult_covid_confirmed_30-39',\n",
        "    'previous_day_admission_adult_covid_confirmed_40-49',\n",
        "    'previous_day_admission_adult_covid_confirmed_50-59',\n",
        "    'previous_day_admission_adult_covid_confirmed_60-69',\n",
        "    'previous_day_admission_adult_covid_confirmed_70-79',\n",
        "    'previous_day_admission_adult_covid_confirmed_80+',\n",
        "    'previous_day_admission_adult_covid_confirmed_unknown',\n",
        "    'staffed_adult_icu_bed_occupancy',\n",
        "    'total_staffed_adult_icu_beds',\n",
        "    'deaths_covid',\n",
        "    ]]\n",
        "# HHS hospitalization data gets better on and after 7/15/20\n",
        "hospitalization = hospitalization[hospitalization['date'] >= datetime.date(year=2020,month=7,day=15)]\n",
        "\n",
        "# case/death data: pick a subset of columns and prepare to merge\n",
        "case_death = case_death[\n",
        "    ['submission_date', 'state', 'tot_cases', 'conf_cases', 'prob_cases', 'new_case', 'pnew_case', 'tot_death',\n",
        "     'conf_death', 'prob_death', 'new_death', 'pnew_death']]\n",
        "case_death = case_death.rename(columns={'submission_date': 'date'})\n",
        "# sum NY and NYC case/death data into one row\n",
        "if COMBINE_NY_NYC:\n",
        "  # set all NYC rows to NY, group and sum the NY rows, and combine with the rest of the rows\n",
        "  case_death.loc[case_death['state'] == 'NYC', ['state']] = 'NY'\n",
        "  NY_combined = case_death[case_death['state'] == 'NY'].groupby([\"date\", \"state\"]).sum()\n",
        "  case_death = NY_combined.reset_index().append(case_death[case_death['state'] != 'NY'])\n",
        "\n",
        "# merge all the dataframes together into one big combination\n",
        "combined = pd.merge(left=testing, right=hospitalization, on=['state', 'date'], how='outer')\n",
        "\n",
        "case_death['date'] = pd.to_datetime(case_death['date'], format='%m/%d/%Y')\n",
        "combined['date'] = pd.to_datetime(combined['date'], format='%Y-%m-%d')\n",
        "\n",
        "combined = combined.merge(case_death, on=['state', 'date'], how='outer')\n",
        "\n",
        "combined.sort_values(by=['date', 'state'], inplace=True, ignore_index=True)"
      ],
      "execution_count": null,
      "outputs": []
    },
    {
      "cell_type": "markdown",
      "metadata": {
        "id": "NTdPA6v_6L-y"
      },
      "source": [
        "#_Get Community Profile Report"
      ]
    },
    {
      "cell_type": "code",
      "metadata": {
        "id": "rJ252pNp2ycA"
      },
      "source": [
        "from bs4 import BeautifulSoup\n",
        "import requests\n",
        "import re\n",
        "import pandas as pd\n",
        "\n",
        "req = requests.get('https://www.healthdata.gov/Health/COVID-19-Community-Profile-Report/gqxm-d9w9')\n",
        "soup = BeautifulSoup(req.content, 'html.parser')\n",
        "script = soup.find_all('script', type='text/javascript')[6]"
      ],
      "execution_count": null,
      "outputs": []
    },
    {
      "cell_type": "code",
      "metadata": {
        "id": "eL_HNKjo4oJ4"
      },
      "source": [
        "re_results = re.findall(r'\"name\":\"Community_Profile_Report_\\d*_Public.xlsx\",\"href\":\"\\/api\\/views\\/gqxm-d9w9\\/files\\/\\w*-\\w*-\\w*-\\w*-\\w*.*?download=true', str(script))"
      ],
      "execution_count": null,
      "outputs": []
    },
    {
      "cell_type": "code",
      "metadata": {
        "id": "nUxyKPay-p7n"
      },
      "source": [
        "cpr_url_list = ['https://www.healthdata.gov'+s.split('\"href\":\"')[-1]\\\n",
        "                +'&filename=CPR_'+s.split('Community_Profile_Report_')[-1][:8]\\\n",
        "                +'.xlsx' for s in sorted(re_results, reverse=True)]\n",
        "cpr_url_list[:10]"
      ],
      "execution_count": null,
      "outputs": []
    },
    {
      "cell_type": "code",
      "metadata": {
        "id": "07qPNhFm6Oyl"
      },
      "source": [
        "cpr_url = cpr_url_list[0]\n",
        "cpr_county_df = pd.read_excel(cpr_url, sheet_name='Counties', header=1)\n",
        "cpr_county_df['fips_code'] = cpr_county_df['FIPS code'].astype(str).apply(lambda x: x.zfill(5))\n",
        "\n",
        "cpr_state_df = pd.read_excel(cpr_url, sheet_name='States', header=1)"
      ],
      "execution_count": null,
      "outputs": []
    },
    {
      "cell_type": "markdown",
      "metadata": {
        "id": "rV_Y2oAHX13x"
      },
      "source": [
        "#_Save Assets to Gdrive"
      ]
    },
    {
      "cell_type": "code",
      "metadata": {
        "id": "QmRPFUScCJXa"
      },
      "source": [
        "# this is for saving altair charts to png and svg, based on https://colab.research.google.com/github/altair-viz/altair_saver/blob/master/AltairSaver.ipynb#scrollTo=ZiTDBCAM_Ni8\n",
        "!pip install -q altair_saver\n",
        "!npm install --silent vega-lite vega-cli canvas"
      ],
      "execution_count": null,
      "outputs": []
    },
    {
      "cell_type": "code",
      "metadata": {
        "id": "j1ZCkQptCJXa"
      },
      "source": [
        "from pathlib import Path\n",
        "from altair_saver import save\n",
        "\n",
        "SAVE_PATH = Path('assets')\n",
        "SAVE_PATH.mkdir(exist_ok=True)\n",
        "\n",
        "# Import PyDrive and associated libraries.\n",
        "# This only needs to be done once per notebook.\n",
        "from pydrive.auth import GoogleAuth\n",
        "from pydrive.drive import GoogleDrive\n",
        "from google.colab import auth\n",
        "from oauth2client.client import GoogleCredentials\n",
        "\n",
        "# Authenticate and create the PyDrive client.\n",
        "# This only needs to be done once per notebook.\n",
        "auth.authenticate_user()\n",
        "gauth = GoogleAuth()\n",
        "gauth.credentials = GoogleCredentials.get_application_default()\n",
        "gdrive = GoogleDrive(gauth)"
      ],
      "execution_count": null,
      "outputs": []
    },
    {
      "cell_type": "code",
      "metadata": {
        "id": "8QaBAIVUUyTC"
      },
      "source": [
        "def assets_to_gdrive(folder_name, localdir_path = SAVE_PATH, parentdir_id='17Kx2uZbQv1r5U1M9x_OXS4lpMU5c6Ym8'):\n",
        "  # search gdrive for snapshot folder and save assets there if it already exists. \n",
        "  folder_id = ''\n",
        "  file_list = gdrive.ListFile({'q': f\"'{parentdir_id}' in parents and mimeType = 'application/vnd.google-apps.folder' and trashed=false\"}).GetList()\n",
        "  for file1 in file_list:\n",
        "      if file1['title'] == folder_name: \n",
        "        folder_id = file1['id']\n",
        "        print(f'Found pre-existing gdrive folder named \"{folder_name}\" at',folder_id)\n",
        "  # if not, create new folder\n",
        "  if folder_id == '':\n",
        "    folder = gdrive.CreateFile(metadata={'title': folder_name,\n",
        "                                      'parents':[{'id': parentdir_id}],\n",
        "                                      \"mimeType\": \"application/vnd.google-apps.folder\"\n",
        "                                      })\n",
        "    folder.Upload()\n",
        "    folder_id = folder.get('id')\n",
        "    print(f'Created new gdrive folder named \"{folder_name}\" at',folder_id)\n",
        "  \n",
        "  # upload all files within SAVE_PATH to snapshot folder\n",
        "  for asset_file in localdir_path.iterdir():\n",
        "    file_path = localdir_path/asset_file.name\n",
        "    file1 = gdrive.CreateFile(metadata={'title':asset_file.name,\n",
        "                                        'parents':[{'id': folder_id}],\n",
        "                                        })\n",
        "    file1.SetContentFile(file_path)\n",
        "    file1.Upload()\n",
        "    print('Saved file: ',asset_file.name)\n"
      ],
      "execution_count": null,
      "outputs": []
    },
    {
      "cell_type": "code",
      "metadata": {
        "id": "mT-qjS5SCJXb"
      },
      "source": [
        "def save_vizassets(chart, save_path, filename, fmts=['html','json','png','svg','pdf']):\n",
        "  for fmt in fmts:\n",
        "    save(chart, f'{save_path}/{filename}.{fmt}')"
      ],
      "execution_count": null,
      "outputs": []
    },
    {
      "cell_type": "code",
      "metadata": {
        "id": "491UPVxZCJXb"
      },
      "source": [
        "# put your stuff (i.e. dataframes, altair charts, input data files) to save here"
      ],
      "execution_count": null,
      "outputs": []
    },
    {
      "cell_type": "code",
      "metadata": {
        "id": "KChJeh4DCJXb"
      },
      "source": [
        "# examples:\n",
        "\n",
        "# cpr_df.to_csv(SAVE_PATH/'cpr_df.csv')\n",
        "# source_concat.to_csv(SAVE_PATH/'source_concat.csv')\n",
        "# save_vizassets(state_vax_scatter, SAVE_PATH, f'state_vax_scatter_{now_utc_timestamp}')"
      ],
      "execution_count": null,
      "outputs": []
    },
    {
      "cell_type": "code",
      "metadata": {
        "id": "McIHO-aaRRwR"
      },
      "source": [
        "# get the colab filename\n",
        "from requests import get\n",
        "nb_name = get('http://172.28.0.2:9000/api/sessions').json()[0]['name'].replace('.ipynb','')\n",
        "nb_id = get('http://172.28.0.2:9000/api/sessions').json()[0]['notebook']['path'].replace('fileId=','')\n",
        "\n",
        "print(SAVE_PATH, nb_name, now_utc_timestamp, nb_id)\n",
        "\n",
        "# create a snapshot of this currently running notebook and save to SAVE_PATH\n",
        "downloaded_nb = gdrive.CreateFile({'id':nb_id})   # replace the id with id of file you want to access\n",
        "downloaded_nb.GetContentFile(SAVE_PATH/f'{nb_name}_{now_utc_timestamp}.ipynb')"
      ],
      "execution_count": null,
      "outputs": []
    },
    {
      "cell_type": "code",
      "metadata": {
        "id": "qE5ei_hZWHKE"
      },
      "source": [
        "# upload everything to gdrive\n",
        "assets_to_gdrive(folder_name=f'{nb_name}_{now_utc_timestamp}')"
      ],
      "execution_count": null,
      "outputs": []
    }
  ]
}