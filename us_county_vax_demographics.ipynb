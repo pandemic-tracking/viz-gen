{
  "nbformat": 4,
  "nbformat_minor": 0,
  "metadata": {
    "colab": {
      "name": "us-county-vax-demographics.ipynb",
      "provenance": [],
      "authorship_tag": "ABX9TyOjhvOgih1wcrdTr9KRliwm",
      "include_colab_link": true
    },
    "kernelspec": {
      "name": "python3",
      "display_name": "Python 3"
    },
    "language_info": {
      "name": "python"
    }
  },
  "cells": [
    {
      "cell_type": "markdown",
      "metadata": {
        "id": "view-in-github",
        "colab_type": "text"
      },
      "source": [
        "<a href=\"https://colab.research.google.com/github/pandemic-tracking/viz-gen/blob/main/us_county_vax_demographics.ipynb\" target=\"_parent\"><img src=\"https://colab.research.google.com/assets/colab-badge.svg\" alt=\"Open In Colab\"/></a>"
      ]
    },
    {
      "cell_type": "code",
      "metadata": {
        "id": "Qe69RJM1AtCj"
      },
      "source": [
        ""
      ],
      "execution_count": null,
      "outputs": []
    },
    {
      "cell_type": "code",
      "metadata": {
        "id": "bVubUqiCBswo"
      },
      "source": [
        "import pandas as pd\n",
        "import numpy as np\n",
        "\n",
        "from datetime import datetime, timedelta\n",
        "import pytz\n",
        "\n",
        "import altair as alt\n",
        "from altair import datum\n",
        "alt.data_transformers.disable_max_rows()\n",
        "\n",
        "from pathlib import Path\n",
        "\n",
        "pd.set_option(\"display.precision\", 4)\n",
        "\n",
        "now_est = datetime.now().astimezone(pytz.timezone(\"US/Eastern\"))\n",
        "\n",
        "now_est_time = now_est.strftime(\"%Y-%m-%d, %H:%M:%S ET\")\n",
        "now_est_date = now_est.strftime(\"%Y-%m-%d\")\n",
        "now_est_timestamp = now_est.strftime(\"%Y%m%d_%H%M%S\")\n",
        "now_utc_timestamp = datetime.utcnow().strftime(\"%Y%m%d_%H%M%S\")\n",
        "print(now_est_time, now_est_date, now_est_timestamp, now_utc_timestamp)"
      ],
      "execution_count": null,
      "outputs": []
    },
    {
      "cell_type": "code",
      "metadata": {
        "id": "2FXe_rSxBswr"
      },
      "source": [
        "# adapting from https://towardsdatascience.com/consistently-beautiful-visualizations-with-altair-themes-c7f9f889602\n",
        "\n",
        "def ptc_theme():\n",
        "    axisColor = \"#808080\"\n",
        "    gridColor = \"#DEDDDD\"\n",
        "    markColor = \"#000000\"\n",
        "    font = 'Arial'\n",
        "    labelFont = 'Arial'\n",
        "    # Colors\n",
        "    # main_palette = [\"#1696d2\", \n",
        "    #                 \"#d2d2d2\",\n",
        "    #                 \"#000000\", \n",
        "    #                 \"#fdbf11\", \n",
        "    #                 \"#ec008b\", \n",
        "    #                 \"#55b748\", \n",
        "    #                 \"#5c5859\", \n",
        "    #                 \"#db2b27\", \n",
        "    #                ]\n",
        "    # sequential_palette = [\"#cfe8f3\", \n",
        "    #                       \"#a2d4ec\", \n",
        "    #                       \"#73bfe2\", \n",
        "    #                       \"#46abdb\", \n",
        "    #                       \"#1696d2\", \n",
        "    #                       \"#12719e\", \n",
        "    #                      ]\n",
        "    return {\n",
        "          \"config\": {\n",
        "              \"title\": {\n",
        "                  \"fontSize\": 20,\n",
        "                  \"font\": font,\n",
        "                  \"anchor\": \"start\", # equivalent of left-aligned.\n",
        "                  \"fontColor\": \"#000000\",\n",
        "                  \"fontWeight\": \"normal\",\n",
        "              },\n",
        "              \"text\": {\n",
        "                  \"font\": font,\n",
        "                  \"labelFont\": labelFont,\n",
        "              },\n",
        "              \"header\": {\n",
        "                  \"font\": font,\n",
        "                  \"labelFont\": labelFont,\n",
        "                  \"titleFont\": font,\n",
        "              },\n",
        "              \"axisX\": {\n",
        "                  \"domain\": False,\n",
        "                  \"domainColor\": axisColor,\n",
        "                  \"labelColor\": axisColor,\n",
        "                  \"domainWidth\": 1,\n",
        "                  \"grid\": False,\n",
        "                  \"labelFont\": labelFont,\n",
        "                  \"labelFontSize\": 12,\n",
        "                  \"labelAngle\": 0, \n",
        "                  \"tickColor\": axisColor,\n",
        "                  \"tickSize\": 5, # default, including it just to show you can change it\n",
        "                  \"titleFont\": font,\n",
        "                  \"titleFontSize\": 12,\n",
        "                  \"titlePadding\": 10, # guessing, not specified in styleguide\n",
        "                  \"title\": \"X Axis Title (units)\", \n",
        "              },\n",
        "              \"axisY\": {\n",
        "                  \"domain\": False,\n",
        "                  \"grid\": True,\n",
        "                  \"gridColor\": gridColor,\n",
        "                  \"gridWidth\": 1,\n",
        "                  \"labelFont\": labelFont,\n",
        "                  \"labelColor\": axisColor,\n",
        "                  \"labelFontSize\": 12,\n",
        "                  \"labelAngle\": 0,\n",
        "                  \"labelAnchor\": \"end\",\n",
        "                  \"labelAlign\": \"right\",  \n",
        "                  \"ticks\": False, # even if you don't have a \"domain\" you need to turn these off.\n",
        "                  \"titleFont\": font,\n",
        "                  \"titleFontSize\": 12,\n",
        "                  \"titlePadding\": 10, # guessing, not specified in styleguide\n",
        "                  \"title\": \"Y Axis Title (units)\", \n",
        "                  # titles are by default vertical left of axis so we need to hack this \n",
        "                  \"titleAngle\": 0, # horizontal\n",
        "                  \"titleY\": -10, # move it up\n",
        "                  \"titleX\": 18, # move it to the right so it aligns with the labels \n",
        "              },\n",
        "            #   \"range\": {\n",
        "            #       \"category\": main_palette,\n",
        "            #       \"diverging\": sequential_palette,\n",
        "            #   },\n",
        "              \"legend\": {\n",
        "                  \"labelFont\": labelFont,\n",
        "                  \"labelFontSize\": 12,\n",
        "                  \"symbolType\": \"circle\", # just 'cause\n",
        "                  \"symbolSize\": 100, # default\n",
        "                  \"titleFont\": font,\n",
        "                  \"titleFontSize\": 12,\n",
        "                  \"title\": \"\", # set it to no-title by default\n",
        "                  \"orient\": \"right\", # so it's right next to the y-axis\n",
        "                  \"offset\": 0, # literally right next to the y-axis.\n",
        "              },\n",
        "              \"view\": {\n",
        "                  \"stroke\": \"transparent\", # altair uses gridlines to box the area where the data is visualized. This takes that off.\n",
        "              },\n",
        "        }\n",
        "    }\n",
        "\n",
        "alt.themes.register(\"my_custom_theme\", ptc_theme)\n",
        "alt.themes.enable(\"my_custom_theme\")"
      ],
      "execution_count": null,
      "outputs": []
    },
    {
      "cell_type": "markdown",
      "metadata": {
        "id": "mtX9twuDB2wd"
      },
      "source": [
        "# Get CPR data"
      ]
    },
    {
      "cell_type": "code",
      "metadata": {
        "id": "s7zaXLjZB00l"
      },
      "source": [
        "from bs4 import BeautifulSoup\n",
        "import requests\n",
        "import re\n",
        "import pandas as pd\n",
        "\n",
        "req = requests.get('https://www.healthdata.gov/Health/COVID-19-Community-Profile-Report/gqxm-d9w9')\n",
        "soup = BeautifulSoup(req.content, 'html.parser')\n",
        "script = soup.find_all('script', type='text/javascript')[6]"
      ],
      "execution_count": null,
      "outputs": []
    },
    {
      "cell_type": "code",
      "metadata": {
        "id": "E58vdWUYB00o"
      },
      "source": [
        "re_results = re.findall(r'\"name\":\"Community_Profile_Report_\\d*_Public.xlsx\",\"href\":\"\\/api\\/views\\/gqxm-d9w9\\/files\\/\\w*-\\w*-\\w*-\\w*-\\w*.*?download=true', str(script))"
      ],
      "execution_count": null,
      "outputs": []
    },
    {
      "cell_type": "code",
      "metadata": {
        "id": "0AuCAeM9B00o"
      },
      "source": [
        "cpr_url_list = ['https://www.healthdata.gov'+s.split('\"href\":\"')[-1]\\\n",
        "                +'&filename=CPR_'+s.split('Community_Profile_Report_')[-1][:8]\\\n",
        "                +'.xlsx' for s in sorted(re_results, reverse=True)]\n",
        "cpr_url_list[:10]"
      ],
      "execution_count": null,
      "outputs": []
    },
    {
      "cell_type": "code",
      "metadata": {
        "id": "9FNCuBy9B00p"
      },
      "source": [
        "cpr_url = cpr_url_list[0]\n",
        "cpr_county_df = pd.read_excel(cpr_url, sheet_name='Counties', header=1)\n",
        "cpr_county_df['fips_code'] = cpr_county_df['FIPS code'].astype(str).apply(lambda x: x.zfill(5))\n",
        "\n",
        "cpr_state_df = pd.read_excel(cpr_url, sheet_name='States', header=1)"
      ],
      "execution_count": null,
      "outputs": []
    },
    {
      "cell_type": "markdown",
      "metadata": {
        "id": "2pgem6MACJOv"
      },
      "source": [
        "# County Plots"
      ]
    },
    {
      "cell_type": "code",
      "metadata": {
        "id": "bF3Gbl2BosVB"
      },
      "source": [
        "census_divisions_dict = {\n",
        "'Northeast (New England)' : ['CT','ME','MA','NH','RI','VT'],\n",
        "'Northeast (Mid-Atlantic)' : ['NJ','NY','PA'],\n",
        "'Midwest (East North Central)' : ['IN','IL','MI','OH','WI'],\n",
        "'Midwest (West North Central)' : ['IA','KS','MN','MO','NE','ND','SD'],\n",
        "'South (South Atlantic)' : ['DE','MD','DC','VA','WV','NC','SC','GA','FL'],\n",
        "'South (East South Central)' : ['AL','KY','MS','TN'],\n",
        "'South (West South Central)' : ['AR','LA','OK','TX'],\n",
        "'West (Mountain)' : ['AZ','CO','ID','NM','MT','UT','NV','WY'],\n",
        "'West (Pacific)' : ['AK','CA','HI','OR','WA']\n",
        "}"
      ],
      "execution_count": null,
      "outputs": []
    },
    {
      "cell_type": "code",
      "metadata": {
        "id": "Hd_oLO3AURuO"
      },
      "source": [
        "region_northeast = census_divisions_dict['Northeast (New England)'] + census_divisions_dict['Northeast (Mid-Atlantic)']\n",
        "region_midwest = census_divisions_dict['Midwest (East North Central)'] + census_divisions_dict['Midwest (West North Central)']\n",
        "region_south = census_divisions_dict['South (South Atlantic)'] + census_divisions_dict['South (East South Central)'] + census_divisions_dict['South (West South Central)']\n",
        "region_west = census_divisions_dict['West (Mountain)'] + census_divisions_dict['West (Pacific)']"
      ],
      "execution_count": null,
      "outputs": []
    },
    {
      "cell_type": "code",
      "metadata": {
        "id": "Uwr7wUX6UwwA"
      },
      "source": [
        "def assign_region(row, state_col='state'):\n",
        "    if row[state_col] in region_northeast:\n",
        "        return 'Northeast'\n",
        "    elif row[state_col] in region_midwest: return 'Midwest'\n",
        "    elif row[state_col] in region_south: return 'South'\n",
        "    elif row[state_col] in region_west: return 'West'\n",
        "    else: return 'Other'\n",
        "    "
      ],
      "execution_count": null,
      "outputs": []
    },
    {
      "cell_type": "code",
      "metadata": {
        "id": "eNW2_BTKk4cY"
      },
      "source": [
        "county_source = cpr_county_df[['State Abbreviation','County','fips_code','SVI score','CCVI score','County type','FEMA region',\n",
        "                               'Cases per 100k - last 7 days','Cases - last 7 days',\n",
        "                                '% In Poverty','% Uninsured',\n",
        "                               '% Non-Hispanic Black','People who are fully vaccinated as % of total population','Population']]"
      ],
      "execution_count": null,
      "outputs": []
    },
    {
      "cell_type": "code",
      "metadata": {
        "id": "_ButcsG5wYDO"
      },
      "source": [
        "# exclude these for low reporting (and PR because it's not in the 4 census regions)\n",
        "county_source = county_source[~county_source['State Abbreviation'].isin(['GA','WV','HI','VT','PR'])]"
      ],
      "execution_count": null,
      "outputs": []
    },
    {
      "cell_type": "code",
      "metadata": {
        "id": "H5U4zKdxU6lf"
      },
      "source": [
        "# exclude 3 counties in MA that are anomalously low in their % vax number\n",
        "county_source = county_source[~county_source['fips_code'].isin(['25001','25019','25007'])]"
      ],
      "execution_count": null,
      "outputs": []
    },
    {
      "cell_type": "code",
      "metadata": {
        "id": "lqdpM0gFbGZ0"
      },
      "source": [
        "from functools import partial\n",
        "\n",
        "assign_reg = partial(assign_region, state_col='State Abbreviation')\n",
        "\n",
        "county_source['region'] = county_source.apply(assign_reg, axis=1)"
      ],
      "execution_count": null,
      "outputs": []
    },
    {
      "cell_type": "code",
      "metadata": {
        "id": "8clvABZeC5Eh"
      },
      "source": [
        "select_county = alt.selection_multi(fields=['fips_code'], empty='none', init=[{'fips_code':'22061'}])\n",
        "select_type = alt.selection_multi(fields=['County type'], bind='legend')\n",
        "\n",
        "def make_chart(y_col, format='.0%', scale_domain=[0, 0.5], legend=None):\n",
        "  chart = alt.layer(\n",
        "      alt.Chart(county_source).mark_rule(color='#DEDDDD').encode(\n",
        "        x=alt.X('line:Q'),\n",
        "      ).transform_calculate(\n",
        "        line='.5')#.transform_filter(alt.datum.date=='22061')\n",
        "      +\n",
        "      alt.Chart(county_source).mark_point(clip=True, size=50, shape='circle', filled=True, stroke='black', opacity=0.5).encode(\n",
        "        x=alt.X('People who are fully vaccinated as % of total population', \n",
        "                scale=alt.Scale(domain=[0.1,0.9], clamp=False),\n",
        "                axis=alt.Axis(format='.0%', values=[.2,.5,.8,], ticks=False, grid=False), title=None),\n",
        "        y=alt.Y(y_col, title=y_col, scale=alt.Scale(domain=scale_domain), \n",
        "                axis=alt.Axis(format=format, tickCount=3, ticks=False, grid=True), ),\n",
        "        color=alt.condition(select_type, \n",
        "                            alt.Color('County type:N', legend=legend, \n",
        "                                      scale=alt.Scale(domain=['Large central metro','Large fringe metro','Medium metro','Small metro','Micropolitan','Non-core'],\n",
        "                                                      range=['#3b00bc','#3b00bc','#ff9000','#ff9000','green','green']),\n",
        "                                                        ),\n",
        "                            alt.value('black')\n",
        "                            ),\n",
        "        size=alt.Size('Population', legend=legend, \n",
        "                      scale=alt.Scale(domain=[1,2.5e6], range=[10,150])),\n",
        "        opacity=alt.condition(select_type, alt.value(.7), alt.value(0.2)),\n",
        "        strokeWidth=alt.condition(select_county, alt.value(2), alt.value(0.)),      \n",
        "        strokeOpacity=alt.value(1),\n",
        "        tooltip=['County','CCVI score','SVI score','% In Poverty', 'County type', 'Cases per 100k - last 7 days','People who are fully vaccinated as % of total population']\n",
        "      )\n",
        "    ).properties(height=250, width=250)\n",
        "\n",
        "  return chart\n",
        "\n",
        "county_chart = make_chart('% In Poverty').add_selection(select_county).add_selection(select_type).facet(alt.Facet('region', sort=['Northeast','South','Midwest','West'], title=None), columns=4)\n",
        "\n",
        "county_chart2 = make_chart('% Uninsured').add_selection(select_county).add_selection(select_type).facet(alt.Facet('region', sort=['Northeast','South','Midwest','West'], title=None), columns=4)\n",
        "\n",
        "county_chart3 = make_chart('CCVI score', '.1f', scale_domain=[0,1]).add_selection(select_county).add_selection(select_type).facet(alt.Facet('region', sort=['Northeast','South','Midwest','West'], title=None), columns=4)\n",
        "\n",
        "county_chart4 = make_chart('SVI score', scale_domain=[0,1]).add_selection(select_county).add_selection(select_type).facet(alt.Facet('region', sort=['Northeast','South','Midwest','West'], title=None), columns=4)\n",
        "\n",
        "county_chart5 = make_chart('% Non-Hispanic Black', scale_domain=[0,1]).add_selection(select_county).add_selection(select_type).facet(alt.Facet('region', sort=['Northeast','South','Midwest','West'], title=None), columns=4)\n",
        "\n",
        "county_chart"
      ],
      "execution_count": null,
      "outputs": []
    },
    {
      "cell_type": "code",
      "metadata": {
        "id": "FzAPe0dWDB7T"
      },
      "source": [
        "county_chart2"
      ],
      "execution_count": null,
      "outputs": []
    },
    {
      "cell_type": "code",
      "metadata": {
        "id": "_FJBOoSutAjm"
      },
      "source": [
        "county_chart3"
      ],
      "execution_count": null,
      "outputs": []
    },
    {
      "cell_type": "code",
      "metadata": {
        "id": "yCTiPbUf9A7v"
      },
      "source": [
        "county_chart4"
      ],
      "execution_count": null,
      "outputs": []
    },
    {
      "cell_type": "code",
      "metadata": {
        "id": "On7uMwB1DJBy"
      },
      "source": [
        "county_chart5"
      ],
      "execution_count": null,
      "outputs": []
    },
    {
      "cell_type": "code",
      "metadata": {
        "id": "wXREeHfODKaZ"
      },
      "source": [
        "viz_pub = alt.vconcat(county_chart, county_chart3).properties(title=['Fully Vaccinated % of U.S. Counties by Poverty and Vulnerability Levels','']).configure_axisY(titleColor='grey', titleX=-10)\n",
        "viz_pub"
      ],
      "execution_count": null,
      "outputs": []
    },
    {
      "cell_type": "code",
      "metadata": {
        "id": "OXiy7wkwDUBS"
      },
      "source": [
        "county_source[county_source['fips_code'] == '22061']"
      ],
      "execution_count": null,
      "outputs": []
    },
    {
      "cell_type": "markdown",
      "metadata": {
        "id": "8hir0jydkkZI"
      },
      "source": [
        "# Save to Drive"
      ]
    },
    {
      "cell_type": "code",
      "metadata": {
        "id": "TCz2L8KRkmqR"
      },
      "source": [
        "# this is for saving altair charts to png and svg, based on https://colab.research.google.com/github/altair-viz/altair_saver/blob/master/AltairSaver.ipynb#scrollTo=ZiTDBCAM_Ni8\n",
        "!pip install -q altair_saver\n",
        "!npm install --silent vega-lite vega-cli canvas"
      ],
      "execution_count": null,
      "outputs": []
    },
    {
      "cell_type": "code",
      "metadata": {
        "id": "Y-zUa81okmqR"
      },
      "source": [
        "from pathlib import Path\n",
        "from altair_saver import save\n",
        "\n",
        "SAVE_PATH = Path('assets')\n",
        "SAVE_PATH.mkdir(exist_ok=True)\n",
        "\n",
        "# Import PyDrive and associated libraries.\n",
        "# This only needs to be done once per notebook.\n",
        "from pydrive.auth import GoogleAuth\n",
        "from pydrive.drive import GoogleDrive\n",
        "from google.colab import auth\n",
        "from oauth2client.client import GoogleCredentials\n",
        "\n",
        "# Authenticate and create the PyDrive client.\n",
        "# This only needs to be done once per notebook.\n",
        "auth.authenticate_user()\n",
        "gauth = GoogleAuth()\n",
        "gauth.credentials = GoogleCredentials.get_application_default()\n",
        "gdrive = GoogleDrive(gauth)"
      ],
      "execution_count": null,
      "outputs": []
    },
    {
      "cell_type": "code",
      "metadata": {
        "id": "eyJCmp32kmqR"
      },
      "source": [
        "def assets_to_gdrive(folder_name, localdir_path = SAVE_PATH, parentdir_id='17Kx2uZbQv1r5U1M9x_OXS4lpMU5c6Ym8'):\n",
        "  # search gdrive for snapshot folder and save assets there if it already exists. \n",
        "  folder_id = ''\n",
        "  file_list = gdrive.ListFile({'q': f\"'{parentdir_id}' in parents and mimeType = 'application/vnd.google-apps.folder' and trashed=false\"}).GetList()\n",
        "  for file1 in file_list:\n",
        "      if file1['title'] == folder_name: \n",
        "        folder_id = file1['id']\n",
        "        print(f'Found pre-existing gdrive folder named \"{folder_name}\" at',folder_id)\n",
        "  # if not, create new folder\n",
        "  if folder_id == '':\n",
        "    folder = gdrive.CreateFile(metadata={'title': folder_name,\n",
        "                                      'parents':[{'id': parentdir_id}],\n",
        "                                      \"mimeType\": \"application/vnd.google-apps.folder\"\n",
        "                                      })\n",
        "    folder.Upload()\n",
        "    folder_id = folder.get('id')\n",
        "    print(f'Created new gdrive folder named \"{folder_name}\" at',folder_id)\n",
        "  \n",
        "  # upload all files within SAVE_PATH to snapshot folder\n",
        "  for asset_file in localdir_path.iterdir():\n",
        "    file_path = localdir_path/asset_file.name\n",
        "    file1 = gdrive.CreateFile(metadata={'title':asset_file.name,\n",
        "                                        'parents':[{'id': folder_id}],\n",
        "                                        })\n",
        "    file1.SetContentFile(file_path)\n",
        "    file1.Upload()\n",
        "    print('Saved file: ',asset_file.name)\n"
      ],
      "execution_count": null,
      "outputs": []
    },
    {
      "cell_type": "code",
      "metadata": {
        "id": "bGANju8lkmqR"
      },
      "source": [
        "def save_vizassets(chart, save_path, filename, fmts=['html','json','png','svg','pdf']):\n",
        "  for fmt in fmts:\n",
        "    save(chart, f'{save_path}/{filename}.{fmt}')"
      ],
      "execution_count": null,
      "outputs": []
    },
    {
      "cell_type": "code",
      "metadata": {
        "id": "S96IQSAlkmqS"
      },
      "source": [
        "# put your stuff (i.e. dataframes, altair charts, input data files) to save here"
      ],
      "execution_count": null,
      "outputs": []
    },
    {
      "cell_type": "code",
      "metadata": {
        "id": "AGA6RJDUkmqS"
      },
      "source": [
        "county_source.to_csv(SAVE_PATH/'county_source.csv')\n",
        "cpr_county_df.to_csv(SAVE_PATH/'cpr_county_df.csv')\n",
        "save_vizassets(viz_pub, SAVE_PATH, f'us-county-vax-demographics_{now_utc_timestamp}')"
      ],
      "execution_count": null,
      "outputs": []
    },
    {
      "cell_type": "code",
      "metadata": {
        "id": "fZsovrWJkmqS"
      },
      "source": [
        "# get the colab filename\n",
        "from requests import get\n",
        "nb_name = get('http://172.28.0.2:9000/api/sessions').json()[0]['name'].replace('.ipynb','')\n",
        "nb_id = get('http://172.28.0.2:9000/api/sessions').json()[0]['notebook']['path'].replace('fileId=','')\n",
        "\n",
        "print(SAVE_PATH, nb_name, now_utc_timestamp, nb_id)\n",
        "\n",
        "# create a snapshot of this currently running notebook and save to SAVE_PATH\n",
        "downloaded_nb = gdrive.CreateFile({'id':nb_id})   # replace the id with id of file you want to access\n",
        "downloaded_nb.GetContentFile(SAVE_PATH/f'{nb_name}_{now_utc_timestamp}.ipynb')"
      ],
      "execution_count": null,
      "outputs": []
    },
    {
      "cell_type": "code",
      "metadata": {
        "id": "1dFGB48vkmqS"
      },
      "source": [
        "# upload everything to gdrive\n",
        "assets_to_gdrive(folder_name=f'{nb_name}_{now_utc_timestamp}')"
      ],
      "execution_count": null,
      "outputs": []
    },
    {
      "cell_type": "code",
      "metadata": {
        "id": "XgEsdGhZlTyZ"
      },
      "source": [
        ""
      ],
      "execution_count": null,
      "outputs": []
    }
  ]
}